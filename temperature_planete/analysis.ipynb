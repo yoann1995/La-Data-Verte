{
 "cells": [
  {
   "cell_type": "code",
   "execution_count": 1,
   "metadata": {},
   "outputs": [],
   "source": [
    "import pandas as pd\n",
    "import seaborn as sns; sns.set()\n",
    "import matplotlib.pyplot as plt\n",
    "import matplotlib.ticker as ticker\n",
    "import json\n",
    "import plotly.express as px\n",
    "import plotly.graph_objects as go\n",
    "from plotly.subplots import make_subplots\n",
    "import warnings\n",
    "from geojson import dump\n",
    "warnings.filterwarnings('ignore')"
   ]
  },
  {
   "cell_type": "markdown",
   "metadata": {},
   "source": [
    "# Récuperation des données"
   ]
  },
  {
   "cell_type": "code",
   "execution_count": 2,
   "metadata": {},
   "outputs": [],
   "source": [
    "temperatureByCity = pd.read_csv(\"GlobalLandTemperaturesByCity.csv\", encoding=\"utf-8\")\n",
    "temperatureByCountry = pd.read_csv(\"GlobalLandTemperaturesByCountry.csv\", encoding=\"utf-8\")\n",
    "temperatureEarth = pd.read_csv(\"GlobalTemperatures.csv\", encoding=\"utf-8\")\n"
   ]
  },
  {
   "cell_type": "code",
   "execution_count": 3,
   "metadata": {},
   "outputs": [
    {
     "data": {
      "text/html": "<div>\n<style scoped>\n    .dataframe tbody tr th:only-of-type {\n        vertical-align: middle;\n    }\n\n    .dataframe tbody tr th {\n        vertical-align: top;\n    }\n\n    .dataframe thead th {\n        text-align: right;\n    }\n</style>\n<table border=\"1\" class=\"dataframe\">\n  <thead>\n    <tr style=\"text-align: right;\">\n      <th></th>\n      <th>dt</th>\n      <th>LandAverageTemperature</th>\n      <th>LandAverageTemperatureUncertainty</th>\n      <th>LandMaxTemperature</th>\n      <th>LandMaxTemperatureUncertainty</th>\n      <th>LandMinTemperature</th>\n      <th>LandMinTemperatureUncertainty</th>\n      <th>LandAndOceanAverageTemperature</th>\n      <th>LandAndOceanAverageTemperatureUncertainty</th>\n    </tr>\n  </thead>\n  <tbody>\n    <tr>\n      <th>0</th>\n      <td>1750-01-01</td>\n      <td>3.034</td>\n      <td>3.574</td>\n      <td>NaN</td>\n      <td>NaN</td>\n      <td>NaN</td>\n      <td>NaN</td>\n      <td>NaN</td>\n      <td>NaN</td>\n    </tr>\n    <tr>\n      <th>1</th>\n      <td>1750-02-01</td>\n      <td>3.083</td>\n      <td>3.702</td>\n      <td>NaN</td>\n      <td>NaN</td>\n      <td>NaN</td>\n      <td>NaN</td>\n      <td>NaN</td>\n      <td>NaN</td>\n    </tr>\n    <tr>\n      <th>2</th>\n      <td>1750-03-01</td>\n      <td>5.626</td>\n      <td>3.076</td>\n      <td>NaN</td>\n      <td>NaN</td>\n      <td>NaN</td>\n      <td>NaN</td>\n      <td>NaN</td>\n      <td>NaN</td>\n    </tr>\n    <tr>\n      <th>3</th>\n      <td>1750-04-01</td>\n      <td>8.490</td>\n      <td>2.451</td>\n      <td>NaN</td>\n      <td>NaN</td>\n      <td>NaN</td>\n      <td>NaN</td>\n      <td>NaN</td>\n      <td>NaN</td>\n    </tr>\n    <tr>\n      <th>4</th>\n      <td>1750-05-01</td>\n      <td>11.573</td>\n      <td>2.072</td>\n      <td>NaN</td>\n      <td>NaN</td>\n      <td>NaN</td>\n      <td>NaN</td>\n      <td>NaN</td>\n      <td>NaN</td>\n    </tr>\n  </tbody>\n</table>\n</div>",
      "text/plain": "           dt  LandAverageTemperature  LandAverageTemperatureUncertainty  \\\n0  1750-01-01                   3.034                              3.574   \n1  1750-02-01                   3.083                              3.702   \n2  1750-03-01                   5.626                              3.076   \n3  1750-04-01                   8.490                              2.451   \n4  1750-05-01                  11.573                              2.072   \n\n   LandMaxTemperature  LandMaxTemperatureUncertainty  LandMinTemperature  \\\n0                 NaN                            NaN                 NaN   \n1                 NaN                            NaN                 NaN   \n2                 NaN                            NaN                 NaN   \n3                 NaN                            NaN                 NaN   \n4                 NaN                            NaN                 NaN   \n\n   LandMinTemperatureUncertainty  LandAndOceanAverageTemperature  \\\n0                            NaN                             NaN   \n1                            NaN                             NaN   \n2                            NaN                             NaN   \n3                            NaN                             NaN   \n4                            NaN                             NaN   \n\n   LandAndOceanAverageTemperatureUncertainty  \n0                                        NaN  \n1                                        NaN  \n2                                        NaN  \n3                                        NaN  \n4                                        NaN  "
     },
     "execution_count": 3,
     "metadata": {},
     "output_type": "execute_result"
    }
   ],
   "source": [
    "temperatureEarth.head()"
   ]
  },
  {
   "cell_type": "code",
   "execution_count": 4,
   "metadata": {},
   "outputs": [],
   "source": [
    "def remove_outliers(df,col):\n",
    "    q_low = df[col].quantile(0.01)\n",
    "    q_hi  = df[col].quantile(0.99)\n",
    "    df_filtered = df[(df[col] < q_hi) & (df[col] > q_low)]\n",
    "    return df_filtered"
   ]
  },
  {
   "cell_type": "markdown",
   "metadata": {},
   "source": [
    "# Temperature moyenne par an dans le monde"
   ]
  },
  {
   "cell_type": "code",
   "execution_count": 5,
   "metadata": {},
   "outputs": [],
   "source": [
    "temperatureEarth['year'] = [val[0:4] for val in temperatureEarth['dt']]\n",
    "temperatureEarth = temperatureEarth.groupby('year').mean().reset_index()\n",
    "temperatureEarth = remove_outliers(temperatureEarth,\"LandAverageTemperature\")\n",
    "temperatureEarth.to_csv('output_data/temperatureEarth.csv')"
   ]
  },
  {
   "cell_type": "code",
   "execution_count": 6,
   "metadata": {},
   "outputs": [
    {
     "data": {
      "application/vnd.plotly.v1+json": {
       "config": {
        "plotlyServerURL": "https://plot.ly"
       },
       "data": [
        {
         "hoverlabel": {
          "namelength": 0
         },
         "hovertemplate": "year=%{x}<br>LandAverageTemperature=%{y}",
         "legendgroup": "",
         "marker": {
          "color": "#636efa",
          "symbol": "circle"
         },
         "mode": "markers",
         "name": "",
         "showlegend": false,
         "type": "scatter",
         "x": [
          "1750",
          "1751",
          "1753",
          "1754",
          "1755",
          "1756",
          "1757",
          "1759",
          "1760",
          "1761",
          "1762",
          "1763",
          "1764",
          "1765",
          "1766",
          "1767",
          "1769",
          "1770",
          "1771",
          "1772",
          "1773",
          "1774",
          "1775",
          "1776",
          "1777",
          "1778",
          "1779",
          "1780",
          "1781",
          "1782",
          "1783",
          "1784",
          "1785",
          "1786",
          "1787",
          "1788",
          "1789",
          "1790",
          "1791",
          "1792",
          "1793",
          "1794",
          "1795",
          "1796",
          "1797",
          "1798",
          "1799",
          "1800",
          "1801",
          "1802",
          "1803",
          "1804",
          "1805",
          "1806",
          "1807",
          "1808",
          "1809",
          "1810",
          "1811",
          "1812",
          "1813",
          "1814",
          "1815",
          "1816",
          "1817",
          "1818",
          "1819",
          "1820",
          "1821",
          "1822",
          "1823",
          "1824",
          "1825",
          "1826",
          "1827",
          "1828",
          "1829",
          "1830",
          "1831",
          "1832",
          "1833",
          "1834",
          "1835",
          "1836",
          "1837",
          "1838",
          "1839",
          "1840",
          "1841",
          "1842",
          "1843",
          "1844",
          "1845",
          "1846",
          "1847",
          "1848",
          "1849",
          "1850",
          "1851",
          "1852",
          "1853",
          "1854",
          "1855",
          "1856",
          "1857",
          "1858",
          "1859",
          "1860",
          "1861",
          "1862",
          "1863",
          "1864",
          "1865",
          "1866",
          "1867",
          "1868",
          "1869",
          "1870",
          "1871",
          "1872",
          "1873",
          "1874",
          "1875",
          "1876",
          "1877",
          "1878",
          "1879",
          "1880",
          "1881",
          "1882",
          "1883",
          "1884",
          "1885",
          "1886",
          "1887",
          "1888",
          "1889",
          "1890",
          "1891",
          "1892",
          "1893",
          "1894",
          "1895",
          "1896",
          "1897",
          "1898",
          "1899",
          "1900",
          "1901",
          "1902",
          "1903",
          "1904",
          "1905",
          "1906",
          "1907",
          "1908",
          "1909",
          "1910",
          "1911",
          "1912",
          "1913",
          "1914",
          "1915",
          "1916",
          "1917",
          "1918",
          "1919",
          "1920",
          "1921",
          "1922",
          "1923",
          "1924",
          "1925",
          "1926",
          "1927",
          "1928",
          "1929",
          "1930",
          "1931",
          "1932",
          "1933",
          "1934",
          "1935",
          "1936",
          "1937",
          "1938",
          "1939",
          "1940",
          "1941",
          "1942",
          "1943",
          "1944",
          "1945",
          "1946",
          "1947",
          "1948",
          "1949",
          "1950",
          "1951",
          "1952",
          "1953",
          "1954",
          "1955",
          "1956",
          "1957",
          "1958",
          "1959",
          "1960",
          "1961",
          "1962",
          "1963",
          "1964",
          "1965",
          "1966",
          "1967",
          "1968",
          "1969",
          "1970",
          "1971",
          "1972",
          "1973",
          "1974",
          "1975",
          "1976",
          "1977",
          "1978",
          "1979",
          "1980",
          "1981",
          "1982",
          "1983",
          "1984",
          "1985",
          "1986",
          "1987",
          "1988",
          "1989",
          "1990",
          "1991",
          "1992",
          "1993",
          "1994",
          "1995",
          "1996",
          "1997",
          "1998",
          "1999",
          "2000",
          "2001",
          "2002",
          "2003",
          "2004",
          "2005",
          "2006",
          "2008",
          "2009",
          "2011",
          "2012",
          "2013",
          "2014"
         ],
         "xaxis": "x",
         "y": [
          8.719363636363637,
          7.9761428571428565,
          8.388083333333332,
          8.469333333333335,
          8.355583333333334,
          8.849583333333333,
          9.022,
          7.985083333333333,
          7.185166666666667,
          8.772499999999999,
          8.6065,
          7.496749999999999,
          8.400333333333332,
          8.251916666666666,
          8.405666666666667,
          8.221499999999999,
          7.694583333333334,
          7.691916666666667,
          7.8531666666666675,
          8.1935,
          8.2215,
          8.772166666666665,
          9.183083333333334,
          8.304,
          8.256250000000001,
          8.54225,
          8.98325,
          9.432916666666667,
          8.102583333333332,
          7.901249999999998,
          7.680833333333333,
          7.862000000000001,
          7.3629999999999995,
          8.258166666666666,
          8.031833333333333,
          8.447166666666666,
          8.334166666666667,
          7.982333333333333,
          8.23425,
          8.089,
          8.229166666666666,
          8.526000000000002,
          8.350333333333333,
          8.270999999999999,
          8.510583333333335,
          8.67025,
          8.505749999999999,
          8.484250000000001,
          8.589666666666668,
          8.578166666666666,
          8.503,
          8.844833333333334,
          8.56275,
          8.434083333333332,
          8.281416666666665,
          7.626833333333333,
          7.076416666666667,
          6.922666666666665,
          6.859500000000001,
          7.046250000000001,
          7.7399166666666686,
          7.59175,
          7.239333333333334,
          6.9375,
          6.975666666666668,
          7.828916666666667,
          7.3691666666666675,
          7.616249999999998,
          8.090083333333332,
          8.188333333333334,
          7.7186666666666675,
          8.547166666666667,
          8.389333333333333,
          8.356583333333335,
          8.808749999999998,
          8.165333333333335,
          7.941833333333332,
          8.51675,
          7.639166666666667,
          7.450166666666667,
          8.013,
          8.14675,
          7.392499999999999,
          7.695833333333334,
          7.375666666666665,
          7.514916666666665,
          7.632249999999999,
          7.796250000000001,
          7.688166666666667,
          8.02275,
          8.173666666666666,
          7.646333333333334,
          7.851166666666668,
          8.55275,
          8.086,
          7.979500000000001,
          7.984416666666667,
          7.900666666666666,
          8.178583333333332,
          8.100166666666665,
          8.041833333333333,
          8.2105,
          8.110749999999998,
          7.995916666666666,
          7.758166666666668,
          8.10025,
          8.252,
          7.960833333333333,
          7.846500000000002,
          7.558583333333334,
          8.111833333333333,
          7.983583333333335,
          8.177833333333334,
          8.292166666666665,
          8.436333333333334,
          8.247916666666667,
          8.432083333333333,
          8.201333333333332,
          8.115083333333333,
          8.193833333333332,
          8.351083333333333,
          8.4335,
          7.859583333333334,
          8.080083333333333,
          8.539583333333333,
          8.829749999999999,
          8.165833333333333,
          8.118749999999999,
          8.270916666666666,
          8.128916666666667,
          7.976916666666665,
          7.773666666666667,
          7.919666666666668,
          7.954499999999999,
          7.914916666666667,
          8.0905,
          8.318999999999999,
          7.971666666666667,
          8.019333333333334,
          8.065833333333332,
          8.05675,
          8.161,
          8.147,
          8.214916666666666,
          8.293333333333335,
          8.177999999999999,
          8.396333333333333,
          8.501583333333333,
          8.541916666666665,
          8.304416666666667,
          8.220166666666668,
          8.090916666666667,
          8.225166666666665,
          8.379083333333332,
          7.947166666666667,
          8.186083333333334,
          8.17825,
          8.223,
          8.177000000000001,
          8.165416666666667,
          8.297749999999999,
          8.5905,
          8.593166666666665,
          8.22525,
          8.023333333333332,
          8.130833333333332,
          8.38225,
          8.35875,
          8.571,
          8.408,
          8.422166666666666,
          8.506833333333335,
          8.534416666666667,
          8.728833333333332,
          8.522083333333333,
          8.632166666666668,
          8.242416666666665,
          8.633583333333332,
          8.71925,
          8.705250000000001,
          8.33825,
          8.628333333333336,
          8.51575,
          8.554,
          8.698333333333332,
          8.863666666666665,
          8.760333333333334,
          8.764666666666667,
          8.768666666666668,
          8.728416666666666,
          8.755083333333333,
          8.845,
          8.584833333333332,
          8.676916666666669,
          8.797083333333333,
          8.74675,
          8.586749999999999,
          8.365250000000001,
          8.625666666666666,
          8.638250000000001,
          8.873750000000001,
          8.560666666666666,
          8.62625,
          8.279583333333333,
          8.7325,
          8.77375,
          8.732666666666665,
          8.58375,
          8.797666666666666,
          8.745916666666666,
          8.856,
          8.409666666666666,
          8.527416666666667,
          8.599333333333332,
          8.700083333333334,
          8.516333333333334,
          8.595083333333333,
          8.700916666666666,
          8.59925,
          8.499583333333334,
          8.948249999999998,
          8.4675,
          8.744833333333334,
          8.347249999999999,
          8.850249999999999,
          8.692749999999998,
          8.733416666666665,
          8.980333333333332,
          9.165833333333333,
          8.639166666666666,
          9.028166666666666,
          8.691833333333335,
          8.658,
          8.833583333333332,
          8.994416666666668,
          9.201583333333334,
          8.921999999999999,
          9.234166666666667,
          9.179416666666667,
          8.836583333333332,
          8.866583333333333,
          9.038749999999999,
          9.347083333333332,
          9.038916666666667,
          9.202583333333333,
          9.522666666666666,
          9.285083333333333,
          9.201166666666667,
          9.414583333333335,
          9.570416666666667,
          9.525583333333334,
          9.324583333333333,
          9.700916666666666,
          9.532499999999999,
          9.431750000000001,
          9.505250000000002,
          9.516,
          9.507333333333333,
          9.606499999999999,
          9.570666666666666
         ],
         "yaxis": "y"
        }
       ],
       "layout": {
        "legend": {
         "tracegroupgap": 0
        },
        "margin": {
         "t": 60
        },
        "template": {
         "data": {
          "bar": [
           {
            "error_x": {
             "color": "#2a3f5f"
            },
            "error_y": {
             "color": "#2a3f5f"
            },
            "marker": {
             "line": {
              "color": "#E5ECF6",
              "width": 0.5
             }
            },
            "type": "bar"
           }
          ],
          "barpolar": [
           {
            "marker": {
             "line": {
              "color": "#E5ECF6",
              "width": 0.5
             }
            },
            "type": "barpolar"
           }
          ],
          "carpet": [
           {
            "aaxis": {
             "endlinecolor": "#2a3f5f",
             "gridcolor": "white",
             "linecolor": "white",
             "minorgridcolor": "white",
             "startlinecolor": "#2a3f5f"
            },
            "baxis": {
             "endlinecolor": "#2a3f5f",
             "gridcolor": "white",
             "linecolor": "white",
             "minorgridcolor": "white",
             "startlinecolor": "#2a3f5f"
            },
            "type": "carpet"
           }
          ],
          "choropleth": [
           {
            "colorbar": {
             "outlinewidth": 0,
             "ticks": ""
            },
            "type": "choropleth"
           }
          ],
          "contour": [
           {
            "colorbar": {
             "outlinewidth": 0,
             "ticks": ""
            },
            "colorscale": [
             [
              0,
              "#0d0887"
             ],
             [
              0.1111111111111111,
              "#46039f"
             ],
             [
              0.2222222222222222,
              "#7201a8"
             ],
             [
              0.3333333333333333,
              "#9c179e"
             ],
             [
              0.4444444444444444,
              "#bd3786"
             ],
             [
              0.5555555555555556,
              "#d8576b"
             ],
             [
              0.6666666666666666,
              "#ed7953"
             ],
             [
              0.7777777777777778,
              "#fb9f3a"
             ],
             [
              0.8888888888888888,
              "#fdca26"
             ],
             [
              1,
              "#f0f921"
             ]
            ],
            "type": "contour"
           }
          ],
          "contourcarpet": [
           {
            "colorbar": {
             "outlinewidth": 0,
             "ticks": ""
            },
            "type": "contourcarpet"
           }
          ],
          "heatmap": [
           {
            "colorbar": {
             "outlinewidth": 0,
             "ticks": ""
            },
            "colorscale": [
             [
              0,
              "#0d0887"
             ],
             [
              0.1111111111111111,
              "#46039f"
             ],
             [
              0.2222222222222222,
              "#7201a8"
             ],
             [
              0.3333333333333333,
              "#9c179e"
             ],
             [
              0.4444444444444444,
              "#bd3786"
             ],
             [
              0.5555555555555556,
              "#d8576b"
             ],
             [
              0.6666666666666666,
              "#ed7953"
             ],
             [
              0.7777777777777778,
              "#fb9f3a"
             ],
             [
              0.8888888888888888,
              "#fdca26"
             ],
             [
              1,
              "#f0f921"
             ]
            ],
            "type": "heatmap"
           }
          ],
          "heatmapgl": [
           {
            "colorbar": {
             "outlinewidth": 0,
             "ticks": ""
            },
            "colorscale": [
             [
              0,
              "#0d0887"
             ],
             [
              0.1111111111111111,
              "#46039f"
             ],
             [
              0.2222222222222222,
              "#7201a8"
             ],
             [
              0.3333333333333333,
              "#9c179e"
             ],
             [
              0.4444444444444444,
              "#bd3786"
             ],
             [
              0.5555555555555556,
              "#d8576b"
             ],
             [
              0.6666666666666666,
              "#ed7953"
             ],
             [
              0.7777777777777778,
              "#fb9f3a"
             ],
             [
              0.8888888888888888,
              "#fdca26"
             ],
             [
              1,
              "#f0f921"
             ]
            ],
            "type": "heatmapgl"
           }
          ],
          "histogram": [
           {
            "marker": {
             "colorbar": {
              "outlinewidth": 0,
              "ticks": ""
             }
            },
            "type": "histogram"
           }
          ],
          "histogram2d": [
           {
            "colorbar": {
             "outlinewidth": 0,
             "ticks": ""
            },
            "colorscale": [
             [
              0,
              "#0d0887"
             ],
             [
              0.1111111111111111,
              "#46039f"
             ],
             [
              0.2222222222222222,
              "#7201a8"
             ],
             [
              0.3333333333333333,
              "#9c179e"
             ],
             [
              0.4444444444444444,
              "#bd3786"
             ],
             [
              0.5555555555555556,
              "#d8576b"
             ],
             [
              0.6666666666666666,
              "#ed7953"
             ],
             [
              0.7777777777777778,
              "#fb9f3a"
             ],
             [
              0.8888888888888888,
              "#fdca26"
             ],
             [
              1,
              "#f0f921"
             ]
            ],
            "type": "histogram2d"
           }
          ],
          "histogram2dcontour": [
           {
            "colorbar": {
             "outlinewidth": 0,
             "ticks": ""
            },
            "colorscale": [
             [
              0,
              "#0d0887"
             ],
             [
              0.1111111111111111,
              "#46039f"
             ],
             [
              0.2222222222222222,
              "#7201a8"
             ],
             [
              0.3333333333333333,
              "#9c179e"
             ],
             [
              0.4444444444444444,
              "#bd3786"
             ],
             [
              0.5555555555555556,
              "#d8576b"
             ],
             [
              0.6666666666666666,
              "#ed7953"
             ],
             [
              0.7777777777777778,
              "#fb9f3a"
             ],
             [
              0.8888888888888888,
              "#fdca26"
             ],
             [
              1,
              "#f0f921"
             ]
            ],
            "type": "histogram2dcontour"
           }
          ],
          "mesh3d": [
           {
            "colorbar": {
             "outlinewidth": 0,
             "ticks": ""
            },
            "type": "mesh3d"
           }
          ],
          "parcoords": [
           {
            "line": {
             "colorbar": {
              "outlinewidth": 0,
              "ticks": ""
             }
            },
            "type": "parcoords"
           }
          ],
          "pie": [
           {
            "automargin": true,
            "type": "pie"
           }
          ],
          "scatter": [
           {
            "marker": {
             "colorbar": {
              "outlinewidth": 0,
              "ticks": ""
             }
            },
            "type": "scatter"
           }
          ],
          "scatter3d": [
           {
            "line": {
             "colorbar": {
              "outlinewidth": 0,
              "ticks": ""
             }
            },
            "marker": {
             "colorbar": {
              "outlinewidth": 0,
              "ticks": ""
             }
            },
            "type": "scatter3d"
           }
          ],
          "scattercarpet": [
           {
            "marker": {
             "colorbar": {
              "outlinewidth": 0,
              "ticks": ""
             }
            },
            "type": "scattercarpet"
           }
          ],
          "scattergeo": [
           {
            "marker": {
             "colorbar": {
              "outlinewidth": 0,
              "ticks": ""
             }
            },
            "type": "scattergeo"
           }
          ],
          "scattergl": [
           {
            "marker": {
             "colorbar": {
              "outlinewidth": 0,
              "ticks": ""
             }
            },
            "type": "scattergl"
           }
          ],
          "scattermapbox": [
           {
            "marker": {
             "colorbar": {
              "outlinewidth": 0,
              "ticks": ""
             }
            },
            "type": "scattermapbox"
           }
          ],
          "scatterpolar": [
           {
            "marker": {
             "colorbar": {
              "outlinewidth": 0,
              "ticks": ""
             }
            },
            "type": "scatterpolar"
           }
          ],
          "scatterpolargl": [
           {
            "marker": {
             "colorbar": {
              "outlinewidth": 0,
              "ticks": ""
             }
            },
            "type": "scatterpolargl"
           }
          ],
          "scatterternary": [
           {
            "marker": {
             "colorbar": {
              "outlinewidth": 0,
              "ticks": ""
             }
            },
            "type": "scatterternary"
           }
          ],
          "surface": [
           {
            "colorbar": {
             "outlinewidth": 0,
             "ticks": ""
            },
            "colorscale": [
             [
              0,
              "#0d0887"
             ],
             [
              0.1111111111111111,
              "#46039f"
             ],
             [
              0.2222222222222222,
              "#7201a8"
             ],
             [
              0.3333333333333333,
              "#9c179e"
             ],
             [
              0.4444444444444444,
              "#bd3786"
             ],
             [
              0.5555555555555556,
              "#d8576b"
             ],
             [
              0.6666666666666666,
              "#ed7953"
             ],
             [
              0.7777777777777778,
              "#fb9f3a"
             ],
             [
              0.8888888888888888,
              "#fdca26"
             ],
             [
              1,
              "#f0f921"
             ]
            ],
            "type": "surface"
           }
          ],
          "table": [
           {
            "cells": {
             "fill": {
              "color": "#EBF0F8"
             },
             "line": {
              "color": "white"
             }
            },
            "header": {
             "fill": {
              "color": "#C8D4E3"
             },
             "line": {
              "color": "white"
             }
            },
            "type": "table"
           }
          ]
         },
         "layout": {
          "annotationdefaults": {
           "arrowcolor": "#2a3f5f",
           "arrowhead": 0,
           "arrowwidth": 1
          },
          "coloraxis": {
           "colorbar": {
            "outlinewidth": 0,
            "ticks": ""
           }
          },
          "colorscale": {
           "diverging": [
            [
             0,
             "#8e0152"
            ],
            [
             0.1,
             "#c51b7d"
            ],
            [
             0.2,
             "#de77ae"
            ],
            [
             0.3,
             "#f1b6da"
            ],
            [
             0.4,
             "#fde0ef"
            ],
            [
             0.5,
             "#f7f7f7"
            ],
            [
             0.6,
             "#e6f5d0"
            ],
            [
             0.7,
             "#b8e186"
            ],
            [
             0.8,
             "#7fbc41"
            ],
            [
             0.9,
             "#4d9221"
            ],
            [
             1,
             "#276419"
            ]
           ],
           "sequential": [
            [
             0,
             "#0d0887"
            ],
            [
             0.1111111111111111,
             "#46039f"
            ],
            [
             0.2222222222222222,
             "#7201a8"
            ],
            [
             0.3333333333333333,
             "#9c179e"
            ],
            [
             0.4444444444444444,
             "#bd3786"
            ],
            [
             0.5555555555555556,
             "#d8576b"
            ],
            [
             0.6666666666666666,
             "#ed7953"
            ],
            [
             0.7777777777777778,
             "#fb9f3a"
            ],
            [
             0.8888888888888888,
             "#fdca26"
            ],
            [
             1,
             "#f0f921"
            ]
           ],
           "sequentialminus": [
            [
             0,
             "#0d0887"
            ],
            [
             0.1111111111111111,
             "#46039f"
            ],
            [
             0.2222222222222222,
             "#7201a8"
            ],
            [
             0.3333333333333333,
             "#9c179e"
            ],
            [
             0.4444444444444444,
             "#bd3786"
            ],
            [
             0.5555555555555556,
             "#d8576b"
            ],
            [
             0.6666666666666666,
             "#ed7953"
            ],
            [
             0.7777777777777778,
             "#fb9f3a"
            ],
            [
             0.8888888888888888,
             "#fdca26"
            ],
            [
             1,
             "#f0f921"
            ]
           ]
          },
          "colorway": [
           "#636efa",
           "#EF553B",
           "#00cc96",
           "#ab63fa",
           "#FFA15A",
           "#19d3f3",
           "#FF6692",
           "#B6E880",
           "#FF97FF",
           "#FECB52"
          ],
          "font": {
           "color": "#2a3f5f"
          },
          "geo": {
           "bgcolor": "white",
           "lakecolor": "white",
           "landcolor": "#E5ECF6",
           "showlakes": true,
           "showland": true,
           "subunitcolor": "white"
          },
          "hoverlabel": {
           "align": "left"
          },
          "hovermode": "closest",
          "mapbox": {
           "style": "light"
          },
          "paper_bgcolor": "white",
          "plot_bgcolor": "#E5ECF6",
          "polar": {
           "angularaxis": {
            "gridcolor": "white",
            "linecolor": "white",
            "ticks": ""
           },
           "bgcolor": "#E5ECF6",
           "radialaxis": {
            "gridcolor": "white",
            "linecolor": "white",
            "ticks": ""
           }
          },
          "scene": {
           "xaxis": {
            "backgroundcolor": "#E5ECF6",
            "gridcolor": "white",
            "gridwidth": 2,
            "linecolor": "white",
            "showbackground": true,
            "ticks": "",
            "zerolinecolor": "white"
           },
           "yaxis": {
            "backgroundcolor": "#E5ECF6",
            "gridcolor": "white",
            "gridwidth": 2,
            "linecolor": "white",
            "showbackground": true,
            "ticks": "",
            "zerolinecolor": "white"
           },
           "zaxis": {
            "backgroundcolor": "#E5ECF6",
            "gridcolor": "white",
            "gridwidth": 2,
            "linecolor": "white",
            "showbackground": true,
            "ticks": "",
            "zerolinecolor": "white"
           }
          },
          "shapedefaults": {
           "line": {
            "color": "#2a3f5f"
           }
          },
          "ternary": {
           "aaxis": {
            "gridcolor": "white",
            "linecolor": "white",
            "ticks": ""
           },
           "baxis": {
            "gridcolor": "white",
            "linecolor": "white",
            "ticks": ""
           },
           "bgcolor": "#E5ECF6",
           "caxis": {
            "gridcolor": "white",
            "linecolor": "white",
            "ticks": ""
           }
          },
          "title": {
           "x": 0.05
          },
          "xaxis": {
           "automargin": true,
           "gridcolor": "white",
           "linecolor": "white",
           "ticks": "",
           "title": {
            "standoff": 15
           },
           "zerolinecolor": "white",
           "zerolinewidth": 2
          },
          "yaxis": {
           "automargin": true,
           "gridcolor": "white",
           "linecolor": "white",
           "ticks": "",
           "title": {
            "standoff": 15
           },
           "zerolinecolor": "white",
           "zerolinewidth": 2
          }
         }
        },
        "title": {
         "text": "<b>Evolution de la température moyenne par an</b>"
        },
        "xaxis": {
         "anchor": "y",
         "domain": [
          0,
          1
         ],
         "title": {
          "text": ""
         }
        },
        "yaxis": {
         "anchor": "x",
         "domain": [
          0,
          1
         ],
         "title": {
          "text": ""
         }
        }
       }
      }
     },
     "metadata": {},
     "output_type": "display_data"
    }
   ],
   "source": [
    "fig = px.scatter(temperatureEarth,x='year', y='LandAverageTemperature')\n",
    "fig.update_layout(title='<b>Evolution de la température moyenne par an</b>',xaxis_title='', yaxis_title='')\n",
    "fig.show()"
   ]
  },
  {
   "cell_type": "markdown",
   "metadata": {},
   "source": [
    "# Temperature moyenne par an en France"
   ]
  },
  {
   "cell_type": "code",
   "execution_count": 7,
   "metadata": {},
   "outputs": [
    {
     "data": {
      "text/html": "<div>\n<style scoped>\n    .dataframe tbody tr th:only-of-type {\n        vertical-align: middle;\n    }\n\n    .dataframe tbody tr th {\n        vertical-align: top;\n    }\n\n    .dataframe thead th {\n        text-align: right;\n    }\n</style>\n<table border=\"1\" class=\"dataframe\">\n  <thead>\n    <tr style=\"text-align: right;\">\n      <th></th>\n      <th>dt</th>\n      <th>AverageTemperature</th>\n      <th>AverageTemperatureUncertainty</th>\n      <th>Country</th>\n    </tr>\n  </thead>\n  <tbody>\n    <tr>\n      <th>0</th>\n      <td>1743-11-01</td>\n      <td>4.384</td>\n      <td>2.294</td>\n      <td>Åland</td>\n    </tr>\n    <tr>\n      <th>1</th>\n      <td>1743-12-01</td>\n      <td>NaN</td>\n      <td>NaN</td>\n      <td>Åland</td>\n    </tr>\n    <tr>\n      <th>2</th>\n      <td>1744-01-01</td>\n      <td>NaN</td>\n      <td>NaN</td>\n      <td>Åland</td>\n    </tr>\n    <tr>\n      <th>3</th>\n      <td>1744-02-01</td>\n      <td>NaN</td>\n      <td>NaN</td>\n      <td>Åland</td>\n    </tr>\n    <tr>\n      <th>4</th>\n      <td>1744-03-01</td>\n      <td>NaN</td>\n      <td>NaN</td>\n      <td>Åland</td>\n    </tr>\n  </tbody>\n</table>\n</div>",
      "text/plain": "           dt  AverageTemperature  AverageTemperatureUncertainty Country\n0  1743-11-01               4.384                          2.294   Åland\n1  1743-12-01                 NaN                            NaN   Åland\n2  1744-01-01                 NaN                            NaN   Åland\n3  1744-02-01                 NaN                            NaN   Åland\n4  1744-03-01                 NaN                            NaN   Åland"
     },
     "execution_count": 7,
     "metadata": {},
     "output_type": "execute_result"
    }
   ],
   "source": [
    "temperatureByCountry.head()"
   ]
  },
  {
   "cell_type": "code",
   "execution_count": 8,
   "metadata": {},
   "outputs": [],
   "source": [
    "temperatureFrance = temperatureByCountry.query(\"Country=='France'\")\n",
    "temperatureFrance['year'] = [val[0:4] for val in temperatureFrance['dt']]\n",
    "temperatureFranceYear = temperatureFrance.groupby('year').mean().reset_index()"
   ]
  },
  {
   "cell_type": "code",
   "execution_count": 9,
   "metadata": {},
   "outputs": [
    {
     "data": {
      "application/vnd.plotly.v1+json": {
       "config": {
        "plotlyServerURL": "https://plot.ly"
       },
       "data": [
        {
         "hoverlabel": {
          "namelength": 0
         },
         "hovertemplate": "year=%{x}<br>AverageTemperature=%{y}",
         "legendgroup": "",
         "marker": {
          "color": "#636efa",
          "symbol": "circle"
         },
         "mode": "markers",
         "name": "",
         "showlegend": false,
         "type": "scatter",
         "x": [
          "1744",
          "1750",
          "1751",
          "1753",
          "1754",
          "1755",
          "1756",
          "1757",
          "1758",
          "1759",
          "1760",
          "1761",
          "1762",
          "1763",
          "1764",
          "1765",
          "1766",
          "1767",
          "1768",
          "1769",
          "1770",
          "1771",
          "1772",
          "1773",
          "1774",
          "1775",
          "1776",
          "1777",
          "1778",
          "1779",
          "1780",
          "1781",
          "1782",
          "1783",
          "1784",
          "1785",
          "1786",
          "1787",
          "1788",
          "1789",
          "1790",
          "1791",
          "1792",
          "1793",
          "1794",
          "1795",
          "1796",
          "1797",
          "1798",
          "1799",
          "1800",
          "1801",
          "1802",
          "1803",
          "1804",
          "1805",
          "1806",
          "1807",
          "1808",
          "1809",
          "1810",
          "1811",
          "1812",
          "1813",
          "1814",
          "1815",
          "1816",
          "1817",
          "1818",
          "1819",
          "1820",
          "1821",
          "1822",
          "1823",
          "1824",
          "1825",
          "1826",
          "1827",
          "1828",
          "1829",
          "1830",
          "1831",
          "1832",
          "1833",
          "1834",
          "1835",
          "1836",
          "1837",
          "1838",
          "1839",
          "1840",
          "1841",
          "1842",
          "1843",
          "1844",
          "1845",
          "1846",
          "1847",
          "1848",
          "1849",
          "1850",
          "1851",
          "1852",
          "1853",
          "1854",
          "1855",
          "1856",
          "1857",
          "1858",
          "1859",
          "1860",
          "1861",
          "1862",
          "1863",
          "1864",
          "1865",
          "1866",
          "1867",
          "1868",
          "1869",
          "1870",
          "1871",
          "1872",
          "1873",
          "1874",
          "1875",
          "1876",
          "1877",
          "1878",
          "1879",
          "1880",
          "1881",
          "1882",
          "1883",
          "1884",
          "1885",
          "1886",
          "1887",
          "1888",
          "1889",
          "1890",
          "1891",
          "1892",
          "1893",
          "1894",
          "1895",
          "1896",
          "1897",
          "1898",
          "1899",
          "1900",
          "1901",
          "1902",
          "1903",
          "1904",
          "1905",
          "1906",
          "1907",
          "1908",
          "1909",
          "1910",
          "1911",
          "1912",
          "1913",
          "1914",
          "1915",
          "1916",
          "1917",
          "1918",
          "1919",
          "1920",
          "1921",
          "1922",
          "1923",
          "1924",
          "1925",
          "1926",
          "1927",
          "1928",
          "1929",
          "1930",
          "1931",
          "1932",
          "1933",
          "1934",
          "1935",
          "1936",
          "1937",
          "1938",
          "1939",
          "1940",
          "1941",
          "1942",
          "1943",
          "1944",
          "1945",
          "1946",
          "1947",
          "1948",
          "1949",
          "1950",
          "1951",
          "1952",
          "1953",
          "1954",
          "1955",
          "1956",
          "1957",
          "1958",
          "1959",
          "1960",
          "1961",
          "1962",
          "1963",
          "1964",
          "1965",
          "1966",
          "1967",
          "1968",
          "1969",
          "1970",
          "1971",
          "1972",
          "1973",
          "1974",
          "1975",
          "1976",
          "1977",
          "1978",
          "1979",
          "1980",
          "1981",
          "1982",
          "1983",
          "1984",
          "1985",
          "1986",
          "1987",
          "1988",
          "1989",
          "1990",
          "1991",
          "1992",
          "1993",
          "1995",
          "1996",
          "1997",
          "1998",
          "1999",
          "2000",
          "2001",
          "2002",
          "2004",
          "2005",
          "2006",
          "2007",
          "2008",
          "2009",
          "2010",
          "2012",
          "2013"
         ],
         "xaxis": "x",
         "y": [
          13.610125,
          13.329,
          13.42825,
          12.771833333333333,
          12.666249999999998,
          12.343499999999999,
          12.710999999999999,
          12.521583333333334,
          11.737333333333334,
          12.8395,
          12.593166666666663,
          12.913166666666667,
          12.623,
          12.205499999999999,
          12.773083333333332,
          12.673166666666669,
          12.563416666666669,
          12.536166666666668,
          12.209833333333336,
          12.52991666666667,
          12.378749999999998,
          12.620833333333335,
          13.489166666666668,
          12.646749999999999,
          12.87791666666667,
          13.273833333333334,
          12.668833333333332,
          12.527750000000003,
          13.070750000000002,
          13.423083333333333,
          13.231916666666669,
          13.471333333333334,
          12.048916666666665,
          13.055333333333332,
          12.140833333333333,
          12.048583333333333,
          12.347583333333333,
          12.880916666666666,
          13.01316666666667,
          12.286166666666666,
          12.961333333333334,
          13.076083333333331,
          12.888250000000001,
          12.94508333333333,
          13.252666666666668,
          12.755000000000003,
          12.69,
          12.86058333333333,
          12.916749999999999,
          11.889083333333334,
          12.996166666666667,
          13.109083333333333,
          13.119083333333334,
          12.61625,
          13.092666666666666,
          11.886833333333335,
          13.272833333333333,
          12.630333333333335,
          11.789749999999998,
          12.0225,
          12.032583333333335,
          12.951499999999998,
          11.558583333333337,
          12.11275,
          11.62825,
          12.26775,
          11.287916666666666,
          12.312,
          12.916583333333335,
          12.679250000000001,
          12.109,
          12.866916666666668,
          13.540333333333335,
          12.299750000000001,
          12.833166666666665,
          13.130749999999997,
          12.830416666666666,
          12.632083333333336,
          13.241999999999999,
          11.566833333333333,
          12.320333333333336,
          12.820500000000001,
          12.423833333333334,
          12.624833333333335,
          13.549083333333336,
          12.263916666666667,
          12.423833333333334,
          12.083499999999999,
          11.928500000000001,
          12.525166666666669,
          12.130166666666668,
          12.503333333333336,
          12.368166666666665,
          12.647583333333332,
          12.255833333333333,
          12.054083333333333,
          13.40075,
          12.345500000000001,
          12.516583333333335,
          12.624583333333334,
          12.2175,
          12.042666666666667,
          13.035583333333333,
          11.826166666666667,
          12.443166666666668,
          11.763583333333335,
          12.615916666666665,
          12.823250000000002,
          12.382083333333334,
          13.1075,
          11.752250000000002,
          12.658083333333332,
          12.939916666666667,
          12.926166666666667,
          12.087333333333335,
          12.9615,
          13.053916666666668,
          12.663333333333334,
          13.267666666666665,
          12.699583333333335,
          12.324416666666664,
          12.007583333333331,
          13.054333333333334,
          12.710333333333333,
          12.610500000000002,
          12.515416666666667,
          12.799333333333331,
          12.878416666666668,
          12.597833333333332,
          11.611416666666665,
          12.729083333333334,
          12.535583333333333,
          12.592833333333333,
          12.220916666666668,
          12.69525,
          12.263166666666665,
          12.421583333333336,
          11.635416666666666,
          11.778166666666666,
          11.93741666666667,
          11.813666666666668,
          11.999166666666667,
          12.378083333333336,
          12.943583333333335,
          12.529583333333335,
          12.415666666666665,
          12.149666666666667,
          12.927500000000002,
          12.962249999999997,
          13.143166666666666,
          12.987333333333334,
          12.32841666666667,
          12.391916666666665,
          12.592333333333334,
          12.813250000000002,
          12.419666666666666,
          12.714500000000001,
          12.508250000000002,
          12.448416666666667,
          12.107249999999999,
          12.492916666666666,
          13.162916666666668,
          12.540333333333331,
          12.913499999999999,
          12.689750000000002,
          12.618166666666667,
          12.679,
          11.916833333333335,
          12.641416666666666,
          12.254666666666667,
          13.018333333333333,
          13.387166666666667,
          12.370833333333332,
          12.830666666666666,
          12.597666666666669,
          12.460333333333333,
          13.182833333333335,
          12.819749999999999,
          13.2965,
          12.657916666666667,
          13.168750000000001,
          12.531583333333336,
          12.698749999999999,
          12.687,
          13.132750000000001,
          12.797249999999998,
          12.892666666666669,
          13.295166666666667,
          12.948666666666668,
          12.737666666666668,
          12.390833333333333,
          12.326250000000002,
          12.685166666666667,
          13.522916666666667,
          12.800666666666666,
          13.397916666666667,
          12.8345,
          13.631666666666666,
          13.331583333333333,
          13.696000000000003,
          13.23325,
          12.947083333333332,
          13.088916666666664,
          13.143666666666666,
          12.618416666666668,
          13.038333333333334,
          12.063749999999999,
          13.101999999999999,
          13.083166666666665,
          13.675249999999998,
          13.027666666666667,
          13.701833333333333,
          12.414333333333333,
          12.072833333333334,
          12.990416666666668,
          12.501833333333332,
          13.215166666666669,
          13.0875,
          12.79775,
          12.8335,
          12.899250000000002,
          12.869166666666665,
          12.594416666666667,
          12.887166666666664,
          13.040416666666667,
          12.962499999999999,
          13.278333333333334,
          13.016583333333331,
          12.657000000000002,
          12.836416666666667,
          12.555833333333332,
          13.080666666666668,
          13.679416666666668,
          13.487833333333334,
          12.868250000000002,
          12.628,
          12.871666666666668,
          12.955166666666669,
          13.580916666666667,
          13.930083333333334,
          14.038833333333335,
          13.1395,
          13.462916666666667,
          13.15016666666667,
          13.899749999999997,
          13.013916666666667,
          14.095999999999998,
          13.720666666666666,
          13.904916666666667,
          13.967333333333334,
          13.6965,
          14.048166666666667,
          13.66408333333333,
          13.694250000000002,
          14.143833333333333,
          13.896583333333332,
          13.581499999999998,
          13.941666666666668,
          13.115416666666667,
          13.707166666666666,
          13.584625
         ],
         "yaxis": "y"
        }
       ],
       "layout": {
        "legend": {
         "tracegroupgap": 0
        },
        "margin": {
         "t": 60
        },
        "template": {
         "data": {
          "bar": [
           {
            "error_x": {
             "color": "#2a3f5f"
            },
            "error_y": {
             "color": "#2a3f5f"
            },
            "marker": {
             "line": {
              "color": "#E5ECF6",
              "width": 0.5
             }
            },
            "type": "bar"
           }
          ],
          "barpolar": [
           {
            "marker": {
             "line": {
              "color": "#E5ECF6",
              "width": 0.5
             }
            },
            "type": "barpolar"
           }
          ],
          "carpet": [
           {
            "aaxis": {
             "endlinecolor": "#2a3f5f",
             "gridcolor": "white",
             "linecolor": "white",
             "minorgridcolor": "white",
             "startlinecolor": "#2a3f5f"
            },
            "baxis": {
             "endlinecolor": "#2a3f5f",
             "gridcolor": "white",
             "linecolor": "white",
             "minorgridcolor": "white",
             "startlinecolor": "#2a3f5f"
            },
            "type": "carpet"
           }
          ],
          "choropleth": [
           {
            "colorbar": {
             "outlinewidth": 0,
             "ticks": ""
            },
            "type": "choropleth"
           }
          ],
          "contour": [
           {
            "colorbar": {
             "outlinewidth": 0,
             "ticks": ""
            },
            "colorscale": [
             [
              0,
              "#0d0887"
             ],
             [
              0.1111111111111111,
              "#46039f"
             ],
             [
              0.2222222222222222,
              "#7201a8"
             ],
             [
              0.3333333333333333,
              "#9c179e"
             ],
             [
              0.4444444444444444,
              "#bd3786"
             ],
             [
              0.5555555555555556,
              "#d8576b"
             ],
             [
              0.6666666666666666,
              "#ed7953"
             ],
             [
              0.7777777777777778,
              "#fb9f3a"
             ],
             [
              0.8888888888888888,
              "#fdca26"
             ],
             [
              1,
              "#f0f921"
             ]
            ],
            "type": "contour"
           }
          ],
          "contourcarpet": [
           {
            "colorbar": {
             "outlinewidth": 0,
             "ticks": ""
            },
            "type": "contourcarpet"
           }
          ],
          "heatmap": [
           {
            "colorbar": {
             "outlinewidth": 0,
             "ticks": ""
            },
            "colorscale": [
             [
              0,
              "#0d0887"
             ],
             [
              0.1111111111111111,
              "#46039f"
             ],
             [
              0.2222222222222222,
              "#7201a8"
             ],
             [
              0.3333333333333333,
              "#9c179e"
             ],
             [
              0.4444444444444444,
              "#bd3786"
             ],
             [
              0.5555555555555556,
              "#d8576b"
             ],
             [
              0.6666666666666666,
              "#ed7953"
             ],
             [
              0.7777777777777778,
              "#fb9f3a"
             ],
             [
              0.8888888888888888,
              "#fdca26"
             ],
             [
              1,
              "#f0f921"
             ]
            ],
            "type": "heatmap"
           }
          ],
          "heatmapgl": [
           {
            "colorbar": {
             "outlinewidth": 0,
             "ticks": ""
            },
            "colorscale": [
             [
              0,
              "#0d0887"
             ],
             [
              0.1111111111111111,
              "#46039f"
             ],
             [
              0.2222222222222222,
              "#7201a8"
             ],
             [
              0.3333333333333333,
              "#9c179e"
             ],
             [
              0.4444444444444444,
              "#bd3786"
             ],
             [
              0.5555555555555556,
              "#d8576b"
             ],
             [
              0.6666666666666666,
              "#ed7953"
             ],
             [
              0.7777777777777778,
              "#fb9f3a"
             ],
             [
              0.8888888888888888,
              "#fdca26"
             ],
             [
              1,
              "#f0f921"
             ]
            ],
            "type": "heatmapgl"
           }
          ],
          "histogram": [
           {
            "marker": {
             "colorbar": {
              "outlinewidth": 0,
              "ticks": ""
             }
            },
            "type": "histogram"
           }
          ],
          "histogram2d": [
           {
            "colorbar": {
             "outlinewidth": 0,
             "ticks": ""
            },
            "colorscale": [
             [
              0,
              "#0d0887"
             ],
             [
              0.1111111111111111,
              "#46039f"
             ],
             [
              0.2222222222222222,
              "#7201a8"
             ],
             [
              0.3333333333333333,
              "#9c179e"
             ],
             [
              0.4444444444444444,
              "#bd3786"
             ],
             [
              0.5555555555555556,
              "#d8576b"
             ],
             [
              0.6666666666666666,
              "#ed7953"
             ],
             [
              0.7777777777777778,
              "#fb9f3a"
             ],
             [
              0.8888888888888888,
              "#fdca26"
             ],
             [
              1,
              "#f0f921"
             ]
            ],
            "type": "histogram2d"
           }
          ],
          "histogram2dcontour": [
           {
            "colorbar": {
             "outlinewidth": 0,
             "ticks": ""
            },
            "colorscale": [
             [
              0,
              "#0d0887"
             ],
             [
              0.1111111111111111,
              "#46039f"
             ],
             [
              0.2222222222222222,
              "#7201a8"
             ],
             [
              0.3333333333333333,
              "#9c179e"
             ],
             [
              0.4444444444444444,
              "#bd3786"
             ],
             [
              0.5555555555555556,
              "#d8576b"
             ],
             [
              0.6666666666666666,
              "#ed7953"
             ],
             [
              0.7777777777777778,
              "#fb9f3a"
             ],
             [
              0.8888888888888888,
              "#fdca26"
             ],
             [
              1,
              "#f0f921"
             ]
            ],
            "type": "histogram2dcontour"
           }
          ],
          "mesh3d": [
           {
            "colorbar": {
             "outlinewidth": 0,
             "ticks": ""
            },
            "type": "mesh3d"
           }
          ],
          "parcoords": [
           {
            "line": {
             "colorbar": {
              "outlinewidth": 0,
              "ticks": ""
             }
            },
            "type": "parcoords"
           }
          ],
          "pie": [
           {
            "automargin": true,
            "type": "pie"
           }
          ],
          "scatter": [
           {
            "marker": {
             "colorbar": {
              "outlinewidth": 0,
              "ticks": ""
             }
            },
            "type": "scatter"
           }
          ],
          "scatter3d": [
           {
            "line": {
             "colorbar": {
              "outlinewidth": 0,
              "ticks": ""
             }
            },
            "marker": {
             "colorbar": {
              "outlinewidth": 0,
              "ticks": ""
             }
            },
            "type": "scatter3d"
           }
          ],
          "scattercarpet": [
           {
            "marker": {
             "colorbar": {
              "outlinewidth": 0,
              "ticks": ""
             }
            },
            "type": "scattercarpet"
           }
          ],
          "scattergeo": [
           {
            "marker": {
             "colorbar": {
              "outlinewidth": 0,
              "ticks": ""
             }
            },
            "type": "scattergeo"
           }
          ],
          "scattergl": [
           {
            "marker": {
             "colorbar": {
              "outlinewidth": 0,
              "ticks": ""
             }
            },
            "type": "scattergl"
           }
          ],
          "scattermapbox": [
           {
            "marker": {
             "colorbar": {
              "outlinewidth": 0,
              "ticks": ""
             }
            },
            "type": "scattermapbox"
           }
          ],
          "scatterpolar": [
           {
            "marker": {
             "colorbar": {
              "outlinewidth": 0,
              "ticks": ""
             }
            },
            "type": "scatterpolar"
           }
          ],
          "scatterpolargl": [
           {
            "marker": {
             "colorbar": {
              "outlinewidth": 0,
              "ticks": ""
             }
            },
            "type": "scatterpolargl"
           }
          ],
          "scatterternary": [
           {
            "marker": {
             "colorbar": {
              "outlinewidth": 0,
              "ticks": ""
             }
            },
            "type": "scatterternary"
           }
          ],
          "surface": [
           {
            "colorbar": {
             "outlinewidth": 0,
             "ticks": ""
            },
            "colorscale": [
             [
              0,
              "#0d0887"
             ],
             [
              0.1111111111111111,
              "#46039f"
             ],
             [
              0.2222222222222222,
              "#7201a8"
             ],
             [
              0.3333333333333333,
              "#9c179e"
             ],
             [
              0.4444444444444444,
              "#bd3786"
             ],
             [
              0.5555555555555556,
              "#d8576b"
             ],
             [
              0.6666666666666666,
              "#ed7953"
             ],
             [
              0.7777777777777778,
              "#fb9f3a"
             ],
             [
              0.8888888888888888,
              "#fdca26"
             ],
             [
              1,
              "#f0f921"
             ]
            ],
            "type": "surface"
           }
          ],
          "table": [
           {
            "cells": {
             "fill": {
              "color": "#EBF0F8"
             },
             "line": {
              "color": "white"
             }
            },
            "header": {
             "fill": {
              "color": "#C8D4E3"
             },
             "line": {
              "color": "white"
             }
            },
            "type": "table"
           }
          ]
         },
         "layout": {
          "annotationdefaults": {
           "arrowcolor": "#2a3f5f",
           "arrowhead": 0,
           "arrowwidth": 1
          },
          "coloraxis": {
           "colorbar": {
            "outlinewidth": 0,
            "ticks": ""
           }
          },
          "colorscale": {
           "diverging": [
            [
             0,
             "#8e0152"
            ],
            [
             0.1,
             "#c51b7d"
            ],
            [
             0.2,
             "#de77ae"
            ],
            [
             0.3,
             "#f1b6da"
            ],
            [
             0.4,
             "#fde0ef"
            ],
            [
             0.5,
             "#f7f7f7"
            ],
            [
             0.6,
             "#e6f5d0"
            ],
            [
             0.7,
             "#b8e186"
            ],
            [
             0.8,
             "#7fbc41"
            ],
            [
             0.9,
             "#4d9221"
            ],
            [
             1,
             "#276419"
            ]
           ],
           "sequential": [
            [
             0,
             "#0d0887"
            ],
            [
             0.1111111111111111,
             "#46039f"
            ],
            [
             0.2222222222222222,
             "#7201a8"
            ],
            [
             0.3333333333333333,
             "#9c179e"
            ],
            [
             0.4444444444444444,
             "#bd3786"
            ],
            [
             0.5555555555555556,
             "#d8576b"
            ],
            [
             0.6666666666666666,
             "#ed7953"
            ],
            [
             0.7777777777777778,
             "#fb9f3a"
            ],
            [
             0.8888888888888888,
             "#fdca26"
            ],
            [
             1,
             "#f0f921"
            ]
           ],
           "sequentialminus": [
            [
             0,
             "#0d0887"
            ],
            [
             0.1111111111111111,
             "#46039f"
            ],
            [
             0.2222222222222222,
             "#7201a8"
            ],
            [
             0.3333333333333333,
             "#9c179e"
            ],
            [
             0.4444444444444444,
             "#bd3786"
            ],
            [
             0.5555555555555556,
             "#d8576b"
            ],
            [
             0.6666666666666666,
             "#ed7953"
            ],
            [
             0.7777777777777778,
             "#fb9f3a"
            ],
            [
             0.8888888888888888,
             "#fdca26"
            ],
            [
             1,
             "#f0f921"
            ]
           ]
          },
          "colorway": [
           "#636efa",
           "#EF553B",
           "#00cc96",
           "#ab63fa",
           "#FFA15A",
           "#19d3f3",
           "#FF6692",
           "#B6E880",
           "#FF97FF",
           "#FECB52"
          ],
          "font": {
           "color": "#2a3f5f"
          },
          "geo": {
           "bgcolor": "white",
           "lakecolor": "white",
           "landcolor": "#E5ECF6",
           "showlakes": true,
           "showland": true,
           "subunitcolor": "white"
          },
          "hoverlabel": {
           "align": "left"
          },
          "hovermode": "closest",
          "mapbox": {
           "style": "light"
          },
          "paper_bgcolor": "white",
          "plot_bgcolor": "#E5ECF6",
          "polar": {
           "angularaxis": {
            "gridcolor": "white",
            "linecolor": "white",
            "ticks": ""
           },
           "bgcolor": "#E5ECF6",
           "radialaxis": {
            "gridcolor": "white",
            "linecolor": "white",
            "ticks": ""
           }
          },
          "scene": {
           "xaxis": {
            "backgroundcolor": "#E5ECF6",
            "gridcolor": "white",
            "gridwidth": 2,
            "linecolor": "white",
            "showbackground": true,
            "ticks": "",
            "zerolinecolor": "white"
           },
           "yaxis": {
            "backgroundcolor": "#E5ECF6",
            "gridcolor": "white",
            "gridwidth": 2,
            "linecolor": "white",
            "showbackground": true,
            "ticks": "",
            "zerolinecolor": "white"
           },
           "zaxis": {
            "backgroundcolor": "#E5ECF6",
            "gridcolor": "white",
            "gridwidth": 2,
            "linecolor": "white",
            "showbackground": true,
            "ticks": "",
            "zerolinecolor": "white"
           }
          },
          "shapedefaults": {
           "line": {
            "color": "#2a3f5f"
           }
          },
          "ternary": {
           "aaxis": {
            "gridcolor": "white",
            "linecolor": "white",
            "ticks": ""
           },
           "baxis": {
            "gridcolor": "white",
            "linecolor": "white",
            "ticks": ""
           },
           "bgcolor": "#E5ECF6",
           "caxis": {
            "gridcolor": "white",
            "linecolor": "white",
            "ticks": ""
           }
          },
          "title": {
           "x": 0.05
          },
          "xaxis": {
           "automargin": true,
           "gridcolor": "white",
           "linecolor": "white",
           "ticks": "",
           "title": {
            "standoff": 15
           },
           "zerolinecolor": "white",
           "zerolinewidth": 2
          },
          "yaxis": {
           "automargin": true,
           "gridcolor": "white",
           "linecolor": "white",
           "ticks": "",
           "title": {
            "standoff": 15
           },
           "zerolinecolor": "white",
           "zerolinewidth": 2
          }
         }
        },
        "title": {
         "text": "<b>Evolution de la température moyenne par an en France</b>"
        },
        "xaxis": {
         "anchor": "y",
         "domain": [
          0,
          1
         ],
         "title": {
          "text": ""
         }
        },
        "yaxis": {
         "anchor": "x",
         "domain": [
          0,
          1
         ],
         "title": {
          "text": ""
         }
        }
       }
      }
     },
     "metadata": {},
     "output_type": "display_data"
    }
   ],
   "source": [
    "temperatureFranceYear = remove_outliers(temperatureFranceYear,\"AverageTemperature\")\n",
    "temperatureFranceYear.to_csv('output_data/temperatureFranceYear.csv')\n",
    "fig = px.scatter(temperatureFranceYear,x='year', y='AverageTemperature')\n",
    "fig.update_layout(title='<b>Evolution de la température moyenne par an en France</b>',xaxis_title='', yaxis_title='')\n",
    "fig.show()"
   ]
  },
  {
   "cell_type": "markdown",
   "execution_count": null,
   "metadata": {},
   "outputs": [],
   "source": [
    "# Temperature moyenne par an en France (mois)"
   ]
  },
  {
   "cell_type": "code",
   "execution_count": 10,
   "metadata": {},
   "outputs": [],
   "source": [
    "temperatureFrance['month'] = [val[5:7] for val in temperatureFrance['dt']]\n",
    "month_name = {'01':'Janvier','02':'Février','03':\"Mars\",'04':\"Avril\",'05':\"Mai\",'06':\"Juin\",'07':\"Juillet\",'08':\"Aout\",'09':\"Septembre\",'10':\"Octobre\",'11':\"Novembre\",'12':\"Décembre\"}\n",
    "temperatureFranceMonth = temperatureFrance.groupby(['year','month']).mean().reset_index()\n",
    "temperatureFranceMonth = remove_outliers(temperatureFranceMonth,\"AverageTemperature\")\n",
    "temperatureFranceMonth['month'] = [month_name[row] for row in temperatureFranceMonth['month']]\n"
   ]
  },
  {
   "cell_type": "code",
   "execution_count": 11,
   "metadata": {},
   "outputs": [
    {
     "data": {
      "text/html": "<div>\n<style scoped>\n    .dataframe tbody tr th:only-of-type {\n        vertical-align: middle;\n    }\n\n    .dataframe tbody tr th {\n        vertical-align: top;\n    }\n\n    .dataframe thead th {\n        text-align: right;\n    }\n</style>\n<table border=\"1\" class=\"dataframe\">\n  <thead>\n    <tr style=\"text-align: right;\">\n      <th></th>\n      <th>year</th>\n      <th>month</th>\n      <th>AverageTemperature</th>\n      <th>AverageTemperatureUncertainty</th>\n    </tr>\n  </thead>\n  <tbody>\n    <tr>\n      <th>0</th>\n      <td>1743</td>\n      <td>Novembre</td>\n      <td>10.203</td>\n      <td>2.030</td>\n    </tr>\n    <tr>\n      <th>5</th>\n      <td>1744</td>\n      <td>Avril</td>\n      <td>13.190</td>\n      <td>2.280</td>\n    </tr>\n    <tr>\n      <th>6</th>\n      <td>1744</td>\n      <td>Mai</td>\n      <td>14.133</td>\n      <td>1.891</td>\n    </tr>\n    <tr>\n      <th>7</th>\n      <td>1744</td>\n      <td>Juin</td>\n      <td>17.349</td>\n      <td>1.926</td>\n    </tr>\n    <tr>\n      <th>8</th>\n      <td>1744</td>\n      <td>Juillet</td>\n      <td>18.782</td>\n      <td>1.994</td>\n    </tr>\n    <tr>\n      <th>...</th>\n      <td>...</td>\n      <td>...</td>\n      <td>...</td>\n      <td>...</td>\n    </tr>\n    <tr>\n      <th>3232</th>\n      <td>2013</td>\n      <td>Mars</td>\n      <td>9.041</td>\n      <td>0.308</td>\n    </tr>\n    <tr>\n      <th>3233</th>\n      <td>2013</td>\n      <td>Avril</td>\n      <td>12.320</td>\n      <td>0.240</td>\n    </tr>\n    <tr>\n      <th>3234</th>\n      <td>2013</td>\n      <td>Mai</td>\n      <td>13.763</td>\n      <td>0.269</td>\n    </tr>\n    <tr>\n      <th>3235</th>\n      <td>2013</td>\n      <td>Juin</td>\n      <td>17.750</td>\n      <td>0.295</td>\n    </tr>\n    <tr>\n      <th>3237</th>\n      <td>2013</td>\n      <td>Aout</td>\n      <td>20.366</td>\n      <td>0.378</td>\n    </tr>\n  </tbody>\n</table>\n<p>3102 rows × 4 columns</p>\n</div>",
      "text/plain": "      year     month  AverageTemperature  AverageTemperatureUncertainty\n0     1743  Novembre              10.203                          2.030\n5     1744     Avril              13.190                          2.280\n6     1744       Mai              14.133                          1.891\n7     1744      Juin              17.349                          1.926\n8     1744   Juillet              18.782                          1.994\n...    ...       ...                 ...                            ...\n3232  2013      Mars               9.041                          0.308\n3233  2013     Avril              12.320                          0.240\n3234  2013       Mai              13.763                          0.269\n3235  2013      Juin              17.750                          0.295\n3237  2013      Aout              20.366                          0.378\n\n[3102 rows x 4 columns]"
     },
     "execution_count": 11,
     "metadata": {},
     "output_type": "execute_result"
    }
   ],
   "source": [
    "temperatureFranceMonth"
   ]
  },
  {
   "cell_type": "code",
   "execution_count": 12,
   "metadata": {},
   "outputs": [
    {
     "data": {
      "application/vnd.plotly.v1+json": {
       "config": {
        "plotlyServerURL": "https://plot.ly"
       },
       "data": [
        {
         "hoverlabel": {
          "namelength": 0
         },
         "hovertemplate": "month=Mai<br>year=%{x}<br>AverageTemperature=%{y}",
         "legendgroup": "month=Mai",
         "marker": {
          "color": "#636efa",
          "symbol": "circle"
         },
         "mode": "markers",
         "name": "month=Mai",
         "showlegend": true,
         "type": "scatter",
         "x": [
          "1744",
          "1750",
          "1753",
          "1754",
          "1755",
          "1756",
          "1757",
          "1758",
          "1759",
          "1760",
          "1761",
          "1762",
          "1763",
          "1764",
          "1765",
          "1766",
          "1767",
          "1768",
          "1769",
          "1770",
          "1771",
          "1772",
          "1773",
          "1774",
          "1775",
          "1776",
          "1777",
          "1778",
          "1779",
          "1780",
          "1781",
          "1782",
          "1783",
          "1784",
          "1785",
          "1786",
          "1787",
          "1788",
          "1789",
          "1790",
          "1791",
          "1792",
          "1793",
          "1794",
          "1795",
          "1796",
          "1797",
          "1798",
          "1799",
          "1800",
          "1801",
          "1802",
          "1803",
          "1804",
          "1805",
          "1806",
          "1807",
          "1808",
          "1809",
          "1810",
          "1811",
          "1812",
          "1813",
          "1814",
          "1815",
          "1816",
          "1817",
          "1818",
          "1819",
          "1820",
          "1821",
          "1822",
          "1823",
          "1824",
          "1825",
          "1826",
          "1827",
          "1828",
          "1829",
          "1830",
          "1831",
          "1832",
          "1833",
          "1834",
          "1835",
          "1836",
          "1837",
          "1838",
          "1839",
          "1840",
          "1841",
          "1842",
          "1843",
          "1844",
          "1845",
          "1846",
          "1847",
          "1848",
          "1849",
          "1850",
          "1851",
          "1852",
          "1853",
          "1854",
          "1855",
          "1856",
          "1857",
          "1858",
          "1859",
          "1860",
          "1861",
          "1862",
          "1863",
          "1864",
          "1865",
          "1866",
          "1867",
          "1868",
          "1869",
          "1870",
          "1871",
          "1872",
          "1873",
          "1874",
          "1875",
          "1876",
          "1877",
          "1878",
          "1879",
          "1880",
          "1881",
          "1882",
          "1883",
          "1884",
          "1885",
          "1886",
          "1887",
          "1888",
          "1889",
          "1890",
          "1891",
          "1892",
          "1893",
          "1894",
          "1895",
          "1896",
          "1897",
          "1898",
          "1899",
          "1900",
          "1901",
          "1902",
          "1903",
          "1904",
          "1905",
          "1906",
          "1907",
          "1908",
          "1909",
          "1910",
          "1911",
          "1912",
          "1913",
          "1914",
          "1915",
          "1916",
          "1917",
          "1918",
          "1919",
          "1920",
          "1921",
          "1922",
          "1923",
          "1924",
          "1925",
          "1926",
          "1927",
          "1928",
          "1929",
          "1930",
          "1931",
          "1932",
          "1933",
          "1934",
          "1935",
          "1936",
          "1937",
          "1938",
          "1939",
          "1940",
          "1941",
          "1942",
          "1943",
          "1944",
          "1945",
          "1946",
          "1947",
          "1948",
          "1949",
          "1950",
          "1951",
          "1952",
          "1953",
          "1954",
          "1955",
          "1956",
          "1957",
          "1958",
          "1959",
          "1960",
          "1961",
          "1962",
          "1963",
          "1964",
          "1965",
          "1966",
          "1967",
          "1968",
          "1969",
          "1970",
          "1971",
          "1972",
          "1973",
          "1974",
          "1975",
          "1976",
          "1977",
          "1978",
          "1979",
          "1980",
          "1981",
          "1982",
          "1983",
          "1984",
          "1985",
          "1986",
          "1987",
          "1988",
          "1989",
          "1990",
          "1991",
          "1992",
          "1993",
          "1994",
          "1995",
          "1996",
          "1997",
          "1998",
          "1999",
          "2000",
          "2001",
          "2002",
          "2003",
          "2004",
          "2005",
          "2006",
          "2007",
          "2008",
          "2009",
          "2010",
          "2011",
          "2012",
          "2013"
         ],
         "xaxis": "x",
         "y": [
          14.133,
          15.343,
          15.501,
          15.985,
          15.1,
          15.251,
          16.067999999999998,
          15.355,
          15.087,
          15.008,
          16.605,
          16.16,
          13.665,
          16.157,
          15.111,
          15.169,
          14.289,
          14.898,
          15.773,
          14.588,
          15.970999999999998,
          13.967,
          14.962,
          16.427,
          14.911,
          13.842,
          14.52,
          16.008,
          16.955000000000002,
          17.982,
          16.508,
          13.93,
          15.595,
          17.146,
          15.402000000000001,
          15.545,
          14.098,
          16.379,
          16.977999999999998,
          15.759,
          14.571,
          14.884,
          14.379,
          15.011,
          15.921,
          14.918,
          15.837,
          15.772,
          13.941,
          16.378,
          15.701,
          15.086,
          14.147,
          16.803,
          14.108,
          16.374000000000002,
          15.962,
          16.723,
          15.233,
          14.292,
          16.173000000000002,
          15.333,
          16.079,
          13.071,
          15.682,
          14.262,
          13.556,
          14.777000000000001,
          15.35,
          15.896,
          14.278,
          16.525,
          16.111,
          14.353,
          15.130999999999998,
          14.388,
          15.351,
          15.902000000000001,
          15.669,
          15.479000000000001,
          15.139,
          14.421,
          17.164,
          16.724,
          14.595,
          13.337,
          13.053,
          14.892,
          14.159,
          15.217,
          16.798000000000002,
          15.4,
          14.293,
          14.15,
          13.302,
          15.667,
          16.477,
          16.11,
          15.283,
          13.702,
          13.068,
          14.985,
          14.037,
          14.214,
          13.234000000000002,
          13.412,
          14.723,
          13.822000000000001,
          15.015999999999998,
          15.612,
          14.403,
          16.274,
          14.99,
          15.552,
          16.559,
          13.634,
          15.29,
          17.7,
          15.399000000000001,
          15.907,
          14.635,
          13.782,
          13.991,
          13.132,
          16.391000000000002,
          13.144,
          13.407,
          15.577,
          12.097,
          14.33,
          14.527000000000001,
          14.993,
          14.715,
          15.257,
          13.22,
          14.652000000000001,
          13.092,
          15.079,
          15.534,
          14.774000000000001,
          13.937000000000001,
          15.011,
          15.458,
          13.66,
          14.828,
          14.184000000000001,
          14.035,
          13.975,
          14.385,
          14.169,
          15.026,
          12.527000000000001,
          14.687,
          15.574000000000002,
          13.959,
          14.73,
          14.558,
          16.101,
          14.72,
          13.82,
          15.140999999999998,
          15.651,
          14.783,
          14.151,
          16.090999999999998,
          15.470999999999998,
          16.552,
          15.666,
          15.3,
          16.451,
          15.492,
          16.613,
          14.385,
          16.154,
          14.816,
          13.656,
          15.54,
          13.737,
          15.026,
          14.297,
          15.672,
          14.233,
          14.993,
          15.74,
          13.636,
          15.153,
          16.06,
          13.681,
          13.505,
          15.298,
          12.786,
          15.173,
          16.129,
          15.242,
          16.401,
          15.004,
          16.537,
          15.763,
          14.142,
          15.978,
          13.927,
          16.221,
          16.535999999999998,
          14.640999999999998,
          14.659,
          15.615,
          13.581,
          15.988,
          15.638,
          16.297,
          14.75,
          14.009,
          14.395,
          16.453,
          14.885,
          15.255,
          14.636,
          14.06,
          15.394,
          15.029000000000002,
          15.699000000000002,
          14.07,
          15.77,
          14.544,
          14.21,
          15.878,
          14.198,
          14.484000000000002,
          14.665,
          14.213,
          14.702,
          15.595,
          14.055,
          12.848,
          14.627,
          15.899000000000001,
          13.885,
          15.952,
          17.293,
          17.250999999999998,
          13.901,
          17.101,
          16.115000000000002,
          15.746,
          15.765,
          14.682,
          16.337,
          16.957,
          17.125,
          16.840999999999998,
          16.683,
          15.265,
          16.426000000000002,
          15.239,
          16.277,
          16.176000000000002,
          16.506,
          16.935,
          16.935,
          14.79,
          17.354,
          16.415,
          13.763
         ],
         "yaxis": "y"
        },
        {
         "hoverlabel": {
          "namelength": 0
         },
         "hovertemplate": "month=Janvier<br>year=%{x}<br>AverageTemperature=%{y}",
         "legendgroup": "month=Janvier",
         "marker": {
          "color": "#EF553B",
          "symbol": "circle"
         },
         "mode": "markers",
         "name": "month=Janvier",
         "showlegend": true,
         "type": "scatter",
         "x": [
          "1745",
          "1750",
          "1751",
          "1752",
          "1753",
          "1754",
          "1756",
          "1759",
          "1760",
          "1761",
          "1762",
          "1764",
          "1765",
          "1768",
          "1769",
          "1770",
          "1771",
          "1772",
          "1773",
          "1774",
          "1775",
          "1777",
          "1778",
          "1779",
          "1780",
          "1781",
          "1782",
          "1783",
          "1784",
          "1785",
          "1786",
          "1787",
          "1788",
          "1789",
          "1790",
          "1791",
          "1792",
          "1793",
          "1794",
          "1796",
          "1797",
          "1798",
          "1799",
          "1800",
          "1801",
          "1802",
          "1803",
          "1804",
          "1805",
          "1806",
          "1807",
          "1808",
          "1809",
          "1811",
          "1813",
          "1814",
          "1815",
          "1816",
          "1817",
          "1818",
          "1819",
          "1820",
          "1821",
          "1822",
          "1823",
          "1824",
          "1825",
          "1827",
          "1828",
          "1829",
          "1831",
          "1832",
          "1833",
          "1834",
          "1835",
          "1836",
          "1837",
          "1839",
          "1840",
          "1841",
          "1843",
          "1844",
          "1845",
          "1846",
          "1847",
          "1849",
          "1850",
          "1851",
          "1852",
          "1853",
          "1854",
          "1855",
          "1856",
          "1857",
          "1858",
          "1859",
          "1860",
          "1862",
          "1863",
          "1864",
          "1865",
          "1866",
          "1867",
          "1868",
          "1869",
          "1870",
          "1872",
          "1873",
          "1874",
          "1875",
          "1876",
          "1877",
          "1878",
          "1879",
          "1881",
          "1882",
          "1883",
          "1884",
          "1885",
          "1886",
          "1887",
          "1888",
          "1889",
          "1890",
          "1892",
          "1894",
          "1895",
          "1896",
          "1897",
          "1898",
          "1899",
          "1900",
          "1901",
          "1902",
          "1903",
          "1904",
          "1905",
          "1906",
          "1907",
          "1908",
          "1909",
          "1910",
          "1911",
          "1912",
          "1913",
          "1914",
          "1915",
          "1916",
          "1917",
          "1918",
          "1919",
          "1920",
          "1921",
          "1922",
          "1923",
          "1924",
          "1925",
          "1926",
          "1927",
          "1928",
          "1929",
          "1930",
          "1931",
          "1932",
          "1933",
          "1934",
          "1935",
          "1936",
          "1937",
          "1938",
          "1939",
          "1941",
          "1943",
          "1944",
          "1946",
          "1947",
          "1948",
          "1949",
          "1950",
          "1951",
          "1952",
          "1953",
          "1954",
          "1955",
          "1956",
          "1957",
          "1958",
          "1959",
          "1960",
          "1961",
          "1962",
          "1964",
          "1965",
          "1966",
          "1967",
          "1968",
          "1969",
          "1970",
          "1971",
          "1972",
          "1973",
          "1974",
          "1975",
          "1976",
          "1977",
          "1978",
          "1979",
          "1980",
          "1981",
          "1982",
          "1983",
          "1984",
          "1986",
          "1988",
          "1989",
          "1990",
          "1991",
          "1992",
          "1993",
          "1994",
          "1995",
          "1996",
          "1997",
          "1998",
          "1999",
          "2000",
          "2001",
          "2002",
          "2003",
          "2004",
          "2005",
          "2006",
          "2007",
          "2008",
          "2009",
          "2010",
          "2011",
          "2012",
          "2013"
         ],
         "xaxis": "x",
         "y": [
          5.5150000000000015,
          6.256,
          6.62,
          5.707999999999998,
          3.975,
          5.547999999999999,
          7.994,
          7.862999999999999,
          4.833,
          4.506,
          8.541,
          8.119,
          8.755,
          3.761000000000001,
          6.872000000000001,
          5.6720000000000015,
          7.354,
          5.9270000000000005,
          6.723,
          5.8340000000000005,
          7.632999999999999,
          6.255,
          6.2940000000000005,
          3.696,
          4.399,
          6.277,
          7.093,
          6.698,
          4.9350000000000005,
          6.256,
          6.211,
          5.62,
          6.806,
          5.441,
          6.599,
          8.312999999999999,
          6.327000000000001,
          4.5600000000000005,
          6.447,
          8.599,
          7.131,
          6.961,
          3.92,
          7.497999999999998,
          7.609,
          4.123,
          5.261,
          9.371,
          5.331,
          7.747000000000001,
          5.256,
          5.6770000000000005,
          6.426,
          4.1240000000000006,
          4.058999999999998,
          3.8560000000000003,
          3.964,
          6.232,
          7.713999999999999,
          7.12,
          6.997999999999998,
          4.4990000000000006,
          7.7170000000000005,
          6.739,
          4.573,
          5.924,
          6.647,
          4.897,
          7.582000000000002,
          3.927,
          5.269,
          5.6320000000000014,
          4.745,
          8.641,
          6.8660000000000005,
          5.5379999999999985,
          5.771,
          5.7780000000000005,
          6.971,
          4.538,
          6.962999999999999,
          5.812,
          6.5070000000000014,
          7.9620000000000015,
          5.948,
          7.121,
          3.747,
          7.376,
          7.6320000000000014,
          8.286999999999999,
          6.345,
          4.046,
          7.763,
          5.291,
          3.8960000000000004,
          5.9700000000000015,
          7.694,
          5.977,
          7.522,
          4.4689999999999985,
          6.65,
          8.304,
          6.037000000000001,
          4.8450000000000015,
          6.681,
          5.931,
          6.9380000000000015,
          7.775,
          7.0379999999999985,
          8.146,
          4.787,
          8.591000000000001,
          5.567,
          5.665,
          3.9010000000000002,
          6.48,
          7.005,
          7.945,
          4.436999999999999,
          5.2700000000000005,
          4.398,
          5.181,
          5.357,
          7.7429999999999986,
          5.916,
          5.66,
          3.7439999999999998,
          5.9380000000000015,
          5.732,
          7.693,
          8.038,
          7.235,
          5.966,
          7.035,
          6.8370000000000015,
          5.8439999999999985,
          5.25,
          7.157,
          5.768,
          5.136,
          5.254,
          6.99,
          4.67,
          7.365,
          7.9090000000000025,
          4.209,
          6.681,
          8.728,
          4.573,
          6.613,
          6.261,
          8.138,
          8.905000000000003,
          6.537000000000001,
          6.524,
          6.652,
          7.617000000000001,
          7.13,
          7.215,
          7.862999999999999,
          4.066000000000002,
          8.426,
          6.879,
          7.749,
          5.239,
          6.339,
          5.675,
          9.045,
          8.325,
          7.402,
          8.342,
          4.43,
          7.98,
          7.932,
          5.13,
          4.7650000000000015,
          8.757,
          7.586,
          6.18,
          7.6389999999999985,
          6.022,
          4.723000000000001,
          5.194,
          7.725,
          7.58,
          6.195,
          7.073,
          6.863,
          6.723,
          6.83,
          7.9620000000000015,
          5.045,
          6.879,
          6.207999999999998,
          6.864,
          6.7120000000000015,
          7.932,
          7.4620000000000015,
          6.5520000000000005,
          6.589,
          6.3580000000000005,
          9.099,
          9.144,
          7.1389999999999985,
          7.127000000000002,
          6.6370000000000005,
          4.771,
          5.942,
          6.7250000000000005,
          8.327,
          8.529,
          7.4929999999999986,
          7.399,
          9.595,
          7.3610000000000015,
          8.016,
          7.21,
          6.119,
          8.732999999999999,
          8.339,
          7.727,
          8.391,
          5.8340000000000005,
          8.286999999999999,
          8.648,
          6.82,
          8.335,
          7.974,
          6.4460000000000015,
          7.907999999999999,
          7.7040000000000015,
          6.251,
          9.475,
          9.015,
          5.646,
          5.18,
          7.374,
          8.391,
          7.235
         ],
         "yaxis": "y"
        },
        {
         "hoverlabel": {
          "namelength": 0
         },
         "hovertemplate": "month=Mars<br>year=%{x}<br>AverageTemperature=%{y}",
         "legendgroup": "month=Mars",
         "marker": {
          "color": "#00cc96",
          "symbol": "circle"
         },
         "mode": "markers",
         "name": "month=Mars",
         "showlegend": true,
         "type": "scatter",
         "x": [
          "1745",
          "1750",
          "1751",
          "1752",
          "1753",
          "1754",
          "1755",
          "1756",
          "1757",
          "1758",
          "1759",
          "1760",
          "1761",
          "1762",
          "1763",
          "1764",
          "1765",
          "1766",
          "1767",
          "1768",
          "1769",
          "1770",
          "1771",
          "1772",
          "1773",
          "1774",
          "1775",
          "1776",
          "1777",
          "1778",
          "1779",
          "1780",
          "1781",
          "1782",
          "1783",
          "1784",
          "1785",
          "1786",
          "1787",
          "1788",
          "1789",
          "1790",
          "1791",
          "1792",
          "1793",
          "1794",
          "1795",
          "1796",
          "1797",
          "1798",
          "1799",
          "1800",
          "1801",
          "1802",
          "1803",
          "1804",
          "1805",
          "1806",
          "1807",
          "1808",
          "1809",
          "1810",
          "1811",
          "1812",
          "1813",
          "1814",
          "1815",
          "1816",
          "1817",
          "1818",
          "1819",
          "1820",
          "1821",
          "1822",
          "1823",
          "1824",
          "1825",
          "1826",
          "1827",
          "1828",
          "1829",
          "1830",
          "1831",
          "1832",
          "1833",
          "1834",
          "1835",
          "1836",
          "1837",
          "1838",
          "1839",
          "1840",
          "1841",
          "1842",
          "1843",
          "1844",
          "1845",
          "1846",
          "1847",
          "1848",
          "1849",
          "1850",
          "1851",
          "1852",
          "1853",
          "1854",
          "1855",
          "1856",
          "1857",
          "1858",
          "1859",
          "1860",
          "1861",
          "1862",
          "1863",
          "1864",
          "1865",
          "1866",
          "1867",
          "1868",
          "1869",
          "1870",
          "1871",
          "1872",
          "1873",
          "1874",
          "1875",
          "1876",
          "1877",
          "1878",
          "1879",
          "1880",
          "1881",
          "1882",
          "1883",
          "1884",
          "1885",
          "1886",
          "1887",
          "1888",
          "1889",
          "1890",
          "1891",
          "1892",
          "1893",
          "1894",
          "1895",
          "1896",
          "1897",
          "1898",
          "1899",
          "1900",
          "1901",
          "1902",
          "1903",
          "1904",
          "1905",
          "1906",
          "1907",
          "1908",
          "1909",
          "1910",
          "1911",
          "1912",
          "1913",
          "1914",
          "1915",
          "1916",
          "1917",
          "1918",
          "1919",
          "1920",
          "1921",
          "1922",
          "1923",
          "1924",
          "1925",
          "1926",
          "1927",
          "1928",
          "1929",
          "1930",
          "1931",
          "1932",
          "1933",
          "1934",
          "1935",
          "1936",
          "1937",
          "1938",
          "1939",
          "1940",
          "1941",
          "1942",
          "1943",
          "1944",
          "1945",
          "1946",
          "1947",
          "1948",
          "1949",
          "1950",
          "1951",
          "1952",
          "1953",
          "1954",
          "1955",
          "1956",
          "1957",
          "1958",
          "1959",
          "1960",
          "1961",
          "1962",
          "1963",
          "1964",
          "1965",
          "1966",
          "1967",
          "1968",
          "1969",
          "1970",
          "1971",
          "1972",
          "1973",
          "1974",
          "1975",
          "1976",
          "1977",
          "1978",
          "1979",
          "1980",
          "1981",
          "1982",
          "1983",
          "1984",
          "1985",
          "1986",
          "1987",
          "1988",
          "1989",
          "1990",
          "1991",
          "1992",
          "1993",
          "1994",
          "1995",
          "1996",
          "1997",
          "1998",
          "1999",
          "2000",
          "2001",
          "2002",
          "2003",
          "2004",
          "2005",
          "2006",
          "2007",
          "2008",
          "2009",
          "2010",
          "2011",
          "2012",
          "2013"
         ],
         "xaxis": "x",
         "y": [
          8.187000000000001,
          11.359000000000002,
          10.806,
          10.465000000000002,
          10.880999999999998,
          6.915000000000001,
          8.772,
          9.473,
          8.918000000000003,
          9.535,
          9.556000000000001,
          7.735000000000001,
          11.080000000000002,
          7.083000000000001,
          7.896000000000001,
          8.290000000000001,
          10.619000000000002,
          9.182,
          10.090000000000002,
          7.4410000000000025,
          8.533999999999999,
          7.487,
          8.293000000000001,
          10.076,
          8.805000000000003,
          10.874,
          10.842,
          10.548,
          11.035,
          9.099,
          10.363,
          11.786,
          10.315,
          8.103000000000002,
          8.795000000000002,
          8.516000000000002,
          4.990000000000001,
          7.883000000000001,
          10.705,
          10.067,
          6.6480000000000015,
          9.904000000000002,
          9.728000000000002,
          10.15,
          9.438,
          11.21,
          9.159,
          7.392000000000001,
          8.196000000000002,
          9.242,
          8.600000000000001,
          7.8370000000000015,
          10.927,
          9.735,
          8.946000000000002,
          8.631,
          9.109000000000002,
          9.247000000000002,
          6.7440000000000015,
          6.506000000000001,
          9.009,
          10.942,
          10.529000000000002,
          7.6960000000000015,
          8.302000000000001,
          7.094000000000001,
          10.523,
          8.058000000000002,
          9.489,
          9.471,
          9.339,
          7.860000000000001,
          9.668,
          12.566,
          8.932,
          8.292000000000002,
          8.537,
          10.074000000000002,
          10.187000000000001,
          10.027000000000001,
          9.194,
          10.814,
          10.433000000000002,
          8.914000000000003,
          8.039000000000001,
          10.098,
          9.017000000000001,
          11.023,
          6.445,
          9.171,
          8.381,
          6.520000000000001,
          10.421,
          10.275,
          9.455,
          8.812999999999997,
          6.916000000000001,
          10.561,
          8.189,
          9.223,
          8.763000000000002,
          8.035,
          8.636000000000001,
          8.273000000000001,
          6.4250000000000025,
          9.553,
          8.225000000000001,
          8.875,
          8.871,
          8.73,
          10.649000000000001,
          7.8450000000000015,
          9.786,
          10.826,
          9.233,
          9.921,
          6.158000000000001,
          8.773000000000001,
          9.2,
          9.096,
          6.846000000000001,
          8.118,
          9.978000000000002,
          10.124,
          10.434000000000001,
          9.146,
          8.232000000000001,
          9.3,
          8.354000000000001,
          9.146,
          9.445,
          11.111,
          10.604000000000001,
          10.741,
          6.548000000000001,
          10.121,
          8.863999999999997,
          8.699000000000002,
          7.9010000000000025,
          7.6320000000000014,
          7.8450000000000015,
          8.707,
          8.481000000000002,
          7.407000000000001,
          10.8,
          9.898,
          8.234000000000002,
          10.957,
          11.091,
          8.205000000000002,
          9.214,
          7.3450000000000015,
          8.107000000000001,
          10.255999999999998,
          10.349,
          8.632000000000001,
          10.353000000000002,
          8.88,
          9.216000000000001,
          8.231000000000002,
          7.961,
          9.368,
          9.246,
          11.161,
          10.507,
          10.286,
          8.902999999999997,
          8.997000000000002,
          7.5020000000000024,
          9.11,
          9.068,
          10.823,
          10.15,
          9.572000000000001,
          10.189,
          9.434,
          7.403,
          10.299000000000001,
          10.417000000000002,
          9.986,
          9.654000000000002,
          10.075,
          9.238,
          8.789000000000001,
          10.558000000000002,
          9.019,
          9.204,
          10.575,
          8.761000000000001,
          11.516000000000002,
          8.283999999999999,
          10.325,
          10.141,
          10.649000000000001,
          10.742,
          8.245000000000001,
          10.773,
          9.616,
          10.367,
          12.170000000000002,
          8.828000000000003,
          10.485,
          8.914000000000003,
          11.081,
          10.404000000000002,
          10.394,
          8.059000000000001,
          9.728000000000002,
          12.361,
          8.357999999999999,
          11.303,
          10.851,
          11.15,
          7.495000000000001,
          9.588,
          8.869000000000002,
          9.651000000000002,
          9.322000000000001,
          10.623,
          9.824000000000002,
          9.564,
          7.85,
          7.161000000000001,
          10.854000000000001,
          9.162,
          10.267000000000001,
          8.542000000000002,
          9.158,
          11.213,
          10.303,
          9.889,
          9.363,
          12.002,
          9.518,
          10.08,
          8.521,
          8.509,
          9.298,
          8.461,
          9.671,
          11.925,
          11.539000000000001,
          11.925,
          10.615,
          10.045000000000002,
          12.125,
          9.744000000000002,
          9.398,
          12.175999999999998,
          11.300999999999998,
          11.165,
          10.486,
          11.952000000000002,
          11.483,
          11.951,
          9.669,
          10.265,
          9.852,
          10.559000000000001,
          9.961,
          10.39,
          9.965000000000002,
          11.122,
          12.091,
          9.041
         ],
         "yaxis": "y"
        }
       ],
       "layout": {
        "legend": {
         "tracegroupgap": 0
        },
        "margin": {
         "t": 60
        },
        "template": {
         "data": {
          "bar": [
           {
            "error_x": {
             "color": "#2a3f5f"
            },
            "error_y": {
             "color": "#2a3f5f"
            },
            "marker": {
             "line": {
              "color": "#E5ECF6",
              "width": 0.5
             }
            },
            "type": "bar"
           }
          ],
          "barpolar": [
           {
            "marker": {
             "line": {
              "color": "#E5ECF6",
              "width": 0.5
             }
            },
            "type": "barpolar"
           }
          ],
          "carpet": [
           {
            "aaxis": {
             "endlinecolor": "#2a3f5f",
             "gridcolor": "white",
             "linecolor": "white",
             "minorgridcolor": "white",
             "startlinecolor": "#2a3f5f"
            },
            "baxis": {
             "endlinecolor": "#2a3f5f",
             "gridcolor": "white",
             "linecolor": "white",
             "minorgridcolor": "white",
             "startlinecolor": "#2a3f5f"
            },
            "type": "carpet"
           }
          ],
          "choropleth": [
           {
            "colorbar": {
             "outlinewidth": 0,
             "ticks": ""
            },
            "type": "choropleth"
           }
          ],
          "contour": [
           {
            "colorbar": {
             "outlinewidth": 0,
             "ticks": ""
            },
            "colorscale": [
             [
              0,
              "#0d0887"
             ],
             [
              0.1111111111111111,
              "#46039f"
             ],
             [
              0.2222222222222222,
              "#7201a8"
             ],
             [
              0.3333333333333333,
              "#9c179e"
             ],
             [
              0.4444444444444444,
              "#bd3786"
             ],
             [
              0.5555555555555556,
              "#d8576b"
             ],
             [
              0.6666666666666666,
              "#ed7953"
             ],
             [
              0.7777777777777778,
              "#fb9f3a"
             ],
             [
              0.8888888888888888,
              "#fdca26"
             ],
             [
              1,
              "#f0f921"
             ]
            ],
            "type": "contour"
           }
          ],
          "contourcarpet": [
           {
            "colorbar": {
             "outlinewidth": 0,
             "ticks": ""
            },
            "type": "contourcarpet"
           }
          ],
          "heatmap": [
           {
            "colorbar": {
             "outlinewidth": 0,
             "ticks": ""
            },
            "colorscale": [
             [
              0,
              "#0d0887"
             ],
             [
              0.1111111111111111,
              "#46039f"
             ],
             [
              0.2222222222222222,
              "#7201a8"
             ],
             [
              0.3333333333333333,
              "#9c179e"
             ],
             [
              0.4444444444444444,
              "#bd3786"
             ],
             [
              0.5555555555555556,
              "#d8576b"
             ],
             [
              0.6666666666666666,
              "#ed7953"
             ],
             [
              0.7777777777777778,
              "#fb9f3a"
             ],
             [
              0.8888888888888888,
              "#fdca26"
             ],
             [
              1,
              "#f0f921"
             ]
            ],
            "type": "heatmap"
           }
          ],
          "heatmapgl": [
           {
            "colorbar": {
             "outlinewidth": 0,
             "ticks": ""
            },
            "colorscale": [
             [
              0,
              "#0d0887"
             ],
             [
              0.1111111111111111,
              "#46039f"
             ],
             [
              0.2222222222222222,
              "#7201a8"
             ],
             [
              0.3333333333333333,
              "#9c179e"
             ],
             [
              0.4444444444444444,
              "#bd3786"
             ],
             [
              0.5555555555555556,
              "#d8576b"
             ],
             [
              0.6666666666666666,
              "#ed7953"
             ],
             [
              0.7777777777777778,
              "#fb9f3a"
             ],
             [
              0.8888888888888888,
              "#fdca26"
             ],
             [
              1,
              "#f0f921"
             ]
            ],
            "type": "heatmapgl"
           }
          ],
          "histogram": [
           {
            "marker": {
             "colorbar": {
              "outlinewidth": 0,
              "ticks": ""
             }
            },
            "type": "histogram"
           }
          ],
          "histogram2d": [
           {
            "colorbar": {
             "outlinewidth": 0,
             "ticks": ""
            },
            "colorscale": [
             [
              0,
              "#0d0887"
             ],
             [
              0.1111111111111111,
              "#46039f"
             ],
             [
              0.2222222222222222,
              "#7201a8"
             ],
             [
              0.3333333333333333,
              "#9c179e"
             ],
             [
              0.4444444444444444,
              "#bd3786"
             ],
             [
              0.5555555555555556,
              "#d8576b"
             ],
             [
              0.6666666666666666,
              "#ed7953"
             ],
             [
              0.7777777777777778,
              "#fb9f3a"
             ],
             [
              0.8888888888888888,
              "#fdca26"
             ],
             [
              1,
              "#f0f921"
             ]
            ],
            "type": "histogram2d"
           }
          ],
          "histogram2dcontour": [
           {
            "colorbar": {
             "outlinewidth": 0,
             "ticks": ""
            },
            "colorscale": [
             [
              0,
              "#0d0887"
             ],
             [
              0.1111111111111111,
              "#46039f"
             ],
             [
              0.2222222222222222,
              "#7201a8"
             ],
             [
              0.3333333333333333,
              "#9c179e"
             ],
             [
              0.4444444444444444,
              "#bd3786"
             ],
             [
              0.5555555555555556,
              "#d8576b"
             ],
             [
              0.6666666666666666,
              "#ed7953"
             ],
             [
              0.7777777777777778,
              "#fb9f3a"
             ],
             [
              0.8888888888888888,
              "#fdca26"
             ],
             [
              1,
              "#f0f921"
             ]
            ],
            "type": "histogram2dcontour"
           }
          ],
          "mesh3d": [
           {
            "colorbar": {
             "outlinewidth": 0,
             "ticks": ""
            },
            "type": "mesh3d"
           }
          ],
          "parcoords": [
           {
            "line": {
             "colorbar": {
              "outlinewidth": 0,
              "ticks": ""
             }
            },
            "type": "parcoords"
           }
          ],
          "pie": [
           {
            "automargin": true,
            "type": "pie"
           }
          ],
          "scatter": [
           {
            "marker": {
             "colorbar": {
              "outlinewidth": 0,
              "ticks": ""
             }
            },
            "type": "scatter"
           }
          ],
          "scatter3d": [
           {
            "line": {
             "colorbar": {
              "outlinewidth": 0,
              "ticks": ""
             }
            },
            "marker": {
             "colorbar": {
              "outlinewidth": 0,
              "ticks": ""
             }
            },
            "type": "scatter3d"
           }
          ],
          "scattercarpet": [
           {
            "marker": {
             "colorbar": {
              "outlinewidth": 0,
              "ticks": ""
             }
            },
            "type": "scattercarpet"
           }
          ],
          "scattergeo": [
           {
            "marker": {
             "colorbar": {
              "outlinewidth": 0,
              "ticks": ""
             }
            },
            "type": "scattergeo"
           }
          ],
          "scattergl": [
           {
            "marker": {
             "colorbar": {
              "outlinewidth": 0,
              "ticks": ""
             }
            },
            "type": "scattergl"
           }
          ],
          "scattermapbox": [
           {
            "marker": {
             "colorbar": {
              "outlinewidth": 0,
              "ticks": ""
             }
            },
            "type": "scattermapbox"
           }
          ],
          "scatterpolar": [
           {
            "marker": {
             "colorbar": {
              "outlinewidth": 0,
              "ticks": ""
             }
            },
            "type": "scatterpolar"
           }
          ],
          "scatterpolargl": [
           {
            "marker": {
             "colorbar": {
              "outlinewidth": 0,
              "ticks": ""
             }
            },
            "type": "scatterpolargl"
           }
          ],
          "scatterternary": [
           {
            "marker": {
             "colorbar": {
              "outlinewidth": 0,
              "ticks": ""
             }
            },
            "type": "scatterternary"
           }
          ],
          "surface": [
           {
            "colorbar": {
             "outlinewidth": 0,
             "ticks": ""
            },
            "colorscale": [
             [
              0,
              "#0d0887"
             ],
             [
              0.1111111111111111,
              "#46039f"
             ],
             [
              0.2222222222222222,
              "#7201a8"
             ],
             [
              0.3333333333333333,
              "#9c179e"
             ],
             [
              0.4444444444444444,
              "#bd3786"
             ],
             [
              0.5555555555555556,
              "#d8576b"
             ],
             [
              0.6666666666666666,
              "#ed7953"
             ],
             [
              0.7777777777777778,
              "#fb9f3a"
             ],
             [
              0.8888888888888888,
              "#fdca26"
             ],
             [
              1,
              "#f0f921"
             ]
            ],
            "type": "surface"
           }
          ],
          "table": [
           {
            "cells": {
             "fill": {
              "color": "#EBF0F8"
             },
             "line": {
              "color": "white"
             }
            },
            "header": {
             "fill": {
              "color": "#C8D4E3"
             },
             "line": {
              "color": "white"
             }
            },
            "type": "table"
           }
          ]
         },
         "layout": {
          "annotationdefaults": {
           "arrowcolor": "#2a3f5f",
           "arrowhead": 0,
           "arrowwidth": 1
          },
          "coloraxis": {
           "colorbar": {
            "outlinewidth": 0,
            "ticks": ""
           }
          },
          "colorscale": {
           "diverging": [
            [
             0,
             "#8e0152"
            ],
            [
             0.1,
             "#c51b7d"
            ],
            [
             0.2,
             "#de77ae"
            ],
            [
             0.3,
             "#f1b6da"
            ],
            [
             0.4,
             "#fde0ef"
            ],
            [
             0.5,
             "#f7f7f7"
            ],
            [
             0.6,
             "#e6f5d0"
            ],
            [
             0.7,
             "#b8e186"
            ],
            [
             0.8,
             "#7fbc41"
            ],
            [
             0.9,
             "#4d9221"
            ],
            [
             1,
             "#276419"
            ]
           ],
           "sequential": [
            [
             0,
             "#0d0887"
            ],
            [
             0.1111111111111111,
             "#46039f"
            ],
            [
             0.2222222222222222,
             "#7201a8"
            ],
            [
             0.3333333333333333,
             "#9c179e"
            ],
            [
             0.4444444444444444,
             "#bd3786"
            ],
            [
             0.5555555555555556,
             "#d8576b"
            ],
            [
             0.6666666666666666,
             "#ed7953"
            ],
            [
             0.7777777777777778,
             "#fb9f3a"
            ],
            [
             0.8888888888888888,
             "#fdca26"
            ],
            [
             1,
             "#f0f921"
            ]
           ],
           "sequentialminus": [
            [
             0,
             "#0d0887"
            ],
            [
             0.1111111111111111,
             "#46039f"
            ],
            [
             0.2222222222222222,
             "#7201a8"
            ],
            [
             0.3333333333333333,
             "#9c179e"
            ],
            [
             0.4444444444444444,
             "#bd3786"
            ],
            [
             0.5555555555555556,
             "#d8576b"
            ],
            [
             0.6666666666666666,
             "#ed7953"
            ],
            [
             0.7777777777777778,
             "#fb9f3a"
            ],
            [
             0.8888888888888888,
             "#fdca26"
            ],
            [
             1,
             "#f0f921"
            ]
           ]
          },
          "colorway": [
           "#636efa",
           "#EF553B",
           "#00cc96",
           "#ab63fa",
           "#FFA15A",
           "#19d3f3",
           "#FF6692",
           "#B6E880",
           "#FF97FF",
           "#FECB52"
          ],
          "font": {
           "color": "#2a3f5f"
          },
          "geo": {
           "bgcolor": "white",
           "lakecolor": "white",
           "landcolor": "#E5ECF6",
           "showlakes": true,
           "showland": true,
           "subunitcolor": "white"
          },
          "hoverlabel": {
           "align": "left"
          },
          "hovermode": "closest",
          "mapbox": {
           "style": "light"
          },
          "paper_bgcolor": "white",
          "plot_bgcolor": "#E5ECF6",
          "polar": {
           "angularaxis": {
            "gridcolor": "white",
            "linecolor": "white",
            "ticks": ""
           },
           "bgcolor": "#E5ECF6",
           "radialaxis": {
            "gridcolor": "white",
            "linecolor": "white",
            "ticks": ""
           }
          },
          "scene": {
           "xaxis": {
            "backgroundcolor": "#E5ECF6",
            "gridcolor": "white",
            "gridwidth": 2,
            "linecolor": "white",
            "showbackground": true,
            "ticks": "",
            "zerolinecolor": "white"
           },
           "yaxis": {
            "backgroundcolor": "#E5ECF6",
            "gridcolor": "white",
            "gridwidth": 2,
            "linecolor": "white",
            "showbackground": true,
            "ticks": "",
            "zerolinecolor": "white"
           },
           "zaxis": {
            "backgroundcolor": "#E5ECF6",
            "gridcolor": "white",
            "gridwidth": 2,
            "linecolor": "white",
            "showbackground": true,
            "ticks": "",
            "zerolinecolor": "white"
           }
          },
          "shapedefaults": {
           "line": {
            "color": "#2a3f5f"
           }
          },
          "ternary": {
           "aaxis": {
            "gridcolor": "white",
            "linecolor": "white",
            "ticks": ""
           },
           "baxis": {
            "gridcolor": "white",
            "linecolor": "white",
            "ticks": ""
           },
           "bgcolor": "#E5ECF6",
           "caxis": {
            "gridcolor": "white",
            "linecolor": "white",
            "ticks": ""
           }
          },
          "title": {
           "x": 0.05
          },
          "xaxis": {
           "automargin": true,
           "gridcolor": "white",
           "linecolor": "white",
           "ticks": "",
           "title": {
            "standoff": 15
           },
           "zerolinecolor": "white",
           "zerolinewidth": 2
          },
          "yaxis": {
           "automargin": true,
           "gridcolor": "white",
           "linecolor": "white",
           "ticks": "",
           "title": {
            "standoff": 15
           },
           "zerolinecolor": "white",
           "zerolinewidth": 2
          }
         }
        },
        "title": {
         "text": "<b>Evolution de la température moyenne par an en France</b>"
        },
        "xaxis": {
         "anchor": "y",
         "domain": [
          0,
          1
         ],
         "title": {
          "text": ""
         }
        },
        "yaxis": {
         "anchor": "x",
         "domain": [
          0,
          1
         ],
         "title": {
          "text": ""
         }
        }
       }
      }
     },
     "metadata": {},
     "output_type": "display_data"
    }
   ],
   "source": [
    "temperatureFranceMonth1 = temperatureFranceMonth.query(\"month == 'Janvier' or month == 'Mars' or month == 'Mai'\")\n",
    "fig = px.scatter(\n",
    "        temperatureFranceMonth1,x='year', y='AverageTemperature', color='month'\n",
    "        )\n",
    "    \n",
    "fig.update_layout(title='<b>Evolution de la température moyenne par an en France</b>',xaxis_title='', yaxis_title='')\n",
    "fig.show() "
   ]
  },
  {
   "cell_type": "code",
   "execution_count": 13,
   "metadata": {},
   "outputs": [
    {
     "data": {
      "application/vnd.plotly.v1+json": {
       "config": {
        "plotlyServerURL": "https://plot.ly"
       },
       "data": [
        {
         "hoverlabel": {
          "namelength": 0
         },
         "hovertemplate": "month=Novembre<br>year=%{x}<br>AverageTemperature=%{y}",
         "legendgroup": "month=Novembre",
         "marker": {
          "color": "#636efa",
          "symbol": "circle"
         },
         "mode": "markers",
         "name": "month=Novembre",
         "showlegend": true,
         "type": "scatter",
         "x": [
          "1743",
          "1744",
          "1752",
          "1753",
          "1754",
          "1755",
          "1756",
          "1757",
          "1758",
          "1759",
          "1760",
          "1761",
          "1762",
          "1763",
          "1764",
          "1765",
          "1766",
          "1767",
          "1768",
          "1769",
          "1770",
          "1771",
          "1772",
          "1773",
          "1774",
          "1775",
          "1776",
          "1777",
          "1778",
          "1779",
          "1780",
          "1781",
          "1782",
          "1783",
          "1784",
          "1785",
          "1786",
          "1787",
          "1788",
          "1789",
          "1790",
          "1791",
          "1792",
          "1793",
          "1794",
          "1795",
          "1796",
          "1797",
          "1798",
          "1799",
          "1800",
          "1801",
          "1802",
          "1803",
          "1804",
          "1805",
          "1806",
          "1807",
          "1808",
          "1809",
          "1810",
          "1811",
          "1812",
          "1813",
          "1814",
          "1815",
          "1816",
          "1817",
          "1818",
          "1819",
          "1820",
          "1821",
          "1822",
          "1823",
          "1824",
          "1825",
          "1826",
          "1827",
          "1828",
          "1829",
          "1830",
          "1831",
          "1832",
          "1833",
          "1834",
          "1835",
          "1836",
          "1837",
          "1838",
          "1839",
          "1840",
          "1841",
          "1842",
          "1843",
          "1844",
          "1845",
          "1846",
          "1847",
          "1848",
          "1849",
          "1850",
          "1851",
          "1852",
          "1853",
          "1854",
          "1855",
          "1856",
          "1857",
          "1858",
          "1859",
          "1860",
          "1861",
          "1862",
          "1863",
          "1864",
          "1865",
          "1866",
          "1867",
          "1868",
          "1869",
          "1870",
          "1871",
          "1872",
          "1873",
          "1874",
          "1875",
          "1876",
          "1877",
          "1878",
          "1879",
          "1880",
          "1881",
          "1882",
          "1883",
          "1884",
          "1885",
          "1886",
          "1887",
          "1888",
          "1889",
          "1890",
          "1891",
          "1892",
          "1893",
          "1894",
          "1895",
          "1896",
          "1897",
          "1898",
          "1899",
          "1900",
          "1901",
          "1902",
          "1903",
          "1904",
          "1905",
          "1906",
          "1907",
          "1908",
          "1909",
          "1910",
          "1911",
          "1912",
          "1913",
          "1914",
          "1915",
          "1916",
          "1917",
          "1918",
          "1919",
          "1920",
          "1921",
          "1922",
          "1923",
          "1924",
          "1925",
          "1926",
          "1927",
          "1928",
          "1929",
          "1930",
          "1931",
          "1932",
          "1933",
          "1934",
          "1935",
          "1936",
          "1937",
          "1938",
          "1939",
          "1940",
          "1941",
          "1942",
          "1943",
          "1944",
          "1945",
          "1946",
          "1947",
          "1948",
          "1949",
          "1950",
          "1951",
          "1952",
          "1953",
          "1954",
          "1955",
          "1956",
          "1957",
          "1958",
          "1959",
          "1960",
          "1961",
          "1962",
          "1963",
          "1964",
          "1965",
          "1966",
          "1967",
          "1968",
          "1969",
          "1970",
          "1971",
          "1972",
          "1973",
          "1974",
          "1975",
          "1976",
          "1977",
          "1978",
          "1979",
          "1980",
          "1981",
          "1982",
          "1983",
          "1984",
          "1985",
          "1986",
          "1987",
          "1988",
          "1989",
          "1990",
          "1991",
          "1992",
          "1993",
          "1994",
          "1995",
          "1996",
          "1997",
          "1998",
          "1999",
          "2000",
          "2001",
          "2002",
          "2003",
          "2004",
          "2005",
          "2006",
          "2007",
          "2008",
          "2009",
          "2010",
          "2011",
          "2012"
         ],
         "xaxis": "x",
         "y": [
          10.203,
          9.839,
          10.761,
          8.468,
          10.754,
          9.463,
          7.440999999999999,
          8.943,
          9.211,
          6.886999999999999,
          9.303999999999998,
          8.550999999999998,
          8.668,
          8.665,
          9.274,
          9.06,
          10.834,
          11.419,
          9.928999999999998,
          9.977,
          10.19,
          8.527000000000001,
          11.482999999999999,
          9.064,
          7.4049999999999985,
          9.815,
          9.289,
          10.193,
          9.507,
          9.771999999999998,
          9.156,
          10.357999999999999,
          6.9419999999999975,
          8.889999999999997,
          9.207999999999998,
          9.441999999999998,
          7.834999999999999,
          9.584,
          7.922999999999999,
          7.9049999999999985,
          9.62,
          8.694999999999999,
          9.34,
          9.925999999999998,
          10.274,
          8.578,
          9.382,
          9.287999999999998,
          9.396999999999998,
          8.825999999999997,
          10.088,
          9.742,
          9.741,
          9.884,
          10.219,
          7.155999999999999,
          10.707,
          9.258,
          9.215,
          7.334999999999999,
          9.225,
          10.061,
          7.845999999999999,
          9.133,
          10.065,
          7.7349999999999985,
          7.736999999999999,
          10.577,
          10.970999999999998,
          8.415999999999999,
          7.604999999999999,
          11.363,
          11.021999999999998,
          8.600999999999999,
          11.314,
          10.033999999999999,
          8.716000000000001,
          8.232999999999999,
          10.185,
          7.855999999999999,
          10.390999999999998,
          9.454,
          9.055,
          10.065,
          10.347,
          7.822999999999999,
          9.046,
          8.495999999999999,
          9.88,
          10.074,
          10.009,
          9.441999999999998,
          8.312999999999999,
          9.335,
          9.589,
          10.334,
          9.213,
          9.832,
          8.459999999999999,
          8.669999999999998,
          10.277999999999999,
          6.507999999999999,
          11.902,
          9.101,
          8.014,
          8.142999999999999,
          7.7269999999999985,
          10.243,
          7.6949999999999985,
          9.062999999999999,
          8.376,
          9.451,
          8.693999999999999,
          9.792,
          8.68,
          10.249,
          9.883,
          8.678999999999998,
          8.149,
          9.48,
          9.065,
          7.1469999999999985,
          10.447,
          9.643999999999998,
          8.941999999999998,
          9.195,
          9.376,
          10.849,
          8.122,
          7.5059999999999985,
          9.34,
          11.097999999999999,
          10.027999999999999,
          9.677,
          8.308,
          9.774,
          9.702,
          8.475,
          10.412,
          9.287999999999998,
          8.738999999999999,
          8.931999999999997,
          10.52,
          8.45,
          10.183,
          11.675999999999998,
          7.5939999999999985,
          9.853,
          10.491,
          10.69,
          9.97,
          8.161999999999999,
          9.148,
          9.792,
          8.713999999999999,
          8.892999999999997,
          10.315999999999999,
          10.4,
          9.406,
          8.414,
          8.84,
          10.204,
          8.469,
          11.64,
          9.042,
          7.962999999999999,
          9.79,
          9.863999999999999,
          9.42,
          7.725999999999999,
          8.850999999999997,
          8.130999999999998,
          8.642000000000001,
          8.686,
          10.09,
          8.235999999999999,
          10.966,
          9.755,
          10.835999999999999,
          10.127,
          11.398,
          10.863,
          10.475,
          8.632,
          8.629,
          10.329,
          9.657,
          9.687999999999999,
          12.027999999999999,
          11.499,
          10.482,
          9.43,
          8.867999999999997,
          8.827,
          9.901,
          9.479,
          9.982999999999999,
          11.155999999999999,
          10.368,
          9.334,
          10.447,
          11.294999999999998,
          8.744,
          9.956,
          10.765999999999998,
          9.668,
          8.312000000000001,
          9.714,
          9.59,
          9.712,
          11.018999999999998,
          9.494,
          8.498999999999999,
          11.87,
          10.014,
          9.43,
          8.244,
          10.012,
          9.76,
          10.091,
          11.451999999999998,
          8.571,
          10.306,
          9.800999999999998,
          10.382,
          9.581,
          9.509,
          9.95,
          9.47,
          9.675999999999998,
          8.811,
          10.161,
          11.174,
          10.47,
          11.989,
          7.7029999999999985,
          10.832999999999998,
          10.151,
          9.357999999999999,
          10.052,
          10.191999999999998,
          9.847999999999999,
          11.693,
          7.978,
          12.727,
          10.453,
          9.925,
          11.349,
          8.437999999999999,
          9.085,
          11.009,
          9.202,
          11.783,
          11.402999999999999,
          10.075,
          9.64,
          12.039,
          9.494,
          10.415999999999999,
          12.286,
          10.166,
          12.213,
          10.890999999999998
         ],
         "yaxis": "y"
        },
        {
         "hoverlabel": {
          "namelength": 0
         },
         "hovertemplate": "month=Juillet<br>year=%{x}<br>AverageTemperature=%{y}",
         "legendgroup": "month=Juillet",
         "marker": {
          "color": "#EF553B",
          "symbol": "circle"
         },
         "mode": "markers",
         "name": "month=Juillet",
         "showlegend": true,
         "type": "scatter",
         "x": [
          "1744",
          "1750",
          "1751",
          "1753",
          "1754",
          "1755",
          "1756",
          "1758",
          "1759",
          "1760",
          "1763",
          "1764",
          "1765",
          "1766",
          "1767",
          "1768",
          "1769",
          "1770",
          "1771",
          "1772",
          "1773",
          "1774",
          "1775",
          "1776",
          "1777",
          "1779",
          "1780",
          "1781",
          "1782",
          "1783",
          "1784",
          "1785",
          "1786",
          "1787",
          "1789",
          "1790",
          "1791",
          "1792",
          "1795",
          "1796",
          "1797",
          "1798",
          "1799",
          "1800",
          "1801",
          "1802",
          "1803",
          "1804",
          "1805",
          "1806",
          "1807",
          "1808",
          "1809",
          "1810",
          "1811",
          "1812",
          "1813",
          "1814",
          "1815",
          "1816",
          "1817",
          "1818",
          "1819",
          "1820",
          "1821",
          "1822",
          "1823",
          "1824",
          "1825",
          "1826",
          "1827",
          "1828",
          "1829",
          "1830",
          "1831",
          "1832",
          "1833",
          "1834",
          "1835",
          "1836",
          "1837",
          "1838",
          "1839",
          "1840",
          "1841",
          "1842",
          "1843",
          "1844",
          "1845",
          "1846",
          "1847",
          "1848",
          "1849",
          "1850",
          "1851",
          "1853",
          "1854",
          "1855",
          "1856",
          "1857",
          "1858",
          "1860",
          "1861",
          "1862",
          "1863",
          "1864",
          "1865",
          "1866",
          "1867",
          "1868",
          "1869",
          "1870",
          "1871",
          "1872",
          "1873",
          "1874",
          "1875",
          "1876",
          "1877",
          "1878",
          "1879",
          "1880",
          "1881",
          "1882",
          "1883",
          "1884",
          "1885",
          "1886",
          "1887",
          "1888",
          "1889",
          "1890",
          "1891",
          "1892",
          "1893",
          "1894",
          "1895",
          "1896",
          "1897",
          "1898",
          "1899",
          "1900",
          "1901",
          "1902",
          "1903",
          "1904",
          "1905",
          "1906",
          "1907",
          "1908",
          "1909",
          "1910",
          "1912",
          "1913",
          "1914",
          "1915",
          "1916",
          "1917",
          "1918",
          "1919",
          "1920",
          "1922",
          "1923",
          "1924",
          "1925",
          "1926",
          "1927",
          "1929",
          "1930",
          "1931",
          "1932",
          "1933",
          "1934",
          "1935",
          "1936",
          "1937",
          "1938",
          "1939",
          "1940",
          "1941",
          "1942",
          "1943",
          "1944",
          "1945",
          "1946",
          "1947",
          "1948",
          "1950",
          "1951",
          "1952",
          "1953",
          "1954",
          "1955",
          "1956",
          "1957",
          "1958",
          "1959",
          "1960",
          "1961",
          "1962",
          "1963",
          "1964",
          "1965",
          "1966",
          "1967",
          "1968",
          "1969",
          "1970",
          "1971",
          "1972",
          "1973",
          "1974",
          "1975",
          "1976",
          "1977",
          "1978",
          "1979",
          "1980",
          "1981",
          "1982",
          "1984",
          "1985",
          "1986",
          "1987",
          "1988",
          "1989",
          "1990",
          "1991",
          "1992",
          "1993",
          "1996",
          "1997",
          "1998",
          "1999",
          "2000",
          "2001",
          "2002",
          "2004",
          "2005",
          "2007",
          "2008",
          "2009",
          "2011",
          "2012"
         ],
         "xaxis": "x",
         "y": [
          18.782,
          21.089000000000002,
          19.77,
          20.4,
          19.02,
          19.467,
          19.517,
          17.477,
          20.566,
          19.356,
          19.851,
          19.061,
          18.191,
          18.632,
          19.17,
          19.215,
          19.391,
          17.559,
          19.86,
          19.891,
          18.685,
          19.922,
          19.882,
          19.799,
          18.304000000000002,
          19.649,
          20.714000000000002,
          20.541,
          20.687,
          20.902,
          20.357,
          19.593,
          19.064,
          18.927,
          19.278,
          18.741,
          19.264,
          19.421,
          18.43,
          18.964000000000002,
          20.61,
          19.785,
          19.012,
          20.129,
          19.157,
          18.786,
          20.702,
          19.393,
          18.542,
          19.28,
          20.903000000000002,
          20.931,
          18.093,
          17.665,
          19.3,
          18.432000000000002,
          17.631,
          18.728,
          18.811,
          16.521,
          17.915,
          19.951,
          19.36,
          18.758,
          17.897000000000006,
          19.64,
          18.339000000000002,
          20.089000000000002,
          19.921,
          20.295,
          20.71,
          19.547,
          19.286,
          20.191,
          19.306,
          19.823,
          18.203,
          20.577,
          20.3,
          20.069000000000006,
          19.474,
          19.467,
          19.79,
          18.487000000000002,
          18.046,
          19.394000000000002,
          18.447,
          19.053,
          18.987000000000002,
          20.945,
          20.34,
          19.603,
          19.558,
          19.323,
          18.747,
          19.241,
          19.361,
          19.07,
          19.118,
          20.565,
          18.447,
          17.922,
          18.493,
          19.32,
          19.478,
          19.492,
          20.06,
          19.386,
          18.513,
          20.571,
          20.646,
          20.939,
          19.414,
          20.163,
          20.4,
          20.855,
          18.175,
          20.527,
          19.134,
          19.418,
          17.424,
          19.637,
          21.003,
          18.128,
          18.1,
          19.664,
          19.736,
          19.323,
          20.412,
          17.499000000000002,
          18.807000000000002,
          17.967,
          18.614,
          18.866,
          19.471,
          19.224,
          19.315,
          19.571,
          19.814,
          18.628,
          19.471,
          20.594,
          20.141,
          19.504,
          18.741,
          20.992,
          20.752,
          19.496,
          17.949,
          19.064,
          17.788,
          17.858,
          18.886,
          17.655,
          18.451,
          18.751,
          18.434,
          19.399,
          18.965,
          17.191000000000006,
          18.704,
          18.135,
          20.725,
          19.135,
          18.999000000000002,
          19.142,
          18.993,
          20.082,
          18.564,
          18.847,
          18.367,
          20.231,
          20.594,
          20.299,
          18.607,
          19.662,
          18.855,
          18.524,
          18.443,
          20.132,
          19.153,
          19.993,
          19.484,
          20.437,
          20.04,
          21.082,
          18.368,
          21.059,
          19.526,
          21.016,
          19.186,
          17.849,
          20.033,
          18.831,
          19.614,
          19.086,
          21.017,
          18.152,
          18.945,
          18.925,
          19.761,
          20.592,
          18.224,
          18.214000000000002,
          20.708000000000002,
          19.034,
          20.144000000000002,
          19.066,
          20.528,
          19.209,
          19.339000000000002,
          18.931,
          19.99,
          20.957,
          18.779,
          18.545,
          19.611,
          17.887999999999995,
          18.613,
          21.028000000000002,
          19.985,
          20.494,
          19.852,
          19.8,
          19.105,
          20.99,
          20.636,
          20.587,
          20.148,
          18.974,
          19.689,
          19.562,
          19.881,
          20.968000000000004,
          18.726,
          20.242,
          19.56,
          19.912,
          20.756,
          19.369,
          19.957,
          20.56,
          18.844,
          19.711
         ],
         "yaxis": "y"
        },
        {
         "hoverlabel": {
          "namelength": 0
         },
         "hovertemplate": "month=Septembre<br>year=%{x}<br>AverageTemperature=%{y}",
         "legendgroup": "month=Septembre",
         "marker": {
          "color": "#00cc96",
          "symbol": "circle"
         },
         "mode": "markers",
         "name": "month=Septembre",
         "showlegend": true,
         "type": "scatter",
         "x": [
          "1744",
          "1750",
          "1751",
          "1753",
          "1754",
          "1755",
          "1756",
          "1757",
          "1758",
          "1759",
          "1760",
          "1761",
          "1762",
          "1763",
          "1764",
          "1765",
          "1766",
          "1767",
          "1768",
          "1769",
          "1770",
          "1771",
          "1772",
          "1773",
          "1774",
          "1775",
          "1776",
          "1777",
          "1778",
          "1779",
          "1780",
          "1781",
          "1782",
          "1783",
          "1784",
          "1785",
          "1786",
          "1787",
          "1788",
          "1789",
          "1790",
          "1791",
          "1792",
          "1793",
          "1794",
          "1795",
          "1796",
          "1797",
          "1798",
          "1799",
          "1800",
          "1801",
          "1802",
          "1803",
          "1804",
          "1805",
          "1806",
          "1807",
          "1808",
          "1809",
          "1810",
          "1811",
          "1812",
          "1813",
          "1814",
          "1815",
          "1816",
          "1817",
          "1818",
          "1819",
          "1820",
          "1821",
          "1822",
          "1823",
          "1824",
          "1825",
          "1826",
          "1827",
          "1828",
          "1829",
          "1830",
          "1831",
          "1832",
          "1833",
          "1834",
          "1835",
          "1836",
          "1837",
          "1838",
          "1839",
          "1840",
          "1841",
          "1842",
          "1843",
          "1844",
          "1845",
          "1846",
          "1847",
          "1848",
          "1849",
          "1850",
          "1851",
          "1852",
          "1853",
          "1854",
          "1855",
          "1856",
          "1857",
          "1858",
          "1859",
          "1860",
          "1861",
          "1862",
          "1863",
          "1864",
          "1865",
          "1866",
          "1867",
          "1868",
          "1869",
          "1870",
          "1871",
          "1872",
          "1873",
          "1874",
          "1875",
          "1876",
          "1877",
          "1878",
          "1879",
          "1880",
          "1881",
          "1882",
          "1883",
          "1884",
          "1885",
          "1886",
          "1887",
          "1888",
          "1889",
          "1890",
          "1891",
          "1892",
          "1893",
          "1894",
          "1895",
          "1896",
          "1897",
          "1898",
          "1899",
          "1900",
          "1901",
          "1902",
          "1903",
          "1904",
          "1905",
          "1906",
          "1907",
          "1908",
          "1909",
          "1910",
          "1911",
          "1912",
          "1913",
          "1914",
          "1915",
          "1916",
          "1917",
          "1918",
          "1919",
          "1920",
          "1921",
          "1922",
          "1923",
          "1924",
          "1925",
          "1926",
          "1927",
          "1928",
          "1929",
          "1930",
          "1931",
          "1932",
          "1933",
          "1934",
          "1935",
          "1936",
          "1937",
          "1938",
          "1939",
          "1940",
          "1941",
          "1942",
          "1943",
          "1944",
          "1945",
          "1946",
          "1947",
          "1948",
          "1949",
          "1950",
          "1951",
          "1952",
          "1953",
          "1954",
          "1955",
          "1956",
          "1957",
          "1958",
          "1959",
          "1960",
          "1961",
          "1962",
          "1963",
          "1964",
          "1965",
          "1966",
          "1967",
          "1968",
          "1969",
          "1970",
          "1971",
          "1972",
          "1973",
          "1974",
          "1975",
          "1976",
          "1977",
          "1978",
          "1979",
          "1980",
          "1981",
          "1982",
          "1983",
          "1984",
          "1985",
          "1986",
          "1987",
          "1988",
          "1989",
          "1990",
          "1991",
          "1992",
          "1993",
          "1994",
          "1995",
          "1996",
          "1997",
          "1998",
          "1999",
          "2000",
          "2001",
          "2002",
          "2003",
          "2004",
          "2005",
          "2006",
          "2007",
          "2008",
          "2009",
          "2010",
          "2011",
          "2012"
         ],
         "xaxis": "x",
         "y": [
          15.964,
          16.782,
          15.587000000000002,
          16.984,
          16.641000000000002,
          16.11,
          17.593,
          16.512999999999998,
          14.886,
          17.62,
          17.276,
          17.55,
          16.369,
          15.933000000000002,
          15.747,
          16.683,
          17.819000000000006,
          17.02,
          16.057000000000002,
          16.71,
          17.662000000000006,
          16.824,
          17.319000000000006,
          17.470000000000002,
          16.295,
          16.964000000000002,
          15.611,
          17.108,
          16.075000000000006,
          18.18,
          16.650000000000002,
          16.754,
          16.722,
          16.504,
          17.823,
          17.889,
          16.686,
          16.485,
          17.44,
          16.279,
          16.093,
          17.03,
          15.903,
          16.553,
          15.840000000000002,
          17.803,
          18.111,
          16.720000000000002,
          16.825,
          16.893,
          16.930999999999994,
          17.238,
          17.781000000000006,
          15.851,
          17.562,
          17.259,
          16.924,
          16.141000000000002,
          16.358,
          15.445,
          16.891000000000002,
          16.836000000000002,
          15.918,
          15.701,
          15.169,
          16.734,
          15.375,
          16.997,
          16.137999999999998,
          16.867,
          15.474,
          17.150000000000002,
          16.675,
          16.900000000000002,
          17.132,
          17.785999999999994,
          17.27,
          16.42,
          16.802,
          15.107000000000001,
          14.884,
          15.541,
          16.250999999999998,
          15.258,
          18.723000000000006,
          16.034000000000002,
          15.371,
          15.652000000000001,
          16.247,
          16.009,
          15.852,
          17.278000000000002,
          15.796,
          17.227,
          16.865000000000002,
          16.511000000000006,
          17.812,
          15.592,
          16.117,
          16.641000000000002,
          15.575,
          15.204,
          16.326,
          15.946000000000002,
          17.363,
          16.772000000000002,
          15.573,
          17.636000000000006,
          17.991,
          16.704,
          15.424000000000001,
          16.764,
          16.646,
          15.227,
          16.523,
          18.956,
          16.608,
          17.112000000000002,
          17.957,
          17.477,
          16.428,
          17.727,
          17.142,
          16.144000000000002,
          17.538,
          18.111,
          16.234,
          15.353000000000002,
          16.846,
          16.519000000000002,
          17.409000000000002,
          15.843,
          15.343000000000002,
          16.279,
          16.730999999999998,
          16.033,
          17.927,
          15.725,
          16.754,
          16.043,
          16.465999999999998,
          17.121000000000002,
          16.975,
          16.828,
          15.799000000000001,
          19.111,
          16.416,
          15.734000000000002,
          18.336,
          17.098000000000006,
          17.846,
          16.987000000000002,
          16.436,
          16.799,
          15.552,
          16.467000000000002,
          16.825,
          17.437,
          16.490000000000002,
          15.821000000000002,
          15.646,
          18.393,
          13.873,
          16.519000000000002,
          16.614,
          16.147000000000002,
          15.69,
          17.736,
          16.880000000000006,
          17.506,
          16.549,
          17.965999999999994,
          15.203,
          16.445,
          16.615000000000002,
          15.081,
          18.48,
          16.472,
          17.159000000000002,
          19.109,
          17.290000000000006,
          14.416,
          18.303,
          17.833000000000006,
          18.045,
          17.389,
          17.375,
          16.945999999999998,
          17.01,
          16.699,
          16.89,
          16.789,
          17.887,
          17.348000000000006,
          16.495,
          17.698,
          17.48,
          18.752,
          16.851000000000006,
          19.654,
          16.541,
          17.785,
          15.013000000000002,
          17.516000000000002,
          16.979000000000006,
          17.088,
          17.782,
          16.663,
          18.636000000000006,
          18.401,
          16.087,
          19.572000000000006,
          17,
          16.655,
          18.126,
          15.46,
          17.961000000000006,
          16.753,
          16.62,
          17.264,
          18.049,
          17.042,
          14.990000000000002,
          18.034000000000002,
          16.104,
          17.340999999999998,
          16.329,
          16.192,
          16.977,
          17.144000000000002,
          18.036,
          17.525000000000002,
          18.666,
          17.77,
          16.128,
          18.653,
          16.649,
          19.167,
          17.124000000000002,
          17.687,
          17.336000000000002,
          18.932000000000002,
          16.970000000000002,
          16.194000000000006,
          16.5,
          16.089000000000002,
          15.751,
          18.354,
          17.562,
          18.966,
          18.09,
          16.019000000000002,
          16.869,
          17.918,
          18.336,
          18.218,
          19.521,
          16.68,
          16.423000000000002,
          18.139000000000006,
          17.111,
          18.979,
          17.573
         ],
         "yaxis": "y"
        }
       ],
       "layout": {
        "legend": {
         "tracegroupgap": 0
        },
        "margin": {
         "t": 60
        },
        "template": {
         "data": {
          "bar": [
           {
            "error_x": {
             "color": "#2a3f5f"
            },
            "error_y": {
             "color": "#2a3f5f"
            },
            "marker": {
             "line": {
              "color": "#E5ECF6",
              "width": 0.5
             }
            },
            "type": "bar"
           }
          ],
          "barpolar": [
           {
            "marker": {
             "line": {
              "color": "#E5ECF6",
              "width": 0.5
             }
            },
            "type": "barpolar"
           }
          ],
          "carpet": [
           {
            "aaxis": {
             "endlinecolor": "#2a3f5f",
             "gridcolor": "white",
             "linecolor": "white",
             "minorgridcolor": "white",
             "startlinecolor": "#2a3f5f"
            },
            "baxis": {
             "endlinecolor": "#2a3f5f",
             "gridcolor": "white",
             "linecolor": "white",
             "minorgridcolor": "white",
             "startlinecolor": "#2a3f5f"
            },
            "type": "carpet"
           }
          ],
          "choropleth": [
           {
            "colorbar": {
             "outlinewidth": 0,
             "ticks": ""
            },
            "type": "choropleth"
           }
          ],
          "contour": [
           {
            "colorbar": {
             "outlinewidth": 0,
             "ticks": ""
            },
            "colorscale": [
             [
              0,
              "#0d0887"
             ],
             [
              0.1111111111111111,
              "#46039f"
             ],
             [
              0.2222222222222222,
              "#7201a8"
             ],
             [
              0.3333333333333333,
              "#9c179e"
             ],
             [
              0.4444444444444444,
              "#bd3786"
             ],
             [
              0.5555555555555556,
              "#d8576b"
             ],
             [
              0.6666666666666666,
              "#ed7953"
             ],
             [
              0.7777777777777778,
              "#fb9f3a"
             ],
             [
              0.8888888888888888,
              "#fdca26"
             ],
             [
              1,
              "#f0f921"
             ]
            ],
            "type": "contour"
           }
          ],
          "contourcarpet": [
           {
            "colorbar": {
             "outlinewidth": 0,
             "ticks": ""
            },
            "type": "contourcarpet"
           }
          ],
          "heatmap": [
           {
            "colorbar": {
             "outlinewidth": 0,
             "ticks": ""
            },
            "colorscale": [
             [
              0,
              "#0d0887"
             ],
             [
              0.1111111111111111,
              "#46039f"
             ],
             [
              0.2222222222222222,
              "#7201a8"
             ],
             [
              0.3333333333333333,
              "#9c179e"
             ],
             [
              0.4444444444444444,
              "#bd3786"
             ],
             [
              0.5555555555555556,
              "#d8576b"
             ],
             [
              0.6666666666666666,
              "#ed7953"
             ],
             [
              0.7777777777777778,
              "#fb9f3a"
             ],
             [
              0.8888888888888888,
              "#fdca26"
             ],
             [
              1,
              "#f0f921"
             ]
            ],
            "type": "heatmap"
           }
          ],
          "heatmapgl": [
           {
            "colorbar": {
             "outlinewidth": 0,
             "ticks": ""
            },
            "colorscale": [
             [
              0,
              "#0d0887"
             ],
             [
              0.1111111111111111,
              "#46039f"
             ],
             [
              0.2222222222222222,
              "#7201a8"
             ],
             [
              0.3333333333333333,
              "#9c179e"
             ],
             [
              0.4444444444444444,
              "#bd3786"
             ],
             [
              0.5555555555555556,
              "#d8576b"
             ],
             [
              0.6666666666666666,
              "#ed7953"
             ],
             [
              0.7777777777777778,
              "#fb9f3a"
             ],
             [
              0.8888888888888888,
              "#fdca26"
             ],
             [
              1,
              "#f0f921"
             ]
            ],
            "type": "heatmapgl"
           }
          ],
          "histogram": [
           {
            "marker": {
             "colorbar": {
              "outlinewidth": 0,
              "ticks": ""
             }
            },
            "type": "histogram"
           }
          ],
          "histogram2d": [
           {
            "colorbar": {
             "outlinewidth": 0,
             "ticks": ""
            },
            "colorscale": [
             [
              0,
              "#0d0887"
             ],
             [
              0.1111111111111111,
              "#46039f"
             ],
             [
              0.2222222222222222,
              "#7201a8"
             ],
             [
              0.3333333333333333,
              "#9c179e"
             ],
             [
              0.4444444444444444,
              "#bd3786"
             ],
             [
              0.5555555555555556,
              "#d8576b"
             ],
             [
              0.6666666666666666,
              "#ed7953"
             ],
             [
              0.7777777777777778,
              "#fb9f3a"
             ],
             [
              0.8888888888888888,
              "#fdca26"
             ],
             [
              1,
              "#f0f921"
             ]
            ],
            "type": "histogram2d"
           }
          ],
          "histogram2dcontour": [
           {
            "colorbar": {
             "outlinewidth": 0,
             "ticks": ""
            },
            "colorscale": [
             [
              0,
              "#0d0887"
             ],
             [
              0.1111111111111111,
              "#46039f"
             ],
             [
              0.2222222222222222,
              "#7201a8"
             ],
             [
              0.3333333333333333,
              "#9c179e"
             ],
             [
              0.4444444444444444,
              "#bd3786"
             ],
             [
              0.5555555555555556,
              "#d8576b"
             ],
             [
              0.6666666666666666,
              "#ed7953"
             ],
             [
              0.7777777777777778,
              "#fb9f3a"
             ],
             [
              0.8888888888888888,
              "#fdca26"
             ],
             [
              1,
              "#f0f921"
             ]
            ],
            "type": "histogram2dcontour"
           }
          ],
          "mesh3d": [
           {
            "colorbar": {
             "outlinewidth": 0,
             "ticks": ""
            },
            "type": "mesh3d"
           }
          ],
          "parcoords": [
           {
            "line": {
             "colorbar": {
              "outlinewidth": 0,
              "ticks": ""
             }
            },
            "type": "parcoords"
           }
          ],
          "pie": [
           {
            "automargin": true,
            "type": "pie"
           }
          ],
          "scatter": [
           {
            "marker": {
             "colorbar": {
              "outlinewidth": 0,
              "ticks": ""
             }
            },
            "type": "scatter"
           }
          ],
          "scatter3d": [
           {
            "line": {
             "colorbar": {
              "outlinewidth": 0,
              "ticks": ""
             }
            },
            "marker": {
             "colorbar": {
              "outlinewidth": 0,
              "ticks": ""
             }
            },
            "type": "scatter3d"
           }
          ],
          "scattercarpet": [
           {
            "marker": {
             "colorbar": {
              "outlinewidth": 0,
              "ticks": ""
             }
            },
            "type": "scattercarpet"
           }
          ],
          "scattergeo": [
           {
            "marker": {
             "colorbar": {
              "outlinewidth": 0,
              "ticks": ""
             }
            },
            "type": "scattergeo"
           }
          ],
          "scattergl": [
           {
            "marker": {
             "colorbar": {
              "outlinewidth": 0,
              "ticks": ""
             }
            },
            "type": "scattergl"
           }
          ],
          "scattermapbox": [
           {
            "marker": {
             "colorbar": {
              "outlinewidth": 0,
              "ticks": ""
             }
            },
            "type": "scattermapbox"
           }
          ],
          "scatterpolar": [
           {
            "marker": {
             "colorbar": {
              "outlinewidth": 0,
              "ticks": ""
             }
            },
            "type": "scatterpolar"
           }
          ],
          "scatterpolargl": [
           {
            "marker": {
             "colorbar": {
              "outlinewidth": 0,
              "ticks": ""
             }
            },
            "type": "scatterpolargl"
           }
          ],
          "scatterternary": [
           {
            "marker": {
             "colorbar": {
              "outlinewidth": 0,
              "ticks": ""
             }
            },
            "type": "scatterternary"
           }
          ],
          "surface": [
           {
            "colorbar": {
             "outlinewidth": 0,
             "ticks": ""
            },
            "colorscale": [
             [
              0,
              "#0d0887"
             ],
             [
              0.1111111111111111,
              "#46039f"
             ],
             [
              0.2222222222222222,
              "#7201a8"
             ],
             [
              0.3333333333333333,
              "#9c179e"
             ],
             [
              0.4444444444444444,
              "#bd3786"
             ],
             [
              0.5555555555555556,
              "#d8576b"
             ],
             [
              0.6666666666666666,
              "#ed7953"
             ],
             [
              0.7777777777777778,
              "#fb9f3a"
             ],
             [
              0.8888888888888888,
              "#fdca26"
             ],
             [
              1,
              "#f0f921"
             ]
            ],
            "type": "surface"
           }
          ],
          "table": [
           {
            "cells": {
             "fill": {
              "color": "#EBF0F8"
             },
             "line": {
              "color": "white"
             }
            },
            "header": {
             "fill": {
              "color": "#C8D4E3"
             },
             "line": {
              "color": "white"
             }
            },
            "type": "table"
           }
          ]
         },
         "layout": {
          "annotationdefaults": {
           "arrowcolor": "#2a3f5f",
           "arrowhead": 0,
           "arrowwidth": 1
          },
          "coloraxis": {
           "colorbar": {
            "outlinewidth": 0,
            "ticks": ""
           }
          },
          "colorscale": {
           "diverging": [
            [
             0,
             "#8e0152"
            ],
            [
             0.1,
             "#c51b7d"
            ],
            [
             0.2,
             "#de77ae"
            ],
            [
             0.3,
             "#f1b6da"
            ],
            [
             0.4,
             "#fde0ef"
            ],
            [
             0.5,
             "#f7f7f7"
            ],
            [
             0.6,
             "#e6f5d0"
            ],
            [
             0.7,
             "#b8e186"
            ],
            [
             0.8,
             "#7fbc41"
            ],
            [
             0.9,
             "#4d9221"
            ],
            [
             1,
             "#276419"
            ]
           ],
           "sequential": [
            [
             0,
             "#0d0887"
            ],
            [
             0.1111111111111111,
             "#46039f"
            ],
            [
             0.2222222222222222,
             "#7201a8"
            ],
            [
             0.3333333333333333,
             "#9c179e"
            ],
            [
             0.4444444444444444,
             "#bd3786"
            ],
            [
             0.5555555555555556,
             "#d8576b"
            ],
            [
             0.6666666666666666,
             "#ed7953"
            ],
            [
             0.7777777777777778,
             "#fb9f3a"
            ],
            [
             0.8888888888888888,
             "#fdca26"
            ],
            [
             1,
             "#f0f921"
            ]
           ],
           "sequentialminus": [
            [
             0,
             "#0d0887"
            ],
            [
             0.1111111111111111,
             "#46039f"
            ],
            [
             0.2222222222222222,
             "#7201a8"
            ],
            [
             0.3333333333333333,
             "#9c179e"
            ],
            [
             0.4444444444444444,
             "#bd3786"
            ],
            [
             0.5555555555555556,
             "#d8576b"
            ],
            [
             0.6666666666666666,
             "#ed7953"
            ],
            [
             0.7777777777777778,
             "#fb9f3a"
            ],
            [
             0.8888888888888888,
             "#fdca26"
            ],
            [
             1,
             "#f0f921"
            ]
           ]
          },
          "colorway": [
           "#636efa",
           "#EF553B",
           "#00cc96",
           "#ab63fa",
           "#FFA15A",
           "#19d3f3",
           "#FF6692",
           "#B6E880",
           "#FF97FF",
           "#FECB52"
          ],
          "font": {
           "color": "#2a3f5f"
          },
          "geo": {
           "bgcolor": "white",
           "lakecolor": "white",
           "landcolor": "#E5ECF6",
           "showlakes": true,
           "showland": true,
           "subunitcolor": "white"
          },
          "hoverlabel": {
           "align": "left"
          },
          "hovermode": "closest",
          "mapbox": {
           "style": "light"
          },
          "paper_bgcolor": "white",
          "plot_bgcolor": "#E5ECF6",
          "polar": {
           "angularaxis": {
            "gridcolor": "white",
            "linecolor": "white",
            "ticks": ""
           },
           "bgcolor": "#E5ECF6",
           "radialaxis": {
            "gridcolor": "white",
            "linecolor": "white",
            "ticks": ""
           }
          },
          "scene": {
           "xaxis": {
            "backgroundcolor": "#E5ECF6",
            "gridcolor": "white",
            "gridwidth": 2,
            "linecolor": "white",
            "showbackground": true,
            "ticks": "",
            "zerolinecolor": "white"
           },
           "yaxis": {
            "backgroundcolor": "#E5ECF6",
            "gridcolor": "white",
            "gridwidth": 2,
            "linecolor": "white",
            "showbackground": true,
            "ticks": "",
            "zerolinecolor": "white"
           },
           "zaxis": {
            "backgroundcolor": "#E5ECF6",
            "gridcolor": "white",
            "gridwidth": 2,
            "linecolor": "white",
            "showbackground": true,
            "ticks": "",
            "zerolinecolor": "white"
           }
          },
          "shapedefaults": {
           "line": {
            "color": "#2a3f5f"
           }
          },
          "ternary": {
           "aaxis": {
            "gridcolor": "white",
            "linecolor": "white",
            "ticks": ""
           },
           "baxis": {
            "gridcolor": "white",
            "linecolor": "white",
            "ticks": ""
           },
           "bgcolor": "#E5ECF6",
           "caxis": {
            "gridcolor": "white",
            "linecolor": "white",
            "ticks": ""
           }
          },
          "title": {
           "x": 0.05
          },
          "xaxis": {
           "automargin": true,
           "gridcolor": "white",
           "linecolor": "white",
           "ticks": "",
           "title": {
            "standoff": 15
           },
           "zerolinecolor": "white",
           "zerolinewidth": 2
          },
          "yaxis": {
           "automargin": true,
           "gridcolor": "white",
           "linecolor": "white",
           "ticks": "",
           "title": {
            "standoff": 15
           },
           "zerolinecolor": "white",
           "zerolinewidth": 2
          }
         }
        },
        "title": {
         "text": "<b>Evolution de la température moyenne par an en France</b>"
        },
        "xaxis": {
         "anchor": "y",
         "domain": [
          0,
          1
         ],
         "title": {
          "text": ""
         }
        },
        "yaxis": {
         "anchor": "x",
         "domain": [
          0,
          1
         ],
         "title": {
          "text": ""
         }
        }
       }
      }
     },
     "metadata": {},
     "output_type": "display_data"
    }
   ],
   "source": [
    "temperatureFranceMonth2 = temperatureFranceMonth.query(\"month == 'Juillet' or month == 'Septembre' or month == 'Novembre'\")\n",
    "fig = px.scatter(\n",
    "        temperatureFranceMonth2,x='year', y='AverageTemperature', color='month'\n",
    "        )\n",
    "    \n",
    "fig.update_layout(title='<b>Evolution de la température moyenne par an en France</b>',xaxis_title='', yaxis_title='')\n",
    "fig.show() "
   ]
  },
  {
   "cell_type": "code",
   "execution_count": 14,
   "metadata": {},
   "outputs": [
    {
     "data": {
      "application/vnd.plotly.v1+json": {
       "config": {
        "plotlyServerURL": "https://plot.ly"
       },
       "data": [
        {
         "hoverlabel": {
          "namelength": 0
         },
         "hovertemplate": "month=Avril<br>year=%{x}<br>AverageTemperature=%{y}",
         "legendgroup": "month=Avril",
         "marker": {
          "color": "#636efa",
          "symbol": "circle"
         },
         "mode": "markers",
         "name": "month=Avril",
         "showlegend": true,
         "type": "scatter",
         "x": [
          "1744",
          "1745",
          "1750",
          "1751",
          "1752",
          "1753",
          "1754",
          "1755",
          "1756",
          "1757",
          "1758",
          "1759",
          "1760",
          "1761",
          "1762",
          "1763",
          "1764",
          "1765",
          "1766",
          "1767",
          "1768",
          "1769",
          "1770",
          "1771",
          "1772",
          "1773",
          "1774",
          "1775",
          "1776",
          "1777",
          "1778",
          "1779",
          "1780",
          "1781",
          "1782",
          "1783",
          "1784",
          "1785",
          "1786",
          "1787",
          "1788",
          "1789",
          "1790",
          "1791",
          "1792",
          "1793",
          "1794",
          "1795",
          "1796",
          "1797",
          "1798",
          "1799",
          "1800",
          "1801",
          "1802",
          "1803",
          "1804",
          "1805",
          "1806",
          "1807",
          "1808",
          "1809",
          "1810",
          "1811",
          "1812",
          "1813",
          "1814",
          "1815",
          "1816",
          "1817",
          "1818",
          "1819",
          "1820",
          "1821",
          "1822",
          "1823",
          "1824",
          "1825",
          "1826",
          "1827",
          "1828",
          "1829",
          "1830",
          "1831",
          "1832",
          "1833",
          "1834",
          "1835",
          "1836",
          "1837",
          "1838",
          "1839",
          "1840",
          "1841",
          "1842",
          "1843",
          "1844",
          "1845",
          "1846",
          "1847",
          "1848",
          "1849",
          "1850",
          "1851",
          "1852",
          "1853",
          "1854",
          "1855",
          "1856",
          "1857",
          "1858",
          "1859",
          "1860",
          "1861",
          "1862",
          "1863",
          "1864",
          "1865",
          "1866",
          "1867",
          "1868",
          "1869",
          "1870",
          "1871",
          "1872",
          "1873",
          "1874",
          "1875",
          "1876",
          "1877",
          "1878",
          "1879",
          "1880",
          "1881",
          "1882",
          "1883",
          "1884",
          "1885",
          "1886",
          "1887",
          "1888",
          "1889",
          "1890",
          "1891",
          "1892",
          "1893",
          "1894",
          "1895",
          "1896",
          "1897",
          "1898",
          "1899",
          "1900",
          "1901",
          "1902",
          "1903",
          "1904",
          "1905",
          "1906",
          "1907",
          "1908",
          "1909",
          "1910",
          "1911",
          "1912",
          "1913",
          "1914",
          "1915",
          "1916",
          "1917",
          "1918",
          "1919",
          "1920",
          "1921",
          "1922",
          "1923",
          "1924",
          "1925",
          "1926",
          "1927",
          "1928",
          "1929",
          "1930",
          "1931",
          "1932",
          "1933",
          "1934",
          "1935",
          "1936",
          "1937",
          "1938",
          "1939",
          "1940",
          "1941",
          "1942",
          "1943",
          "1944",
          "1945",
          "1946",
          "1947",
          "1948",
          "1949",
          "1950",
          "1951",
          "1952",
          "1953",
          "1954",
          "1955",
          "1956",
          "1957",
          "1958",
          "1959",
          "1960",
          "1961",
          "1962",
          "1963",
          "1964",
          "1965",
          "1966",
          "1967",
          "1968",
          "1969",
          "1970",
          "1971",
          "1972",
          "1973",
          "1974",
          "1975",
          "1976",
          "1977",
          "1978",
          "1979",
          "1980",
          "1981",
          "1982",
          "1983",
          "1984",
          "1985",
          "1986",
          "1987",
          "1988",
          "1989",
          "1990",
          "1991",
          "1992",
          "1993",
          "1994",
          "1995",
          "1996",
          "1997",
          "1998",
          "1999",
          "2000",
          "2001",
          "2002",
          "2003",
          "2004",
          "2005",
          "2006",
          "2007",
          "2008",
          "2009",
          "2010",
          "2011",
          "2012",
          "2013"
         ],
         "xaxis": "x",
         "y": [
          13.19,
          11.672,
          11.89,
          11.194,
          11.407,
          11.617,
          12.318,
          14.933,
          11.55,
          11.981,
          10.837,
          11.662999999999998,
          13.364999999999998,
          11.138,
          13.962,
          11.625,
          10.882,
          12.105,
          12.592,
          10.591,
          12.088,
          12.279000000000002,
          10.973999999999998,
          9.2,
          12.030999999999999,
          11.918,
          13.164,
          11.964,
          12.209,
          10.652999999999999,
          13.536,
          13.960999999999999,
          13.081,
          13.062,
          10.854,
          12.691999999999998,
          10.18,
          10.297,
          12.710999999999999,
          11.382,
          12.784999999999998,
          11.925,
          10.287,
          13.845999999999998,
          13.419999999999998,
          10.829999999999998,
          14.227,
          12.944,
          12.120999999999999,
          12.002999999999998,
          12.828,
          10.245999999999999,
          13.960999999999999,
          12.052999999999999,
          12.431,
          13.454999999999998,
          11.934,
          10.561,
          10.068999999999999,
          10.655,
          9.908999999999999,
          8.697000000000001,
          11.325,
          12.505999999999998,
          9.728,
          12.138,
          12.074000000000002,
          11.624,
          11.034999999999998,
          9.765,
          12.710999999999999,
          12.735,
          13.329999999999998,
          12.485999999999999,
          12.3,
          10.95,
          10.832999999999998,
          12.968,
          12.047,
          12.806,
          12.459,
          11.61,
          13.499,
          12.47,
          11.675,
          10.81,
          11.119000000000002,
          11.259,
          10.681,
          9.076,
          9.978,
          10.361999999999998,
          12.21,
          11.517,
          10.982,
          11.997,
          13.355999999999998,
          11.964,
          11.932,
          10.290999999999999,
          12.339,
          10.177,
          11.943,
          11.578,
          11.139,
          10.982999999999999,
          12.495,
          11.388,
          12.025,
          10.88,
          13.140999999999998,
          12.213,
          9.977,
          11.239999999999998,
          13.122,
          12.527,
          11.993,
          14.280999999999999,
          12.645999999999999,
          12.592,
          11.582999999999998,
          12.957,
          11.998,
          12.664,
          11.933,
          10.839,
          12.825,
          11.565,
          11.537999999999998,
          11.642999999999999,
          12.657,
          10.07,
          11.604,
          11.713,
          12.002999999999998,
          11.075999999999999,
          10.709,
          11.312999999999999,
          12.017,
          10.409,
          10.005999999999998,
          10.687,
          10.799,
          10.373,
          11.735999999999999,
          14.114999999999998,
          12.963,
          12.457,
          11.013,
          11.842,
          11.877,
          11.715,
          11.482999999999999,
          12.484000000000002,
          12.627,
          9.971,
          12.56,
          11.954,
          11.137,
          10.877,
          10.201999999999998,
          12.677999999999999,
          11.06,
          10.793,
          11.511,
          11.422999999999998,
          13.364,
          11.040999999999999,
          11.905999999999999,
          9.512,
          10.761,
          10.345999999999998,
          12.327,
          11.364999999999998,
          10.607999999999999,
          11.456,
          11.787,
          11.550999999999998,
          12.630999999999998,
          12.341,
          11.700999999999999,
          10.576999999999998,
          11.909999999999998,
          11.396999999999998,
          10.642,
          12.502999999999998,
          12.542,
          11.593,
          11.015999999999998,
          12.206,
          10.561,
          12.399,
          12.198,
          10.816999999999998,
          12.745999999999999,
          13.544,
          13.355999999999998,
          13.876,
          13.344,
          13.591,
          12.622,
          14.044,
          11.015,
          11.566999999999998,
          13.449000000000002,
          12.539,
          11.057,
          12.669,
          10.767,
          11.982,
          10.562999999999999,
          12.460999999999999,
          12.046,
          14.032,
          11.761,
          12.107,
          12.225999999999999,
          11.309,
          13.046,
          11.38,
          12.395999999999999,
          11.864,
          10.547,
          13.012999999999998,
          11.453,
          10.425,
          11.827,
          11.62,
          11.493,
          11.117,
          10.696,
          11.110999999999999,
          11.178999999999998,
          12.658,
          11.936,
          11.815,
          12.2,
          12.526,
          9.94,
          13.56,
          12.845999999999998,
          10.977,
          11.552,
          11.465,
          12.162,
          12.878,
          11.319,
          12.445,
          12.713,
          12.521999999999998,
          12.052,
          12.699000000000002,
          12.469,
          11.652,
          12.912,
          13.387,
          12.514,
          12.939,
          12.860999999999999,
          15.478,
          12.069,
          13.503,
          13.421,
          15.332999999999998,
          11.867,
          12.32
         ],
         "yaxis": "y"
        },
        {
         "hoverlabel": {
          "namelength": 0
         },
         "hovertemplate": "month=Juin<br>year=%{x}<br>AverageTemperature=%{y}",
         "legendgroup": "month=Juin",
         "marker": {
          "color": "#EF553B",
          "symbol": "circle"
         },
         "mode": "markers",
         "name": "month=Juin",
         "showlegend": true,
         "type": "scatter",
         "x": [
          "1744",
          "1750",
          "1751",
          "1753",
          "1754",
          "1755",
          "1756",
          "1757",
          "1758",
          "1759",
          "1760",
          "1761",
          "1762",
          "1763",
          "1764",
          "1765",
          "1766",
          "1767",
          "1768",
          "1769",
          "1770",
          "1771",
          "1772",
          "1773",
          "1774",
          "1775",
          "1776",
          "1777",
          "1778",
          "1779",
          "1780",
          "1781",
          "1782",
          "1783",
          "1784",
          "1785",
          "1786",
          "1787",
          "1788",
          "1789",
          "1790",
          "1791",
          "1792",
          "1793",
          "1794",
          "1795",
          "1796",
          "1797",
          "1798",
          "1799",
          "1800",
          "1801",
          "1802",
          "1803",
          "1804",
          "1805",
          "1806",
          "1807",
          "1808",
          "1809",
          "1810",
          "1811",
          "1812",
          "1813",
          "1814",
          "1815",
          "1816",
          "1817",
          "1818",
          "1819",
          "1820",
          "1821",
          "1822",
          "1823",
          "1824",
          "1825",
          "1826",
          "1827",
          "1828",
          "1829",
          "1830",
          "1831",
          "1832",
          "1833",
          "1834",
          "1835",
          "1836",
          "1837",
          "1838",
          "1839",
          "1840",
          "1841",
          "1842",
          "1843",
          "1844",
          "1845",
          "1846",
          "1847",
          "1848",
          "1849",
          "1850",
          "1851",
          "1852",
          "1853",
          "1854",
          "1855",
          "1856",
          "1857",
          "1858",
          "1859",
          "1860",
          "1861",
          "1862",
          "1863",
          "1864",
          "1865",
          "1866",
          "1867",
          "1868",
          "1869",
          "1870",
          "1871",
          "1872",
          "1873",
          "1874",
          "1875",
          "1876",
          "1877",
          "1878",
          "1879",
          "1880",
          "1881",
          "1882",
          "1883",
          "1884",
          "1885",
          "1886",
          "1887",
          "1888",
          "1889",
          "1890",
          "1891",
          "1892",
          "1893",
          "1894",
          "1895",
          "1896",
          "1897",
          "1898",
          "1899",
          "1900",
          "1901",
          "1902",
          "1903",
          "1904",
          "1905",
          "1906",
          "1907",
          "1908",
          "1909",
          "1910",
          "1911",
          "1912",
          "1913",
          "1914",
          "1915",
          "1916",
          "1917",
          "1918",
          "1919",
          "1920",
          "1921",
          "1922",
          "1923",
          "1924",
          "1925",
          "1926",
          "1927",
          "1928",
          "1929",
          "1930",
          "1931",
          "1932",
          "1933",
          "1934",
          "1935",
          "1936",
          "1937",
          "1938",
          "1939",
          "1940",
          "1941",
          "1942",
          "1943",
          "1944",
          "1945",
          "1946",
          "1947",
          "1948",
          "1949",
          "1950",
          "1951",
          "1952",
          "1953",
          "1954",
          "1955",
          "1956",
          "1957",
          "1958",
          "1959",
          "1960",
          "1961",
          "1962",
          "1963",
          "1964",
          "1965",
          "1966",
          "1967",
          "1968",
          "1969",
          "1970",
          "1971",
          "1972",
          "1973",
          "1974",
          "1975",
          "1976",
          "1977",
          "1978",
          "1979",
          "1980",
          "1981",
          "1982",
          "1983",
          "1984",
          "1985",
          "1986",
          "1987",
          "1988",
          "1989",
          "1990",
          "1991",
          "1992",
          "1993",
          "1994",
          "1995",
          "1996",
          "1997",
          "1998",
          "1999",
          "2000",
          "2001",
          "2002",
          "2004",
          "2005",
          "2006",
          "2007",
          "2008",
          "2009",
          "2010",
          "2011",
          "2012",
          "2013"
         ],
         "xaxis": "x",
         "y": [
          17.349,
          17.632,
          18.534,
          19.895,
          18.491,
          20.177,
          19.384,
          19.913,
          18.464000000000002,
          17.952,
          17.775000000000006,
          19.192,
          18.31,
          17.498,
          18.032,
          17.937,
          18.499000000000002,
          17.543,
          17.096,
          17.994,
          17.236,
          17.462,
          19.214000000000002,
          17.403000000000002,
          18.736,
          18.361,
          18.367,
          16.952,
          17.495,
          16.762999999999998,
          19.253,
          18.356,
          19.614,
          18.335,
          18.755,
          18.803,
          18.966,
          18.635,
          19.022000000000002,
          16.705000000000002,
          18.561,
          17.86,
          17.863,
          17.289,
          17.832,
          17.804000000000006,
          17.873,
          16.605999999999998,
          18.422,
          17.256,
          16.785,
          17.248,
          19.109,
          18.051,
          19.543,
          17.089000000000002,
          18.431,
          17.502,
          17.011,
          17.077,
          16.684,
          18.162,
          17.118000000000002,
          16.648,
          16.929000000000002,
          16.664,
          15.706,
          18.048,
          19.184,
          17.197,
          17.135,
          15.884,
          20.686,
          16.572,
          16.729,
          18.086,
          18.081,
          17.656,
          18.795,
          17.535,
          17.049,
          17.558,
          17.175,
          18.286,
          18.537,
          17.299,
          18.279,
          18.767,
          17.474,
          18.724,
          18.383,
          16.644000000000002,
          19.336,
          16.295,
          18.635,
          18.24,
          20.495,
          16.627000000000002,
          17.764,
          18.762,
          18.346,
          18.385,
          16.945999999999998,
          16.871000000000002,
          16.444000000000006,
          16.677,
          17.851,
          17.844,
          19.971,
          17.971,
          16.845,
          18.316,
          16.962,
          17.756,
          17.194000000000006,
          18.299,
          18.569000000000006,
          17.72,
          18.833,
          16.371000000000002,
          18.737000000000002,
          15.567,
          17.477,
          17.526,
          17.898,
          17.721,
          17.22,
          19.462,
          17.788,
          17.359,
          16.349,
          17.108,
          16.799,
          17.048000000000002,
          15.803,
          18.051,
          16.437,
          18.493,
          17.52,
          18.345,
          17.075,
          17.414,
          17.745,
          18.258,
          17.14,
          17.502,
          17.817999999999994,
          18.855,
          16.861,
          17.654,
          17.995,
          18.435,
          16.779,
          16.438000000000002,
          17.762,
          18.012,
          17.517,
          16.959,
          18.22,
          15.981,
          17.528000000000002,
          17.305999999999994,
          17.217000000000002,
          17.429000000000002,
          16.748,
          18.514,
          15.72,
          18.831,
          16.340999999999998,
          17.869,
          17.644000000000005,
          18.09,
          17.803,
          15.597000000000001,
          17.502,
          18.055,
          16.219,
          17.102,
          17.499000000000002,
          17.855999999999995,
          18.899,
          19.062,
          17.008,
          16.649,
          18.272000000000002,
          18.525,
          17.477999999999998,
          18.125,
          18.334,
          17.727999999999994,
          17.908,
          18.083,
          18.057000000000002,
          17.817,
          17.375,
          18.995,
          16.959,
          19.197,
          17.36,
          17.986,
          19.878,
          17.498,
          19.112000000000002,
          16.988,
          17.545,
          17.811,
          16.012,
          18.089000000000002,
          17.189,
          18.297,
          18.781,
          18.095,
          17.298000000000002,
          17.461000000000002,
          18.34,
          17.726,
          18.474,
          17.066,
          17.377,
          16.688,
          19.017,
          16.604,
          16.097,
          18.46,
          17.438,
          17.250999999999998,
          20.416,
          16.559,
          16.819000000000006,
          17.958000000000006,
          16.735,
          17.505,
          18.927,
          18.731,
          17.492,
          17.022000000000002,
          18.4,
          16.959,
          17.764,
          18.318,
          17.586000000000002,
          16.79,
          17.570999999999998,
          18.656,
          18.445,
          17.652,
          18.889,
          17.930999999999994,
          18.666,
          17.938,
          19.034,
          18.245,
          19.133,
          19.169,
          20.242,
          19.676,
          18.786,
          18.529,
          18.984,
          18.803,
          18.62,
          18.199,
          17.75
         ],
         "yaxis": "y"
        },
        {
         "hoverlabel": {
          "namelength": 0
         },
         "hovertemplate": "month=Février<br>year=%{x}<br>AverageTemperature=%{y}",
         "legendgroup": "month=Février",
         "marker": {
          "color": "#00cc96",
          "symbol": "circle"
         },
         "mode": "markers",
         "name": "month=Février",
         "showlegend": true,
         "type": "scatter",
         "x": [
          "1745",
          "1750",
          "1751",
          "1753",
          "1754",
          "1755",
          "1756",
          "1757",
          "1758",
          "1759",
          "1760",
          "1761",
          "1762",
          "1763",
          "1764",
          "1765",
          "1766",
          "1767",
          "1768",
          "1769",
          "1770",
          "1771",
          "1772",
          "1773",
          "1774",
          "1775",
          "1776",
          "1777",
          "1778",
          "1779",
          "1780",
          "1781",
          "1782",
          "1783",
          "1784",
          "1785",
          "1786",
          "1787",
          "1788",
          "1789",
          "1790",
          "1791",
          "1792",
          "1793",
          "1794",
          "1795",
          "1796",
          "1797",
          "1798",
          "1799",
          "1800",
          "1801",
          "1802",
          "1803",
          "1804",
          "1805",
          "1806",
          "1807",
          "1808",
          "1809",
          "1810",
          "1811",
          "1812",
          "1813",
          "1814",
          "1815",
          "1816",
          "1817",
          "1818",
          "1819",
          "1820",
          "1821",
          "1822",
          "1823",
          "1824",
          "1825",
          "1826",
          "1827",
          "1828",
          "1829",
          "1830",
          "1831",
          "1832",
          "1833",
          "1834",
          "1835",
          "1836",
          "1837",
          "1838",
          "1839",
          "1840",
          "1841",
          "1842",
          "1843",
          "1844",
          "1845",
          "1846",
          "1847",
          "1848",
          "1849",
          "1850",
          "1851",
          "1852",
          "1853",
          "1854",
          "1855",
          "1856",
          "1857",
          "1858",
          "1859",
          "1860",
          "1861",
          "1862",
          "1863",
          "1864",
          "1865",
          "1866",
          "1867",
          "1868",
          "1869",
          "1870",
          "1871",
          "1872",
          "1873",
          "1874",
          "1875",
          "1876",
          "1877",
          "1878",
          "1879",
          "1880",
          "1881",
          "1882",
          "1883",
          "1884",
          "1885",
          "1886",
          "1887",
          "1888",
          "1889",
          "1890",
          "1891",
          "1892",
          "1893",
          "1894",
          "1896",
          "1897",
          "1898",
          "1899",
          "1900",
          "1901",
          "1902",
          "1903",
          "1904",
          "1905",
          "1906",
          "1907",
          "1908",
          "1909",
          "1910",
          "1911",
          "1912",
          "1913",
          "1914",
          "1915",
          "1916",
          "1917",
          "1918",
          "1919",
          "1920",
          "1921",
          "1922",
          "1923",
          "1924",
          "1925",
          "1926",
          "1927",
          "1928",
          "1929",
          "1930",
          "1931",
          "1932",
          "1933",
          "1934",
          "1935",
          "1936",
          "1937",
          "1938",
          "1939",
          "1940",
          "1941",
          "1942",
          "1943",
          "1944",
          "1945",
          "1946",
          "1947",
          "1948",
          "1949",
          "1950",
          "1951",
          "1952",
          "1953",
          "1954",
          "1955",
          "1957",
          "1958",
          "1959",
          "1960",
          "1961",
          "1962",
          "1963",
          "1964",
          "1965",
          "1966",
          "1967",
          "1968",
          "1969",
          "1970",
          "1971",
          "1972",
          "1973",
          "1974",
          "1975",
          "1976",
          "1977",
          "1978",
          "1979",
          "1980",
          "1981",
          "1982",
          "1983",
          "1984",
          "1985",
          "1986",
          "1987",
          "1988",
          "1989",
          "1990",
          "1991",
          "1992",
          "1993",
          "1994",
          "1995",
          "1996",
          "1997",
          "1998",
          "1999",
          "2000",
          "2001",
          "2002",
          "2003",
          "2004",
          "2005",
          "2006",
          "2007",
          "2008",
          "2009",
          "2010",
          "2011",
          "2012",
          "2013"
         ],
         "xaxis": "x",
         "y": [
          6.4250000000000025,
          9.193,
          5.37,
          6.8180000000000005,
          4.822,
          4.404,
          9.223,
          7.042999999999998,
          6.5710000000000015,
          8.607999999999999,
          6.665,
          8.744,
          7.442,
          8.956,
          9.507,
          6.0360000000000005,
          6.3130000000000015,
          9.661,
          7.138,
          7.074,
          7.75,
          6.162000000000001,
          8.367,
          5.582000000000002,
          8.323,
          10.292,
          8.668,
          6.766,
          7.444,
          8.943999999999997,
          6.1190000000000015,
          8.218,
          3.873,
          9.348,
          4.800000000000002,
          4.6480000000000015,
          7.468,
          7.7029999999999985,
          8.889,
          8.137,
          8.52,
          7.6750000000000025,
          7.381,
          8.459,
          9.822,
          6.915,
          7.849,
          7.572999999999999,
          7.356,
          7.825,
          7.062,
          7.629,
          7.388,
          4.3420000000000005,
          5.823,
          7.059,
          8.686,
          8.016,
          5.3420000000000005,
          9.279,
          5.589,
          8.433,
          7.735,
          8.247,
          4.248,
          8.498000000000001,
          5.067,
          9.695,
          7.198,
          7.568,
          7.08,
          6.5379999999999985,
          9.265,
          7.809,
          8.062999999999999,
          7.256,
          7.996,
          4.519,
          7.374,
          5.775,
          5.4540000000000015,
          7.85,
          6.73,
          9.114,
          7.479,
          8.404,
          6.3320000000000025,
          7.687,
          5.5950000000000015,
          7.4110000000000005,
          6.388,
          6.372000000000001,
          6.671,
          7.917999999999998,
          5.9940000000000015,
          4.064,
          9.303,
          6.0680000000000005,
          8.47,
          8.654,
          9.113,
          6.86,
          7.117000000000001,
          4.801,
          5.974,
          5.497000000000001,
          8.195,
          6.4270000000000005,
          5.8180000000000005,
          7.794,
          4.686,
          8.141,
          7.5180000000000025,
          7.463999999999999,
          5.792000000000002,
          5.7730000000000015,
          9.007,
          9.974,
          7.8450000000000015,
          10.039,
          5.7680000000000025,
          8.048,
          8.899000000000003,
          6.199,
          6.9460000000000015,
          5.033,
          7.945,
          8.908000000000003,
          8.007,
          7.749,
          7.984,
          8.294,
          7.731,
          8.583,
          8.924,
          9.549,
          5.676,
          5.8020000000000005,
          4.635,
          5.9670000000000005,
          5.6080000000000005,
          6.2879999999999985,
          7.5390000000000015,
          8.3,
          7.882999999999999,
          6.666,
          9.459,
          7.577000000000001,
          9.077,
          8.461,
          4.069,
          6.737,
          8.781,
          7.591,
          7.13,
          6.397,
          5.601,
          7.6800000000000015,
          5.4129999999999985,
          8.192,
          7.3870000000000005,
          9.404,
          7.447,
          9.054,
          7.341,
          7.6430000000000025,
          4.8420000000000005,
          7.926,
          6.992000000000001,
          8.972999999999997,
          7.4090000000000025,
          7.742000000000001,
          8.922,
          5.539,
          8.318,
          10.625,
          7.577000000000001,
          9.07,
          3.858000000000001,
          6.439,
          6.6000000000000005,
          4.792,
          7.3450000000000015,
          6.48,
          8.097000000000001,
          7.79,
          9.684,
          7.1640000000000015,
          7.939,
          7.935,
          7.615,
          3.8100000000000014,
          8.445,
          5.4910000000000005,
          9.457,
          9.033,
          5.155,
          7.527,
          8.207,
          9.311,
          7.747000000000001,
          6.401,
          6.2280000000000015,
          5.694000000000001,
          7.0360000000000005,
          9.743,
          9.239,
          7.944,
          8.213000000000001,
          10.417,
          7.045,
          3.767,
          8.456,
          5.2010000000000005,
          10.658,
          8.572000000000001,
          7.612,
          5.856,
          7.615,
          7.423999999999999,
          8.648,
          6.686,
          8.425,
          8.61,
          8.029,
          9.658,
          7.6030000000000015,
          7.499,
          9.473,
          6.247999999999998,
          8.482000000000001,
          6.1110000000000015,
          6.8050000000000015,
          7.399,
          3.7710000000000004,
          7.292999999999998,
          8.197000000000001,
          8.471,
          11.502,
          5.921,
          8.147,
          6.783,
          8.445,
          10.411,
          6.647,
          10.008,
          9.395,
          7.6629999999999985,
          9.557,
          8.668,
          10.289,
          6.91,
          8.136000000000001,
          6.2429999999999986,
          6.791,
          10.305,
          9.406,
          7.547999999999999,
          7.362999999999999,
          8.951,
          4.7730000000000015,
          6.385
         ],
         "yaxis": "y"
        }
       ],
       "layout": {
        "legend": {
         "tracegroupgap": 0
        },
        "margin": {
         "t": 60
        },
        "template": {
         "data": {
          "bar": [
           {
            "error_x": {
             "color": "#2a3f5f"
            },
            "error_y": {
             "color": "#2a3f5f"
            },
            "marker": {
             "line": {
              "color": "#E5ECF6",
              "width": 0.5
             }
            },
            "type": "bar"
           }
          ],
          "barpolar": [
           {
            "marker": {
             "line": {
              "color": "#E5ECF6",
              "width": 0.5
             }
            },
            "type": "barpolar"
           }
          ],
          "carpet": [
           {
            "aaxis": {
             "endlinecolor": "#2a3f5f",
             "gridcolor": "white",
             "linecolor": "white",
             "minorgridcolor": "white",
             "startlinecolor": "#2a3f5f"
            },
            "baxis": {
             "endlinecolor": "#2a3f5f",
             "gridcolor": "white",
             "linecolor": "white",
             "minorgridcolor": "white",
             "startlinecolor": "#2a3f5f"
            },
            "type": "carpet"
           }
          ],
          "choropleth": [
           {
            "colorbar": {
             "outlinewidth": 0,
             "ticks": ""
            },
            "type": "choropleth"
           }
          ],
          "contour": [
           {
            "colorbar": {
             "outlinewidth": 0,
             "ticks": ""
            },
            "colorscale": [
             [
              0,
              "#0d0887"
             ],
             [
              0.1111111111111111,
              "#46039f"
             ],
             [
              0.2222222222222222,
              "#7201a8"
             ],
             [
              0.3333333333333333,
              "#9c179e"
             ],
             [
              0.4444444444444444,
              "#bd3786"
             ],
             [
              0.5555555555555556,
              "#d8576b"
             ],
             [
              0.6666666666666666,
              "#ed7953"
             ],
             [
              0.7777777777777778,
              "#fb9f3a"
             ],
             [
              0.8888888888888888,
              "#fdca26"
             ],
             [
              1,
              "#f0f921"
             ]
            ],
            "type": "contour"
           }
          ],
          "contourcarpet": [
           {
            "colorbar": {
             "outlinewidth": 0,
             "ticks": ""
            },
            "type": "contourcarpet"
           }
          ],
          "heatmap": [
           {
            "colorbar": {
             "outlinewidth": 0,
             "ticks": ""
            },
            "colorscale": [
             [
              0,
              "#0d0887"
             ],
             [
              0.1111111111111111,
              "#46039f"
             ],
             [
              0.2222222222222222,
              "#7201a8"
             ],
             [
              0.3333333333333333,
              "#9c179e"
             ],
             [
              0.4444444444444444,
              "#bd3786"
             ],
             [
              0.5555555555555556,
              "#d8576b"
             ],
             [
              0.6666666666666666,
              "#ed7953"
             ],
             [
              0.7777777777777778,
              "#fb9f3a"
             ],
             [
              0.8888888888888888,
              "#fdca26"
             ],
             [
              1,
              "#f0f921"
             ]
            ],
            "type": "heatmap"
           }
          ],
          "heatmapgl": [
           {
            "colorbar": {
             "outlinewidth": 0,
             "ticks": ""
            },
            "colorscale": [
             [
              0,
              "#0d0887"
             ],
             [
              0.1111111111111111,
              "#46039f"
             ],
             [
              0.2222222222222222,
              "#7201a8"
             ],
             [
              0.3333333333333333,
              "#9c179e"
             ],
             [
              0.4444444444444444,
              "#bd3786"
             ],
             [
              0.5555555555555556,
              "#d8576b"
             ],
             [
              0.6666666666666666,
              "#ed7953"
             ],
             [
              0.7777777777777778,
              "#fb9f3a"
             ],
             [
              0.8888888888888888,
              "#fdca26"
             ],
             [
              1,
              "#f0f921"
             ]
            ],
            "type": "heatmapgl"
           }
          ],
          "histogram": [
           {
            "marker": {
             "colorbar": {
              "outlinewidth": 0,
              "ticks": ""
             }
            },
            "type": "histogram"
           }
          ],
          "histogram2d": [
           {
            "colorbar": {
             "outlinewidth": 0,
             "ticks": ""
            },
            "colorscale": [
             [
              0,
              "#0d0887"
             ],
             [
              0.1111111111111111,
              "#46039f"
             ],
             [
              0.2222222222222222,
              "#7201a8"
             ],
             [
              0.3333333333333333,
              "#9c179e"
             ],
             [
              0.4444444444444444,
              "#bd3786"
             ],
             [
              0.5555555555555556,
              "#d8576b"
             ],
             [
              0.6666666666666666,
              "#ed7953"
             ],
             [
              0.7777777777777778,
              "#fb9f3a"
             ],
             [
              0.8888888888888888,
              "#fdca26"
             ],
             [
              1,
              "#f0f921"
             ]
            ],
            "type": "histogram2d"
           }
          ],
          "histogram2dcontour": [
           {
            "colorbar": {
             "outlinewidth": 0,
             "ticks": ""
            },
            "colorscale": [
             [
              0,
              "#0d0887"
             ],
             [
              0.1111111111111111,
              "#46039f"
             ],
             [
              0.2222222222222222,
              "#7201a8"
             ],
             [
              0.3333333333333333,
              "#9c179e"
             ],
             [
              0.4444444444444444,
              "#bd3786"
             ],
             [
              0.5555555555555556,
              "#d8576b"
             ],
             [
              0.6666666666666666,
              "#ed7953"
             ],
             [
              0.7777777777777778,
              "#fb9f3a"
             ],
             [
              0.8888888888888888,
              "#fdca26"
             ],
             [
              1,
              "#f0f921"
             ]
            ],
            "type": "histogram2dcontour"
           }
          ],
          "mesh3d": [
           {
            "colorbar": {
             "outlinewidth": 0,
             "ticks": ""
            },
            "type": "mesh3d"
           }
          ],
          "parcoords": [
           {
            "line": {
             "colorbar": {
              "outlinewidth": 0,
              "ticks": ""
             }
            },
            "type": "parcoords"
           }
          ],
          "pie": [
           {
            "automargin": true,
            "type": "pie"
           }
          ],
          "scatter": [
           {
            "marker": {
             "colorbar": {
              "outlinewidth": 0,
              "ticks": ""
             }
            },
            "type": "scatter"
           }
          ],
          "scatter3d": [
           {
            "line": {
             "colorbar": {
              "outlinewidth": 0,
              "ticks": ""
             }
            },
            "marker": {
             "colorbar": {
              "outlinewidth": 0,
              "ticks": ""
             }
            },
            "type": "scatter3d"
           }
          ],
          "scattercarpet": [
           {
            "marker": {
             "colorbar": {
              "outlinewidth": 0,
              "ticks": ""
             }
            },
            "type": "scattercarpet"
           }
          ],
          "scattergeo": [
           {
            "marker": {
             "colorbar": {
              "outlinewidth": 0,
              "ticks": ""
             }
            },
            "type": "scattergeo"
           }
          ],
          "scattergl": [
           {
            "marker": {
             "colorbar": {
              "outlinewidth": 0,
              "ticks": ""
             }
            },
            "type": "scattergl"
           }
          ],
          "scattermapbox": [
           {
            "marker": {
             "colorbar": {
              "outlinewidth": 0,
              "ticks": ""
             }
            },
            "type": "scattermapbox"
           }
          ],
          "scatterpolar": [
           {
            "marker": {
             "colorbar": {
              "outlinewidth": 0,
              "ticks": ""
             }
            },
            "type": "scatterpolar"
           }
          ],
          "scatterpolargl": [
           {
            "marker": {
             "colorbar": {
              "outlinewidth": 0,
              "ticks": ""
             }
            },
            "type": "scatterpolargl"
           }
          ],
          "scatterternary": [
           {
            "marker": {
             "colorbar": {
              "outlinewidth": 0,
              "ticks": ""
             }
            },
            "type": "scatterternary"
           }
          ],
          "surface": [
           {
            "colorbar": {
             "outlinewidth": 0,
             "ticks": ""
            },
            "colorscale": [
             [
              0,
              "#0d0887"
             ],
             [
              0.1111111111111111,
              "#46039f"
             ],
             [
              0.2222222222222222,
              "#7201a8"
             ],
             [
              0.3333333333333333,
              "#9c179e"
             ],
             [
              0.4444444444444444,
              "#bd3786"
             ],
             [
              0.5555555555555556,
              "#d8576b"
             ],
             [
              0.6666666666666666,
              "#ed7953"
             ],
             [
              0.7777777777777778,
              "#fb9f3a"
             ],
             [
              0.8888888888888888,
              "#fdca26"
             ],
             [
              1,
              "#f0f921"
             ]
            ],
            "type": "surface"
           }
          ],
          "table": [
           {
            "cells": {
             "fill": {
              "color": "#EBF0F8"
             },
             "line": {
              "color": "white"
             }
            },
            "header": {
             "fill": {
              "color": "#C8D4E3"
             },
             "line": {
              "color": "white"
             }
            },
            "type": "table"
           }
          ]
         },
         "layout": {
          "annotationdefaults": {
           "arrowcolor": "#2a3f5f",
           "arrowhead": 0,
           "arrowwidth": 1
          },
          "coloraxis": {
           "colorbar": {
            "outlinewidth": 0,
            "ticks": ""
           }
          },
          "colorscale": {
           "diverging": [
            [
             0,
             "#8e0152"
            ],
            [
             0.1,
             "#c51b7d"
            ],
            [
             0.2,
             "#de77ae"
            ],
            [
             0.3,
             "#f1b6da"
            ],
            [
             0.4,
             "#fde0ef"
            ],
            [
             0.5,
             "#f7f7f7"
            ],
            [
             0.6,
             "#e6f5d0"
            ],
            [
             0.7,
             "#b8e186"
            ],
            [
             0.8,
             "#7fbc41"
            ],
            [
             0.9,
             "#4d9221"
            ],
            [
             1,
             "#276419"
            ]
           ],
           "sequential": [
            [
             0,
             "#0d0887"
            ],
            [
             0.1111111111111111,
             "#46039f"
            ],
            [
             0.2222222222222222,
             "#7201a8"
            ],
            [
             0.3333333333333333,
             "#9c179e"
            ],
            [
             0.4444444444444444,
             "#bd3786"
            ],
            [
             0.5555555555555556,
             "#d8576b"
            ],
            [
             0.6666666666666666,
             "#ed7953"
            ],
            [
             0.7777777777777778,
             "#fb9f3a"
            ],
            [
             0.8888888888888888,
             "#fdca26"
            ],
            [
             1,
             "#f0f921"
            ]
           ],
           "sequentialminus": [
            [
             0,
             "#0d0887"
            ],
            [
             0.1111111111111111,
             "#46039f"
            ],
            [
             0.2222222222222222,
             "#7201a8"
            ],
            [
             0.3333333333333333,
             "#9c179e"
            ],
            [
             0.4444444444444444,
             "#bd3786"
            ],
            [
             0.5555555555555556,
             "#d8576b"
            ],
            [
             0.6666666666666666,
             "#ed7953"
            ],
            [
             0.7777777777777778,
             "#fb9f3a"
            ],
            [
             0.8888888888888888,
             "#fdca26"
            ],
            [
             1,
             "#f0f921"
            ]
           ]
          },
          "colorway": [
           "#636efa",
           "#EF553B",
           "#00cc96",
           "#ab63fa",
           "#FFA15A",
           "#19d3f3",
           "#FF6692",
           "#B6E880",
           "#FF97FF",
           "#FECB52"
          ],
          "font": {
           "color": "#2a3f5f"
          },
          "geo": {
           "bgcolor": "white",
           "lakecolor": "white",
           "landcolor": "#E5ECF6",
           "showlakes": true,
           "showland": true,
           "subunitcolor": "white"
          },
          "hoverlabel": {
           "align": "left"
          },
          "hovermode": "closest",
          "mapbox": {
           "style": "light"
          },
          "paper_bgcolor": "white",
          "plot_bgcolor": "#E5ECF6",
          "polar": {
           "angularaxis": {
            "gridcolor": "white",
            "linecolor": "white",
            "ticks": ""
           },
           "bgcolor": "#E5ECF6",
           "radialaxis": {
            "gridcolor": "white",
            "linecolor": "white",
            "ticks": ""
           }
          },
          "scene": {
           "xaxis": {
            "backgroundcolor": "#E5ECF6",
            "gridcolor": "white",
            "gridwidth": 2,
            "linecolor": "white",
            "showbackground": true,
            "ticks": "",
            "zerolinecolor": "white"
           },
           "yaxis": {
            "backgroundcolor": "#E5ECF6",
            "gridcolor": "white",
            "gridwidth": 2,
            "linecolor": "white",
            "showbackground": true,
            "ticks": "",
            "zerolinecolor": "white"
           },
           "zaxis": {
            "backgroundcolor": "#E5ECF6",
            "gridcolor": "white",
            "gridwidth": 2,
            "linecolor": "white",
            "showbackground": true,
            "ticks": "",
            "zerolinecolor": "white"
           }
          },
          "shapedefaults": {
           "line": {
            "color": "#2a3f5f"
           }
          },
          "ternary": {
           "aaxis": {
            "gridcolor": "white",
            "linecolor": "white",
            "ticks": ""
           },
           "baxis": {
            "gridcolor": "white",
            "linecolor": "white",
            "ticks": ""
           },
           "bgcolor": "#E5ECF6",
           "caxis": {
            "gridcolor": "white",
            "linecolor": "white",
            "ticks": ""
           }
          },
          "title": {
           "x": 0.05
          },
          "xaxis": {
           "automargin": true,
           "gridcolor": "white",
           "linecolor": "white",
           "ticks": "",
           "title": {
            "standoff": 15
           },
           "zerolinecolor": "white",
           "zerolinewidth": 2
          },
          "yaxis": {
           "automargin": true,
           "gridcolor": "white",
           "linecolor": "white",
           "ticks": "",
           "title": {
            "standoff": 15
           },
           "zerolinecolor": "white",
           "zerolinewidth": 2
          }
         }
        },
        "title": {
         "text": "<b>Evolution de la température moyenne par an en France</b>"
        },
        "xaxis": {
         "anchor": "y",
         "domain": [
          0,
          1
         ],
         "title": {
          "text": ""
         }
        },
        "yaxis": {
         "anchor": "x",
         "domain": [
          0,
          1
         ],
         "title": {
          "text": ""
         }
        }
       }
      }
     },
     "metadata": {},
     "output_type": "display_data"
    }
   ],
   "source": [
    "temperatureFranceMonth3 = temperatureFranceMonth.query(\"month == 'Février' or month == 'Avril' or month == 'Juin'\")\n",
    "fig = px.scatter(\n",
    "        temperatureFranceMonth3,x='year', y='AverageTemperature', color='month'\n",
    "        )\n",
    "    \n",
    "fig.update_layout(title='<b>Evolution de la température moyenne par an en France</b>',xaxis_title='', yaxis_title='')\n",
    "fig.show() "
   ]
  },
  {
   "cell_type": "code",
   "execution_count": 15,
   "metadata": {},
   "outputs": [
    {
     "data": {
      "application/vnd.plotly.v1+json": {
       "config": {
        "plotlyServerURL": "https://plot.ly"
       },
       "data": [
        {
         "hoverlabel": {
          "namelength": 0
         },
         "hovertemplate": "month=Octobre<br>year=%{x}<br>AverageTemperature=%{y}",
         "legendgroup": "month=Octobre",
         "marker": {
          "color": "#636efa",
          "symbol": "circle"
         },
         "mode": "markers",
         "name": "month=Octobre",
         "showlegend": true,
         "type": "scatter",
         "x": [
          "1744",
          "1750",
          "1752",
          "1753",
          "1754",
          "1755",
          "1756",
          "1757",
          "1758",
          "1759",
          "1760",
          "1761",
          "1762",
          "1763",
          "1764",
          "1765",
          "1766",
          "1767",
          "1768",
          "1769",
          "1770",
          "1771",
          "1772",
          "1773",
          "1774",
          "1775",
          "1776",
          "1777",
          "1778",
          "1779",
          "1780",
          "1781",
          "1782",
          "1783",
          "1784",
          "1785",
          "1786",
          "1787",
          "1788",
          "1789",
          "1790",
          "1791",
          "1792",
          "1793",
          "1794",
          "1795",
          "1796",
          "1797",
          "1798",
          "1799",
          "1800",
          "1801",
          "1802",
          "1803",
          "1804",
          "1805",
          "1806",
          "1807",
          "1808",
          "1809",
          "1810",
          "1811",
          "1812",
          "1813",
          "1814",
          "1815",
          "1816",
          "1817",
          "1818",
          "1819",
          "1820",
          "1821",
          "1822",
          "1823",
          "1824",
          "1825",
          "1826",
          "1827",
          "1828",
          "1829",
          "1830",
          "1831",
          "1832",
          "1833",
          "1834",
          "1835",
          "1836",
          "1837",
          "1838",
          "1839",
          "1840",
          "1841",
          "1842",
          "1843",
          "1844",
          "1845",
          "1846",
          "1847",
          "1848",
          "1849",
          "1850",
          "1851",
          "1852",
          "1853",
          "1854",
          "1855",
          "1856",
          "1857",
          "1858",
          "1859",
          "1860",
          "1861",
          "1862",
          "1863",
          "1864",
          "1865",
          "1866",
          "1867",
          "1868",
          "1869",
          "1870",
          "1871",
          "1872",
          "1873",
          "1874",
          "1875",
          "1876",
          "1877",
          "1878",
          "1879",
          "1880",
          "1881",
          "1882",
          "1883",
          "1884",
          "1885",
          "1886",
          "1887",
          "1888",
          "1889",
          "1890",
          "1891",
          "1892",
          "1893",
          "1894",
          "1895",
          "1896",
          "1897",
          "1898",
          "1899",
          "1900",
          "1901",
          "1902",
          "1903",
          "1904",
          "1905",
          "1906",
          "1907",
          "1908",
          "1909",
          "1910",
          "1911",
          "1912",
          "1913",
          "1914",
          "1915",
          "1916",
          "1917",
          "1918",
          "1919",
          "1920",
          "1921",
          "1922",
          "1923",
          "1924",
          "1925",
          "1926",
          "1927",
          "1928",
          "1929",
          "1930",
          "1931",
          "1932",
          "1933",
          "1934",
          "1935",
          "1936",
          "1937",
          "1938",
          "1939",
          "1940",
          "1941",
          "1942",
          "1943",
          "1944",
          "1945",
          "1946",
          "1947",
          "1948",
          "1949",
          "1950",
          "1951",
          "1952",
          "1953",
          "1954",
          "1955",
          "1956",
          "1957",
          "1958",
          "1959",
          "1960",
          "1961",
          "1962",
          "1963",
          "1964",
          "1965",
          "1966",
          "1967",
          "1968",
          "1969",
          "1970",
          "1971",
          "1972",
          "1973",
          "1974",
          "1975",
          "1976",
          "1977",
          "1978",
          "1979",
          "1980",
          "1981",
          "1982",
          "1983",
          "1984",
          "1985",
          "1986",
          "1987",
          "1988",
          "1989",
          "1990",
          "1991",
          "1992",
          "1993",
          "1994",
          "1995",
          "1996",
          "1997",
          "1998",
          "1999",
          "2000",
          "2001",
          "2002",
          "2003",
          "2004",
          "2005",
          "2006",
          "2007",
          "2008",
          "2009",
          "2010",
          "2011",
          "2012"
         ],
         "xaxis": "x",
         "y": [
          12.554,
          11.077,
          12.48,
          13.365,
          14.429,
          12.46,
          12.046,
          10.068,
          10.469000000000001,
          14.075,
          12.795,
          11.987,
          11.225,
          10.965,
          12.069,
          13.18,
          13.262,
          13.267000000000001,
          12.938,
          9.848,
          12.435,
          13.761,
          14.711,
          13.571000000000002,
          12.18,
          13.243,
          13.155,
          13.292000000000002,
          12.193,
          14.496,
          13.6,
          12.513000000000002,
          11.802,
          13.138,
          10.469000000000001,
          12.13,
          10.970999999999998,
          13.421,
          12.812000000000001,
          11.937000000000001,
          14.24,
          12.546,
          13.52,
          13.965,
          12.890999999999998,
          14.662,
          12.855,
          12.420000000000002,
          12.953,
          12.921,
          12.556,
          13.385000000000002,
          14.493,
          12.444,
          13.178,
          11.289000000000001,
          12.964,
          14.225,
          10.469000000000001,
          12.034,
          12.532,
          14.295,
          12.63,
          12.856,
          11.356000000000002,
          12.994000000000002,
          12.448,
          10.221,
          12.675,
          12.773,
          11.442,
          12.723,
          13.603000000000002,
          11.88,
          12.805,
          13.052,
          13.633,
          13.598,
          13.158,
          11.713,
          12.541,
          14.59,
          13.078,
          12.834000000000001,
          13.539000000000001,
          11.788,
          13.012,
          12.792000000000002,
          12.925999999999998,
          13.109000000000002,
          11.585,
          12.955,
          10.767000000000001,
          12.849,
          12.861,
          13.015,
          12.678,
          13.139000000000001,
          12.901,
          13.396,
          11.130999999999998,
          13.23,
          12.312000000000001,
          13.043,
          13.501,
          13.794,
          13.45,
          13.895,
          13.445,
          14.135000000000002,
          12.989,
          14.601,
          14.102,
          13.621,
          12.303,
          13.787,
          13.247,
          12.169,
          12.682,
          12.069,
          13.238,
          12.542000000000002,
          12.582,
          13.24,
          13.57,
          12.557,
          14.628,
          12.062000000000001,
          13.806,
          12.65,
          13.218,
          10.877,
          13.287,
          12.559000000000001,
          12.054,
          11.355,
          13.924000000000001,
          10.102,
          11.523,
          12.324000000000002,
          12.224,
          13.745,
          11.994000000000002,
          13.792000000000002,
          12.912,
          12.462,
          11.472000000000001,
          12.562000000000001,
          14.066,
          14.011,
          13.716,
          12.818,
          12.403,
          14.072000000000001,
          13.15,
          10.497,
          14.564,
          13.598,
          13.887,
          14.184000000000001,
          13.704,
          13.168,
          12.067,
          14.022,
          12.765999999999998,
          11.808,
          13.325,
          11.593,
          11.760000000000002,
          10.843,
          13.220999999999998,
          15.595999999999998,
          11.757,
          14.379000000000001,
          13.501,
          13.683,
          13.671,
          13.385000000000002,
          13.493,
          13.510000000000002,
          13.856,
          12.866,
          13.065,
          13.844000000000001,
          13.62,
          12.738,
          11.369000000000002,
          13.709000000000001,
          13.505,
          12.461,
          12.724,
          12.817,
          14.928,
          14.457,
          12.130999999999998,
          14.13,
          13.27,
          13.991,
          13.418,
          15.015999999999998,
          13.425,
          12.755999999999998,
          13.178,
          14.072000000000001,
          14.259,
          12.573,
          12.651,
          13.68,
          13.361,
          13.975,
          13.108,
          14.167000000000002,
          13.995,
          13.515999999999998,
          11.893,
          14.175999999999998,
          14.466,
          15.047,
          15.209000000000001,
          14.859000000000002,
          13.28,
          14.238,
          12.991,
          12.71,
          10.239,
          12.528,
          13.821000000000002,
          14.829,
          13.53,
          14.484000000000002,
          12.911,
          13.393,
          13.376,
          13.763,
          13.796,
          14.269,
          15.138000000000002,
          14.594000000000001,
          14.776,
          14.925999999999998,
          15.224,
          12.863,
          11.982000000000001,
          12.539000000000001,
          14.054,
          16.342,
          13.835,
          14.376,
          13.767000000000001,
          14.146,
          14.034,
          16.426000000000002,
          14.257,
          12.574000000000002,
          15.099,
          16.165,
          16.409000000000002,
          13.576,
          13.575,
          14.300999999999998,
          13.652000000000001,
          14.817,
          14.465
         ],
         "yaxis": "y"
        },
        {
         "hoverlabel": {
          "namelength": 0
         },
         "hovertemplate": "month=Décembre<br>year=%{x}<br>AverageTemperature=%{y}",
         "legendgroup": "month=Décembre",
         "marker": {
          "color": "#EF553B",
          "symbol": "circle"
         },
         "mode": "markers",
         "name": "month=Décembre",
         "showlegend": true,
         "type": "scatter",
         "x": [
          "1744",
          "1750",
          "1752",
          "1753",
          "1754",
          "1755",
          "1756",
          "1757",
          "1758",
          "1759",
          "1760",
          "1761",
          "1762",
          "1763",
          "1764",
          "1765",
          "1766",
          "1767",
          "1768",
          "1769",
          "1770",
          "1771",
          "1772",
          "1773",
          "1774",
          "1775",
          "1776",
          "1777",
          "1778",
          "1779",
          "1780",
          "1781",
          "1782",
          "1783",
          "1784",
          "1785",
          "1786",
          "1787",
          "1788",
          "1789",
          "1790",
          "1791",
          "1792",
          "1793",
          "1794",
          "1795",
          "1796",
          "1797",
          "1798",
          "1799",
          "1800",
          "1801",
          "1802",
          "1803",
          "1804",
          "1805",
          "1806",
          "1807",
          "1808",
          "1809",
          "1810",
          "1811",
          "1812",
          "1813",
          "1814",
          "1815",
          "1816",
          "1817",
          "1818",
          "1819",
          "1820",
          "1821",
          "1822",
          "1823",
          "1824",
          "1825",
          "1826",
          "1827",
          "1828",
          "1830",
          "1831",
          "1832",
          "1833",
          "1834",
          "1835",
          "1836",
          "1837",
          "1838",
          "1839",
          "1840",
          "1841",
          "1842",
          "1843",
          "1844",
          "1845",
          "1846",
          "1847",
          "1848",
          "1849",
          "1850",
          "1851",
          "1852",
          "1853",
          "1854",
          "1855",
          "1856",
          "1857",
          "1858",
          "1859",
          "1860",
          "1861",
          "1862",
          "1863",
          "1864",
          "1865",
          "1866",
          "1867",
          "1868",
          "1869",
          "1870",
          "1872",
          "1873",
          "1874",
          "1875",
          "1876",
          "1877",
          "1878",
          "1880",
          "1881",
          "1882",
          "1883",
          "1884",
          "1885",
          "1886",
          "1887",
          "1888",
          "1889",
          "1891",
          "1892",
          "1893",
          "1894",
          "1895",
          "1896",
          "1897",
          "1898",
          "1899",
          "1900",
          "1901",
          "1902",
          "1903",
          "1904",
          "1905",
          "1906",
          "1907",
          "1908",
          "1909",
          "1910",
          "1911",
          "1912",
          "1913",
          "1914",
          "1915",
          "1916",
          "1917",
          "1918",
          "1919",
          "1920",
          "1921",
          "1922",
          "1923",
          "1924",
          "1925",
          "1926",
          "1927",
          "1928",
          "1929",
          "1930",
          "1931",
          "1932",
          "1933",
          "1934",
          "1935",
          "1936",
          "1937",
          "1938",
          "1939",
          "1940",
          "1941",
          "1942",
          "1943",
          "1944",
          "1945",
          "1946",
          "1947",
          "1948",
          "1949",
          "1950",
          "1951",
          "1952",
          "1953",
          "1954",
          "1955",
          "1956",
          "1957",
          "1958",
          "1959",
          "1960",
          "1961",
          "1962",
          "1963",
          "1964",
          "1965",
          "1966",
          "1967",
          "1968",
          "1969",
          "1970",
          "1971",
          "1972",
          "1973",
          "1974",
          "1975",
          "1976",
          "1977",
          "1978",
          "1979",
          "1980",
          "1981",
          "1982",
          "1983",
          "1984",
          "1985",
          "1986",
          "1987",
          "1988",
          "1989",
          "1990",
          "1991",
          "1992",
          "1993",
          "1994",
          "1995",
          "1996",
          "1997",
          "1998",
          "1999",
          "2000",
          "2001",
          "2002",
          "2003",
          "2004",
          "2005",
          "2006",
          "2007",
          "2008",
          "2009",
          "2010",
          "2011",
          "2012"
         ],
         "xaxis": "x",
         "y": [
          7.07,
          6.606,
          8.365,
          6.964,
          7.379,
          6.7250000000000005,
          4.5630000000000015,
          5.308000000000002,
          7.072,
          4.732,
          8.141,
          3.9500000000000006,
          4.01,
          8.182,
          8.212,
          5.5390000000000015,
          6.0660000000000025,
          5.348000000000001,
          6.876,
          6.775,
          7.899,
          8.592,
          8.892999999999997,
          8.451,
          4.7250000000000005,
          6.075,
          7.29,
          5.5500000000000025,
          8.232000000000001,
          8.625,
          5.924,
          8.631,
          5.309000000000001,
          6.314,
          4.4750000000000005,
          6.565,
          5.936,
          8.216000000000001,
          3.6210000000000004,
          6.9300000000000015,
          7.319000000000001,
          7.0230000000000015,
          7.12,
          8.097999999999999,
          5.352,
          8.562000000000001,
          4.255000000000001,
          8.093,
          5.391,
          4.215,
          6.755000000000001,
          7.4910000000000005,
          7.455,
          7.7170000000000005,
          5.609,
          5.996,
          9.663,
          5.7280000000000015,
          3.98,
          7.2040000000000015,
          7.602,
          6.589,
          4.019,
          6.5740000000000025,
          8.927,
          5.647,
          6.122999999999998,
          5.83,
          6.098000000000001,
          6.65,
          6.87,
          9.123,
          4.638,
          7.622000000000001,
          9.516,
          8.755,
          7.791,
          8.58,
          8.612,
          6.3290000000000015,
          7.497000000000001,
          6.698,
          9.199,
          7.091,
          4.8130000000000015,
          7.197,
          7.606000000000001,
          6.354000000000001,
          8.02,
          4.269,
          7.471,
          7.7360000000000015,
          7.85,
          4.591000000000001,
          7.57,
          3.995000000000001,
          6.4490000000000025,
          7.41,
          5.832999999999998,
          6.952000000000001,
          5.4830000000000005,
          9.74,
          4.088000000000001,
          7.4220000000000015,
          4.673,
          7.064,
          7.501,
          7.073,
          4.94,
          6.085000000000001,
          6.78,
          7.5900000000000025,
          7.65,
          4.8660000000000005,
          6.099,
          8.674,
          5.332000000000002,
          10.578,
          6.0550000000000015,
          3.6110000000000007,
          8.531,
          6.468,
          5.0200000000000005,
          5.229000000000001,
          9.03,
          7.042999999999998,
          4.981,
          9.29,
          6.4220000000000015,
          7.4110000000000005,
          6.343,
          7.001,
          6.402,
          6.613,
          5.7280000000000015,
          7.263000000000001,
          4.742000000000001,
          7.7860000000000005,
          5.336,
          6.4460000000000015,
          6.681,
          7.6670000000000025,
          6.922999999999999,
          7.2,
          7.815,
          5.7440000000000015,
          8.517999999999999,
          6.601000000000001,
          6.606,
          5.9570000000000025,
          7.686000000000001,
          6.8500000000000005,
          5.448,
          8.423,
          6.705,
          8.052999999999999,
          8.475,
          8.942,
          8.007,
          7.077000000000001,
          8.478,
          9.455,
          7.292999999999998,
          4.372,
          9.146,
          7.997000000000001,
          6.756,
          7.386,
          7.266,
          6.8679999999999986,
          7.442,
          7.109,
          5.9090000000000025,
          6.377999999999999,
          6.8850000000000025,
          8.895,
          7.729,
          6.3000000000000025,
          8.187000000000001,
          3.726000000000001,
          9.846,
          7.0660000000000025,
          7.4300000000000015,
          6.3660000000000005,
          6.1370000000000005,
          6.3740000000000006,
          4.774,
          6.848000000000001,
          7.809,
          6.9,
          6.6110000000000015,
          7.621,
          5.355,
          7.3240000000000025,
          7.6830000000000025,
          8.086,
          4.790000000000001,
          8.040000000000001,
          6.964,
          9.804,
          8.940000000000003,
          9.239,
          8.134,
          6.924,
          8.398,
          8.808,
          6.53,
          7.91,
          5.197000000000001,
          5.106,
          6.474,
          8.718,
          8.294,
          6.1530000000000005,
          6.537000000000001,
          5.1320000000000014,
          5.9700000000000015,
          7.8610000000000015,
          7.74,
          6.9860000000000015,
          9.509,
          6.133000000000001,
          6.732,
          8.482000000000001,
          8.472000000000001,
          8.859,
          6.356,
          7.7,
          8.1,
          7.608,
          7.775,
          8.458,
          8.321,
          8.517999999999999,
          8.68,
          8.836,
          6.3870000000000005,
          6.891,
          8.200000000000001,
          9.263,
          9.409,
          7.462999999999999,
          6.9590000000000005,
          8.763,
          7.875,
          8.110000000000001,
          9.966000000000001,
          6.043000000000001,
          9.568,
          8.219000000000001,
          7.479,
          6.3000000000000025,
          8.115,
          7.258999999999999,
          6.9190000000000005,
          7.66,
          5.57,
          9.769,
          8.783000000000001
         ],
         "yaxis": "y"
        },
        {
         "hoverlabel": {
          "namelength": 0
         },
         "hovertemplate": "month=Aout<br>year=%{x}<br>AverageTemperature=%{y}",
         "legendgroup": "month=Aout",
         "marker": {
          "color": "#00cc96",
          "symbol": "circle"
         },
         "mode": "markers",
         "name": "month=Aout",
         "showlegend": true,
         "type": "scatter",
         "x": [
          "1750",
          "1751",
          "1753",
          "1754",
          "1755",
          "1756",
          "1757",
          "1758",
          "1759",
          "1760",
          "1761",
          "1762",
          "1763",
          "1764",
          "1765",
          "1766",
          "1767",
          "1768",
          "1769",
          "1770",
          "1771",
          "1772",
          "1773",
          "1774",
          "1775",
          "1776",
          "1777",
          "1778",
          "1779",
          "1780",
          "1781",
          "1782",
          "1783",
          "1784",
          "1785",
          "1786",
          "1787",
          "1788",
          "1789",
          "1790",
          "1791",
          "1792",
          "1793",
          "1794",
          "1795",
          "1796",
          "1797",
          "1798",
          "1799",
          "1800",
          "1801",
          "1803",
          "1804",
          "1805",
          "1806",
          "1808",
          "1809",
          "1810",
          "1811",
          "1812",
          "1813",
          "1814",
          "1815",
          "1816",
          "1817",
          "1818",
          "1819",
          "1820",
          "1821",
          "1822",
          "1823",
          "1824",
          "1825",
          "1826",
          "1827",
          "1828",
          "1829",
          "1830",
          "1831",
          "1832",
          "1833",
          "1834",
          "1835",
          "1836",
          "1837",
          "1838",
          "1839",
          "1840",
          "1841",
          "1842",
          "1843",
          "1844",
          "1845",
          "1846",
          "1847",
          "1848",
          "1849",
          "1850",
          "1851",
          "1852",
          "1853",
          "1854",
          "1855",
          "1856",
          "1857",
          "1858",
          "1859",
          "1860",
          "1861",
          "1862",
          "1863",
          "1864",
          "1865",
          "1866",
          "1867",
          "1868",
          "1869",
          "1870",
          "1871",
          "1872",
          "1873",
          "1874",
          "1875",
          "1876",
          "1877",
          "1878",
          "1879",
          "1880",
          "1881",
          "1882",
          "1883",
          "1884",
          "1885",
          "1886",
          "1887",
          "1888",
          "1889",
          "1890",
          "1891",
          "1892",
          "1893",
          "1894",
          "1895",
          "1896",
          "1897",
          "1898",
          "1899",
          "1900",
          "1901",
          "1902",
          "1903",
          "1904",
          "1905",
          "1906",
          "1907",
          "1908",
          "1909",
          "1910",
          "1912",
          "1913",
          "1914",
          "1915",
          "1916",
          "1917",
          "1918",
          "1919",
          "1920",
          "1921",
          "1922",
          "1923",
          "1924",
          "1925",
          "1926",
          "1927",
          "1928",
          "1929",
          "1930",
          "1931",
          "1932",
          "1933",
          "1934",
          "1935",
          "1936",
          "1937",
          "1938",
          "1939",
          "1940",
          "1941",
          "1942",
          "1943",
          "1945",
          "1946",
          "1948",
          "1949",
          "1950",
          "1951",
          "1952",
          "1953",
          "1954",
          "1955",
          "1956",
          "1957",
          "1958",
          "1959",
          "1960",
          "1961",
          "1962",
          "1963",
          "1964",
          "1965",
          "1966",
          "1967",
          "1968",
          "1969",
          "1970",
          "1971",
          "1972",
          "1973",
          "1974",
          "1975",
          "1976",
          "1977",
          "1978",
          "1979",
          "1980",
          "1981",
          "1982",
          "1983",
          "1984",
          "1985",
          "1986",
          "1987",
          "1988",
          "1989",
          "1992",
          "1993",
          "1994",
          "1995",
          "1996",
          "1998",
          "1999",
          "2000",
          "2001",
          "2002",
          "2004",
          "2005",
          "2006",
          "2007",
          "2008",
          "2010",
          "2011",
          "2013"
         ],
         "xaxis": "x",
         "y": [
          19.392,
          19.545,
          18.394,
          19.692999999999998,
          18.009999999999994,
          18.497,
          19.605999999999998,
          18.192999999999998,
          19.465,
          18.865,
          20.11,
          18.581,
          19.989,
          17.927,
          18.862,
          20.056,
          19.625999999999998,
          19.081,
          19.132,
          19.093,
          19.444000000000006,
          19.991,
          19.127,
          20.65,
          19.304,
          19.913,
          19.705,
          19.806,
          19.673,
          20.119,
          20.123,
          19.658,
          19.453,
          19.026,
          18.567999999999998,
          18.895,
          19.795,
          19.172,
          19.271,
          19.893,
          20.362,
          19.33,
          20.291,
          18.962,
          19.851,
          19.961,
          19.85,
          20.069000000000006,
          19.014,
          19.974,
          19.129,
          20.595,
          19.046,
          19.143,
          19.182,
          19.355999999999998,
          18.438,
          18.217,
          18.41,
          18.781,
          17.985,
          18.022,
          18.337,
          16.891,
          17.936999999999994,
          18.705,
          18.898,
          19.359,
          19.576,
          18.825,
          19.308,
          18.948,
          19.396,
          20.505,
          18.628,
          18.461,
          17.941,
          18.695999999999998,
          18.739,
          19.634,
          17.781,
          19.714,
          18.969,
          19.201,
          20.183,
          18.674,
          18.485,
          19.671,
          18.558,
          20.31,
          19.142,
          17.351,
          17.239,
          20.246,
          19.194000000000006,
          18.75,
          18.637,
          18.465,
          19.437,
          18.945999999999998,
          19.091,
          18.632,
          19.644,
          20.338,
          20.003,
          18.556,
          20.607,
          17.572,
          20.372,
          18.248,
          19.854,
          18.262999999999998,
          18.667,
          17.916,
          19.342,
          19.373,
          18.375,
          18.153,
          19.699,
          18.634,
          19.864,
          18.416,
          19.83,
          19.863,
          19.735,
          19.259,
          19.527,
          18.951,
          19.037,
          18.17,
          18.718,
          19.826,
          18.424,
          18.819000000000006,
          19.088,
          17.834,
          18.31,
          18.537,
          17.951999999999995,
          19.492,
          20.226,
          18.352,
          18.925,
          17.244,
          18.953,
          20.023,
          20.621,
          18.516,
          19.145,
          18.645,
          18.684,
          19.702,
          18.919,
          20.107,
          19.313,
          18.259,
          19.02,
          18.434,
          16.872999999999998,
          18.551,
          19.114,
          18.723,
          19.151,
          18.226,
          19.109,
          19.957,
          17.783,
          19.058,
          18.572,
          19.792,
          17.320999999999998,
          18.656,
          19.466,
          18.662,
          20.059,
          19.135,
          19.142,
          18.239,
          20.775,
          20.691,
          18.467,
          19.016,
          19.217,
          20.01,
          19.191,
          19.098,
          18.58,
          18.027,
          19.598,
          20.093,
          19.102,
          18.8,
          19.092,
          20.316,
          19.69,
          18.671,
          19.866,
          19.772,
          18.102999999999998,
          19.9,
          17.750999999999994,
          18.678,
          19.517,
          19.684,
          18.525,
          19.06,
          19.785999999999998,
          17.838,
          19.397,
          18.363,
          18.44,
          19.236,
          18.432,
          19.214,
          19.454,
          19.737,
          18.186,
          20.915,
          19.72,
          20.6,
          19.879,
          18.095,
          18.348,
          18.37,
          19.762999999999998,
          19.736,
          19.024,
          20.176,
          19.387,
          18.831,
          18.96,
          19.94,
          19.903,
          20.325,
          20.846999999999998,
          19.644,
          20.822,
          20.924,
          19.288,
          20.467,
          20.346,
          20.576,
          20.891,
          19.485,
          20.433,
          19.582,
          18.74,
          19.272,
          19.773,
          19.795,
          20.379,
          20.366
         ],
         "yaxis": "y"
        }
       ],
       "layout": {
        "legend": {
         "tracegroupgap": 0
        },
        "margin": {
         "t": 60
        },
        "template": {
         "data": {
          "bar": [
           {
            "error_x": {
             "color": "#2a3f5f"
            },
            "error_y": {
             "color": "#2a3f5f"
            },
            "marker": {
             "line": {
              "color": "#E5ECF6",
              "width": 0.5
             }
            },
            "type": "bar"
           }
          ],
          "barpolar": [
           {
            "marker": {
             "line": {
              "color": "#E5ECF6",
              "width": 0.5
             }
            },
            "type": "barpolar"
           }
          ],
          "carpet": [
           {
            "aaxis": {
             "endlinecolor": "#2a3f5f",
             "gridcolor": "white",
             "linecolor": "white",
             "minorgridcolor": "white",
             "startlinecolor": "#2a3f5f"
            },
            "baxis": {
             "endlinecolor": "#2a3f5f",
             "gridcolor": "white",
             "linecolor": "white",
             "minorgridcolor": "white",
             "startlinecolor": "#2a3f5f"
            },
            "type": "carpet"
           }
          ],
          "choropleth": [
           {
            "colorbar": {
             "outlinewidth": 0,
             "ticks": ""
            },
            "type": "choropleth"
           }
          ],
          "contour": [
           {
            "colorbar": {
             "outlinewidth": 0,
             "ticks": ""
            },
            "colorscale": [
             [
              0,
              "#0d0887"
             ],
             [
              0.1111111111111111,
              "#46039f"
             ],
             [
              0.2222222222222222,
              "#7201a8"
             ],
             [
              0.3333333333333333,
              "#9c179e"
             ],
             [
              0.4444444444444444,
              "#bd3786"
             ],
             [
              0.5555555555555556,
              "#d8576b"
             ],
             [
              0.6666666666666666,
              "#ed7953"
             ],
             [
              0.7777777777777778,
              "#fb9f3a"
             ],
             [
              0.8888888888888888,
              "#fdca26"
             ],
             [
              1,
              "#f0f921"
             ]
            ],
            "type": "contour"
           }
          ],
          "contourcarpet": [
           {
            "colorbar": {
             "outlinewidth": 0,
             "ticks": ""
            },
            "type": "contourcarpet"
           }
          ],
          "heatmap": [
           {
            "colorbar": {
             "outlinewidth": 0,
             "ticks": ""
            },
            "colorscale": [
             [
              0,
              "#0d0887"
             ],
             [
              0.1111111111111111,
              "#46039f"
             ],
             [
              0.2222222222222222,
              "#7201a8"
             ],
             [
              0.3333333333333333,
              "#9c179e"
             ],
             [
              0.4444444444444444,
              "#bd3786"
             ],
             [
              0.5555555555555556,
              "#d8576b"
             ],
             [
              0.6666666666666666,
              "#ed7953"
             ],
             [
              0.7777777777777778,
              "#fb9f3a"
             ],
             [
              0.8888888888888888,
              "#fdca26"
             ],
             [
              1,
              "#f0f921"
             ]
            ],
            "type": "heatmap"
           }
          ],
          "heatmapgl": [
           {
            "colorbar": {
             "outlinewidth": 0,
             "ticks": ""
            },
            "colorscale": [
             [
              0,
              "#0d0887"
             ],
             [
              0.1111111111111111,
              "#46039f"
             ],
             [
              0.2222222222222222,
              "#7201a8"
             ],
             [
              0.3333333333333333,
              "#9c179e"
             ],
             [
              0.4444444444444444,
              "#bd3786"
             ],
             [
              0.5555555555555556,
              "#d8576b"
             ],
             [
              0.6666666666666666,
              "#ed7953"
             ],
             [
              0.7777777777777778,
              "#fb9f3a"
             ],
             [
              0.8888888888888888,
              "#fdca26"
             ],
             [
              1,
              "#f0f921"
             ]
            ],
            "type": "heatmapgl"
           }
          ],
          "histogram": [
           {
            "marker": {
             "colorbar": {
              "outlinewidth": 0,
              "ticks": ""
             }
            },
            "type": "histogram"
           }
          ],
          "histogram2d": [
           {
            "colorbar": {
             "outlinewidth": 0,
             "ticks": ""
            },
            "colorscale": [
             [
              0,
              "#0d0887"
             ],
             [
              0.1111111111111111,
              "#46039f"
             ],
             [
              0.2222222222222222,
              "#7201a8"
             ],
             [
              0.3333333333333333,
              "#9c179e"
             ],
             [
              0.4444444444444444,
              "#bd3786"
             ],
             [
              0.5555555555555556,
              "#d8576b"
             ],
             [
              0.6666666666666666,
              "#ed7953"
             ],
             [
              0.7777777777777778,
              "#fb9f3a"
             ],
             [
              0.8888888888888888,
              "#fdca26"
             ],
             [
              1,
              "#f0f921"
             ]
            ],
            "type": "histogram2d"
           }
          ],
          "histogram2dcontour": [
           {
            "colorbar": {
             "outlinewidth": 0,
             "ticks": ""
            },
            "colorscale": [
             [
              0,
              "#0d0887"
             ],
             [
              0.1111111111111111,
              "#46039f"
             ],
             [
              0.2222222222222222,
              "#7201a8"
             ],
             [
              0.3333333333333333,
              "#9c179e"
             ],
             [
              0.4444444444444444,
              "#bd3786"
             ],
             [
              0.5555555555555556,
              "#d8576b"
             ],
             [
              0.6666666666666666,
              "#ed7953"
             ],
             [
              0.7777777777777778,
              "#fb9f3a"
             ],
             [
              0.8888888888888888,
              "#fdca26"
             ],
             [
              1,
              "#f0f921"
             ]
            ],
            "type": "histogram2dcontour"
           }
          ],
          "mesh3d": [
           {
            "colorbar": {
             "outlinewidth": 0,
             "ticks": ""
            },
            "type": "mesh3d"
           }
          ],
          "parcoords": [
           {
            "line": {
             "colorbar": {
              "outlinewidth": 0,
              "ticks": ""
             }
            },
            "type": "parcoords"
           }
          ],
          "pie": [
           {
            "automargin": true,
            "type": "pie"
           }
          ],
          "scatter": [
           {
            "marker": {
             "colorbar": {
              "outlinewidth": 0,
              "ticks": ""
             }
            },
            "type": "scatter"
           }
          ],
          "scatter3d": [
           {
            "line": {
             "colorbar": {
              "outlinewidth": 0,
              "ticks": ""
             }
            },
            "marker": {
             "colorbar": {
              "outlinewidth": 0,
              "ticks": ""
             }
            },
            "type": "scatter3d"
           }
          ],
          "scattercarpet": [
           {
            "marker": {
             "colorbar": {
              "outlinewidth": 0,
              "ticks": ""
             }
            },
            "type": "scattercarpet"
           }
          ],
          "scattergeo": [
           {
            "marker": {
             "colorbar": {
              "outlinewidth": 0,
              "ticks": ""
             }
            },
            "type": "scattergeo"
           }
          ],
          "scattergl": [
           {
            "marker": {
             "colorbar": {
              "outlinewidth": 0,
              "ticks": ""
             }
            },
            "type": "scattergl"
           }
          ],
          "scattermapbox": [
           {
            "marker": {
             "colorbar": {
              "outlinewidth": 0,
              "ticks": ""
             }
            },
            "type": "scattermapbox"
           }
          ],
          "scatterpolar": [
           {
            "marker": {
             "colorbar": {
              "outlinewidth": 0,
              "ticks": ""
             }
            },
            "type": "scatterpolar"
           }
          ],
          "scatterpolargl": [
           {
            "marker": {
             "colorbar": {
              "outlinewidth": 0,
              "ticks": ""
             }
            },
            "type": "scatterpolargl"
           }
          ],
          "scatterternary": [
           {
            "marker": {
             "colorbar": {
              "outlinewidth": 0,
              "ticks": ""
             }
            },
            "type": "scatterternary"
           }
          ],
          "surface": [
           {
            "colorbar": {
             "outlinewidth": 0,
             "ticks": ""
            },
            "colorscale": [
             [
              0,
              "#0d0887"
             ],
             [
              0.1111111111111111,
              "#46039f"
             ],
             [
              0.2222222222222222,
              "#7201a8"
             ],
             [
              0.3333333333333333,
              "#9c179e"
             ],
             [
              0.4444444444444444,
              "#bd3786"
             ],
             [
              0.5555555555555556,
              "#d8576b"
             ],
             [
              0.6666666666666666,
              "#ed7953"
             ],
             [
              0.7777777777777778,
              "#fb9f3a"
             ],
             [
              0.8888888888888888,
              "#fdca26"
             ],
             [
              1,
              "#f0f921"
             ]
            ],
            "type": "surface"
           }
          ],
          "table": [
           {
            "cells": {
             "fill": {
              "color": "#EBF0F8"
             },
             "line": {
              "color": "white"
             }
            },
            "header": {
             "fill": {
              "color": "#C8D4E3"
             },
             "line": {
              "color": "white"
             }
            },
            "type": "table"
           }
          ]
         },
         "layout": {
          "annotationdefaults": {
           "arrowcolor": "#2a3f5f",
           "arrowhead": 0,
           "arrowwidth": 1
          },
          "coloraxis": {
           "colorbar": {
            "outlinewidth": 0,
            "ticks": ""
           }
          },
          "colorscale": {
           "diverging": [
            [
             0,
             "#8e0152"
            ],
            [
             0.1,
             "#c51b7d"
            ],
            [
             0.2,
             "#de77ae"
            ],
            [
             0.3,
             "#f1b6da"
            ],
            [
             0.4,
             "#fde0ef"
            ],
            [
             0.5,
             "#f7f7f7"
            ],
            [
             0.6,
             "#e6f5d0"
            ],
            [
             0.7,
             "#b8e186"
            ],
            [
             0.8,
             "#7fbc41"
            ],
            [
             0.9,
             "#4d9221"
            ],
            [
             1,
             "#276419"
            ]
           ],
           "sequential": [
            [
             0,
             "#0d0887"
            ],
            [
             0.1111111111111111,
             "#46039f"
            ],
            [
             0.2222222222222222,
             "#7201a8"
            ],
            [
             0.3333333333333333,
             "#9c179e"
            ],
            [
             0.4444444444444444,
             "#bd3786"
            ],
            [
             0.5555555555555556,
             "#d8576b"
            ],
            [
             0.6666666666666666,
             "#ed7953"
            ],
            [
             0.7777777777777778,
             "#fb9f3a"
            ],
            [
             0.8888888888888888,
             "#fdca26"
            ],
            [
             1,
             "#f0f921"
            ]
           ],
           "sequentialminus": [
            [
             0,
             "#0d0887"
            ],
            [
             0.1111111111111111,
             "#46039f"
            ],
            [
             0.2222222222222222,
             "#7201a8"
            ],
            [
             0.3333333333333333,
             "#9c179e"
            ],
            [
             0.4444444444444444,
             "#bd3786"
            ],
            [
             0.5555555555555556,
             "#d8576b"
            ],
            [
             0.6666666666666666,
             "#ed7953"
            ],
            [
             0.7777777777777778,
             "#fb9f3a"
            ],
            [
             0.8888888888888888,
             "#fdca26"
            ],
            [
             1,
             "#f0f921"
            ]
           ]
          },
          "colorway": [
           "#636efa",
           "#EF553B",
           "#00cc96",
           "#ab63fa",
           "#FFA15A",
           "#19d3f3",
           "#FF6692",
           "#B6E880",
           "#FF97FF",
           "#FECB52"
          ],
          "font": {
           "color": "#2a3f5f"
          },
          "geo": {
           "bgcolor": "white",
           "lakecolor": "white",
           "landcolor": "#E5ECF6",
           "showlakes": true,
           "showland": true,
           "subunitcolor": "white"
          },
          "hoverlabel": {
           "align": "left"
          },
          "hovermode": "closest",
          "mapbox": {
           "style": "light"
          },
          "paper_bgcolor": "white",
          "plot_bgcolor": "#E5ECF6",
          "polar": {
           "angularaxis": {
            "gridcolor": "white",
            "linecolor": "white",
            "ticks": ""
           },
           "bgcolor": "#E5ECF6",
           "radialaxis": {
            "gridcolor": "white",
            "linecolor": "white",
            "ticks": ""
           }
          },
          "scene": {
           "xaxis": {
            "backgroundcolor": "#E5ECF6",
            "gridcolor": "white",
            "gridwidth": 2,
            "linecolor": "white",
            "showbackground": true,
            "ticks": "",
            "zerolinecolor": "white"
           },
           "yaxis": {
            "backgroundcolor": "#E5ECF6",
            "gridcolor": "white",
            "gridwidth": 2,
            "linecolor": "white",
            "showbackground": true,
            "ticks": "",
            "zerolinecolor": "white"
           },
           "zaxis": {
            "backgroundcolor": "#E5ECF6",
            "gridcolor": "white",
            "gridwidth": 2,
            "linecolor": "white",
            "showbackground": true,
            "ticks": "",
            "zerolinecolor": "white"
           }
          },
          "shapedefaults": {
           "line": {
            "color": "#2a3f5f"
           }
          },
          "ternary": {
           "aaxis": {
            "gridcolor": "white",
            "linecolor": "white",
            "ticks": ""
           },
           "baxis": {
            "gridcolor": "white",
            "linecolor": "white",
            "ticks": ""
           },
           "bgcolor": "#E5ECF6",
           "caxis": {
            "gridcolor": "white",
            "linecolor": "white",
            "ticks": ""
           }
          },
          "title": {
           "x": 0.05
          },
          "xaxis": {
           "automargin": true,
           "gridcolor": "white",
           "linecolor": "white",
           "ticks": "",
           "title": {
            "standoff": 15
           },
           "zerolinecolor": "white",
           "zerolinewidth": 2
          },
          "yaxis": {
           "automargin": true,
           "gridcolor": "white",
           "linecolor": "white",
           "ticks": "",
           "title": {
            "standoff": 15
           },
           "zerolinecolor": "white",
           "zerolinewidth": 2
          }
         }
        },
        "title": {
         "text": "<b>Evolution de la température moyenne par an en France</b>"
        },
        "xaxis": {
         "anchor": "y",
         "domain": [
          0,
          1
         ],
         "title": {
          "text": ""
         }
        },
        "yaxis": {
         "anchor": "x",
         "domain": [
          0,
          1
         ],
         "title": {
          "text": ""
         }
        }
       }
      }
     },
     "metadata": {},
     "output_type": "display_data"
    }
   ],
   "source": [
    "temperatureFranceMonth4 = temperatureFranceMonth.query(\"month == 'Aout' or month == 'Octobre' or month == 'Décembre'\")\n",
    "fig = px.scatter(\n",
    "        temperatureFranceMonth4,x='year', y='AverageTemperature', color='month'\n",
    "        )\n",
    "    \n",
    "fig.update_layout(title='<b>Evolution de la température moyenne par an en France</b>',xaxis_title='', yaxis_title='')\n",
    "fig.show() "
   ]
  },
  {
   "cell_type": "code",
   "execution_count": 16,
   "metadata": {},
   "outputs": [
    {
     "data": {
      "application/vnd.plotly.v1+json": {
       "config": {
        "plotlyServerURL": "https://plot.ly"
       },
       "data": [
        {
         "hoverlabel": {
          "namelength": 0
         },
         "hovertemplate": "month=%{x}<br>diff=%{y}",
         "legendgroup": "",
         "line": {
          "color": "#636efa",
          "dash": "solid"
         },
         "mode": "lines",
         "name": "",
         "showlegend": false,
         "type": "scatter",
         "x": [
          "Janvier",
          "Février",
          "Mars",
          "Avril",
          "Mai",
          "Juin",
          "Juillet",
          "Aout",
          "Septembre",
          "Octobre",
          "Novembre",
          "Décembre"
         ],
         "xaxis": "x",
         "y": [
          1.312713768115941,
          0.8301583333333324,
          1.8304803921568649,
          0.9173627450980426,
          1.5684142156862784,
          0.8989650468883212,
          0.5455668934240379,
          1.057241830065358,
          0.7632063086104033,
          1.3687109974424523,
          1.2487254901960778,
          1.1622400362318848
         ],
         "yaxis": "y"
        }
       ],
       "layout": {
        "legend": {
         "tracegroupgap": 0
        },
        "margin": {
         "t": 60
        },
        "template": {
         "data": {
          "bar": [
           {
            "error_x": {
             "color": "#2a3f5f"
            },
            "error_y": {
             "color": "#2a3f5f"
            },
            "marker": {
             "line": {
              "color": "#E5ECF6",
              "width": 0.5
             }
            },
            "type": "bar"
           }
          ],
          "barpolar": [
           {
            "marker": {
             "line": {
              "color": "#E5ECF6",
              "width": 0.5
             }
            },
            "type": "barpolar"
           }
          ],
          "carpet": [
           {
            "aaxis": {
             "endlinecolor": "#2a3f5f",
             "gridcolor": "white",
             "linecolor": "white",
             "minorgridcolor": "white",
             "startlinecolor": "#2a3f5f"
            },
            "baxis": {
             "endlinecolor": "#2a3f5f",
             "gridcolor": "white",
             "linecolor": "white",
             "minorgridcolor": "white",
             "startlinecolor": "#2a3f5f"
            },
            "type": "carpet"
           }
          ],
          "choropleth": [
           {
            "colorbar": {
             "outlinewidth": 0,
             "ticks": ""
            },
            "type": "choropleth"
           }
          ],
          "contour": [
           {
            "colorbar": {
             "outlinewidth": 0,
             "ticks": ""
            },
            "colorscale": [
             [
              0,
              "#0d0887"
             ],
             [
              0.1111111111111111,
              "#46039f"
             ],
             [
              0.2222222222222222,
              "#7201a8"
             ],
             [
              0.3333333333333333,
              "#9c179e"
             ],
             [
              0.4444444444444444,
              "#bd3786"
             ],
             [
              0.5555555555555556,
              "#d8576b"
             ],
             [
              0.6666666666666666,
              "#ed7953"
             ],
             [
              0.7777777777777778,
              "#fb9f3a"
             ],
             [
              0.8888888888888888,
              "#fdca26"
             ],
             [
              1,
              "#f0f921"
             ]
            ],
            "type": "contour"
           }
          ],
          "contourcarpet": [
           {
            "colorbar": {
             "outlinewidth": 0,
             "ticks": ""
            },
            "type": "contourcarpet"
           }
          ],
          "heatmap": [
           {
            "colorbar": {
             "outlinewidth": 0,
             "ticks": ""
            },
            "colorscale": [
             [
              0,
              "#0d0887"
             ],
             [
              0.1111111111111111,
              "#46039f"
             ],
             [
              0.2222222222222222,
              "#7201a8"
             ],
             [
              0.3333333333333333,
              "#9c179e"
             ],
             [
              0.4444444444444444,
              "#bd3786"
             ],
             [
              0.5555555555555556,
              "#d8576b"
             ],
             [
              0.6666666666666666,
              "#ed7953"
             ],
             [
              0.7777777777777778,
              "#fb9f3a"
             ],
             [
              0.8888888888888888,
              "#fdca26"
             ],
             [
              1,
              "#f0f921"
             ]
            ],
            "type": "heatmap"
           }
          ],
          "heatmapgl": [
           {
            "colorbar": {
             "outlinewidth": 0,
             "ticks": ""
            },
            "colorscale": [
             [
              0,
              "#0d0887"
             ],
             [
              0.1111111111111111,
              "#46039f"
             ],
             [
              0.2222222222222222,
              "#7201a8"
             ],
             [
              0.3333333333333333,
              "#9c179e"
             ],
             [
              0.4444444444444444,
              "#bd3786"
             ],
             [
              0.5555555555555556,
              "#d8576b"
             ],
             [
              0.6666666666666666,
              "#ed7953"
             ],
             [
              0.7777777777777778,
              "#fb9f3a"
             ],
             [
              0.8888888888888888,
              "#fdca26"
             ],
             [
              1,
              "#f0f921"
             ]
            ],
            "type": "heatmapgl"
           }
          ],
          "histogram": [
           {
            "marker": {
             "colorbar": {
              "outlinewidth": 0,
              "ticks": ""
             }
            },
            "type": "histogram"
           }
          ],
          "histogram2d": [
           {
            "colorbar": {
             "outlinewidth": 0,
             "ticks": ""
            },
            "colorscale": [
             [
              0,
              "#0d0887"
             ],
             [
              0.1111111111111111,
              "#46039f"
             ],
             [
              0.2222222222222222,
              "#7201a8"
             ],
             [
              0.3333333333333333,
              "#9c179e"
             ],
             [
              0.4444444444444444,
              "#bd3786"
             ],
             [
              0.5555555555555556,
              "#d8576b"
             ],
             [
              0.6666666666666666,
              "#ed7953"
             ],
             [
              0.7777777777777778,
              "#fb9f3a"
             ],
             [
              0.8888888888888888,
              "#fdca26"
             ],
             [
              1,
              "#f0f921"
             ]
            ],
            "type": "histogram2d"
           }
          ],
          "histogram2dcontour": [
           {
            "colorbar": {
             "outlinewidth": 0,
             "ticks": ""
            },
            "colorscale": [
             [
              0,
              "#0d0887"
             ],
             [
              0.1111111111111111,
              "#46039f"
             ],
             [
              0.2222222222222222,
              "#7201a8"
             ],
             [
              0.3333333333333333,
              "#9c179e"
             ],
             [
              0.4444444444444444,
              "#bd3786"
             ],
             [
              0.5555555555555556,
              "#d8576b"
             ],
             [
              0.6666666666666666,
              "#ed7953"
             ],
             [
              0.7777777777777778,
              "#fb9f3a"
             ],
             [
              0.8888888888888888,
              "#fdca26"
             ],
             [
              1,
              "#f0f921"
             ]
            ],
            "type": "histogram2dcontour"
           }
          ],
          "mesh3d": [
           {
            "colorbar": {
             "outlinewidth": 0,
             "ticks": ""
            },
            "type": "mesh3d"
           }
          ],
          "parcoords": [
           {
            "line": {
             "colorbar": {
              "outlinewidth": 0,
              "ticks": ""
             }
            },
            "type": "parcoords"
           }
          ],
          "pie": [
           {
            "automargin": true,
            "type": "pie"
           }
          ],
          "scatter": [
           {
            "marker": {
             "colorbar": {
              "outlinewidth": 0,
              "ticks": ""
             }
            },
            "type": "scatter"
           }
          ],
          "scatter3d": [
           {
            "line": {
             "colorbar": {
              "outlinewidth": 0,
              "ticks": ""
             }
            },
            "marker": {
             "colorbar": {
              "outlinewidth": 0,
              "ticks": ""
             }
            },
            "type": "scatter3d"
           }
          ],
          "scattercarpet": [
           {
            "marker": {
             "colorbar": {
              "outlinewidth": 0,
              "ticks": ""
             }
            },
            "type": "scattercarpet"
           }
          ],
          "scattergeo": [
           {
            "marker": {
             "colorbar": {
              "outlinewidth": 0,
              "ticks": ""
             }
            },
            "type": "scattergeo"
           }
          ],
          "scattergl": [
           {
            "marker": {
             "colorbar": {
              "outlinewidth": 0,
              "ticks": ""
             }
            },
            "type": "scattergl"
           }
          ],
          "scattermapbox": [
           {
            "marker": {
             "colorbar": {
              "outlinewidth": 0,
              "ticks": ""
             }
            },
            "type": "scattermapbox"
           }
          ],
          "scatterpolar": [
           {
            "marker": {
             "colorbar": {
              "outlinewidth": 0,
              "ticks": ""
             }
            },
            "type": "scatterpolar"
           }
          ],
          "scatterpolargl": [
           {
            "marker": {
             "colorbar": {
              "outlinewidth": 0,
              "ticks": ""
             }
            },
            "type": "scatterpolargl"
           }
          ],
          "scatterternary": [
           {
            "marker": {
             "colorbar": {
              "outlinewidth": 0,
              "ticks": ""
             }
            },
            "type": "scatterternary"
           }
          ],
          "surface": [
           {
            "colorbar": {
             "outlinewidth": 0,
             "ticks": ""
            },
            "colorscale": [
             [
              0,
              "#0d0887"
             ],
             [
              0.1111111111111111,
              "#46039f"
             ],
             [
              0.2222222222222222,
              "#7201a8"
             ],
             [
              0.3333333333333333,
              "#9c179e"
             ],
             [
              0.4444444444444444,
              "#bd3786"
             ],
             [
              0.5555555555555556,
              "#d8576b"
             ],
             [
              0.6666666666666666,
              "#ed7953"
             ],
             [
              0.7777777777777778,
              "#fb9f3a"
             ],
             [
              0.8888888888888888,
              "#fdca26"
             ],
             [
              1,
              "#f0f921"
             ]
            ],
            "type": "surface"
           }
          ],
          "table": [
           {
            "cells": {
             "fill": {
              "color": "#EBF0F8"
             },
             "line": {
              "color": "white"
             }
            },
            "header": {
             "fill": {
              "color": "#C8D4E3"
             },
             "line": {
              "color": "white"
             }
            },
            "type": "table"
           }
          ]
         },
         "layout": {
          "annotationdefaults": {
           "arrowcolor": "#2a3f5f",
           "arrowhead": 0,
           "arrowwidth": 1
          },
          "coloraxis": {
           "colorbar": {
            "outlinewidth": 0,
            "ticks": ""
           }
          },
          "colorscale": {
           "diverging": [
            [
             0,
             "#8e0152"
            ],
            [
             0.1,
             "#c51b7d"
            ],
            [
             0.2,
             "#de77ae"
            ],
            [
             0.3,
             "#f1b6da"
            ],
            [
             0.4,
             "#fde0ef"
            ],
            [
             0.5,
             "#f7f7f7"
            ],
            [
             0.6,
             "#e6f5d0"
            ],
            [
             0.7,
             "#b8e186"
            ],
            [
             0.8,
             "#7fbc41"
            ],
            [
             0.9,
             "#4d9221"
            ],
            [
             1,
             "#276419"
            ]
           ],
           "sequential": [
            [
             0,
             "#0d0887"
            ],
            [
             0.1111111111111111,
             "#46039f"
            ],
            [
             0.2222222222222222,
             "#7201a8"
            ],
            [
             0.3333333333333333,
             "#9c179e"
            ],
            [
             0.4444444444444444,
             "#bd3786"
            ],
            [
             0.5555555555555556,
             "#d8576b"
            ],
            [
             0.6666666666666666,
             "#ed7953"
            ],
            [
             0.7777777777777778,
             "#fb9f3a"
            ],
            [
             0.8888888888888888,
             "#fdca26"
            ],
            [
             1,
             "#f0f921"
            ]
           ],
           "sequentialminus": [
            [
             0,
             "#0d0887"
            ],
            [
             0.1111111111111111,
             "#46039f"
            ],
            [
             0.2222222222222222,
             "#7201a8"
            ],
            [
             0.3333333333333333,
             "#9c179e"
            ],
            [
             0.4444444444444444,
             "#bd3786"
            ],
            [
             0.5555555555555556,
             "#d8576b"
            ],
            [
             0.6666666666666666,
             "#ed7953"
            ],
            [
             0.7777777777777778,
             "#fb9f3a"
            ],
            [
             0.8888888888888888,
             "#fdca26"
            ],
            [
             1,
             "#f0f921"
            ]
           ]
          },
          "colorway": [
           "#636efa",
           "#EF553B",
           "#00cc96",
           "#ab63fa",
           "#FFA15A",
           "#19d3f3",
           "#FF6692",
           "#B6E880",
           "#FF97FF",
           "#FECB52"
          ],
          "font": {
           "color": "#2a3f5f"
          },
          "geo": {
           "bgcolor": "white",
           "lakecolor": "white",
           "landcolor": "#E5ECF6",
           "showlakes": true,
           "showland": true,
           "subunitcolor": "white"
          },
          "hoverlabel": {
           "align": "left"
          },
          "hovermode": "closest",
          "mapbox": {
           "style": "light"
          },
          "paper_bgcolor": "white",
          "plot_bgcolor": "#E5ECF6",
          "polar": {
           "angularaxis": {
            "gridcolor": "white",
            "linecolor": "white",
            "ticks": ""
           },
           "bgcolor": "#E5ECF6",
           "radialaxis": {
            "gridcolor": "white",
            "linecolor": "white",
            "ticks": ""
           }
          },
          "scene": {
           "xaxis": {
            "backgroundcolor": "#E5ECF6",
            "gridcolor": "white",
            "gridwidth": 2,
            "linecolor": "white",
            "showbackground": true,
            "ticks": "",
            "zerolinecolor": "white"
           },
           "yaxis": {
            "backgroundcolor": "#E5ECF6",
            "gridcolor": "white",
            "gridwidth": 2,
            "linecolor": "white",
            "showbackground": true,
            "ticks": "",
            "zerolinecolor": "white"
           },
           "zaxis": {
            "backgroundcolor": "#E5ECF6",
            "gridcolor": "white",
            "gridwidth": 2,
            "linecolor": "white",
            "showbackground": true,
            "ticks": "",
            "zerolinecolor": "white"
           }
          },
          "shapedefaults": {
           "line": {
            "color": "#2a3f5f"
           }
          },
          "ternary": {
           "aaxis": {
            "gridcolor": "white",
            "linecolor": "white",
            "ticks": ""
           },
           "baxis": {
            "gridcolor": "white",
            "linecolor": "white",
            "ticks": ""
           },
           "bgcolor": "#E5ECF6",
           "caxis": {
            "gridcolor": "white",
            "linecolor": "white",
            "ticks": ""
           }
          },
          "title": {
           "x": 0.05
          },
          "xaxis": {
           "automargin": true,
           "gridcolor": "white",
           "linecolor": "white",
           "ticks": "",
           "title": {
            "standoff": 15
           },
           "zerolinecolor": "white",
           "zerolinewidth": 2
          },
          "yaxis": {
           "automargin": true,
           "gridcolor": "white",
           "linecolor": "white",
           "ticks": "",
           "title": {
            "standoff": 15
           },
           "zerolinecolor": "white",
           "zerolinewidth": 2
          }
         }
        },
        "title": {
         "text": "<b></b>"
        },
        "xaxis": {
         "anchor": "y",
         "domain": [
          0,
          1
         ],
         "title": {
          "text": ""
         }
        },
        "yaxis": {
         "anchor": "x",
         "domain": [
          0,
          1
         ],
         "title": {
          "text": ""
         }
        }
       }
      }
     },
     "metadata": {},
     "output_type": "display_data"
    }
   ],
   "source": [
    "months = temperatureFranceMonth.month.unique()\n",
    "df_changement_temp_month = pd.DataFrame(columns=['month', 'diff'])\n",
    "i=0\n",
    "\n",
    "for month in months: \n",
    "    dfByMonth = temperatureFranceMonth.query(\"month==\\\"\"+month+\"\\\"\").astype({'year':'int32'})\n",
    "    try:\n",
    "        mean_val_1850_1900 = dfByMonth.query(\"year >= 1850 and year <= 1900\")[\"AverageTemperature\"].mean()\n",
    "        mean_val_1990_2013 = dfByMonth.query(\"year >= 1990 and year <= 2013\")[\"AverageTemperature\"].mean()\n",
    "\n",
    "        diff = mean_val_1990_2013-mean_val_1850_1900\n",
    "    except:\n",
    "        diff=0\n",
    "        \n",
    "    df_changement_temp_month.loc[i] = [month,diff]\n",
    "    \n",
    "    i+=1\n",
    "df_changement_temp_month = df_changement_temp_month.set_index('month').reindex([\"Janvier\",\"Février\",\"Mars\",\"Avril\",\"Mai\",\"Juin\",\"Juillet\",\"Aout\",\"Septembre\",\"Octobre\",\"Novembre\",\"Décembre\"]).reset_index()\n",
    "\n",
    "fig = px.line(\n",
    "        df_changement_temp_month,x='month', y='diff'\n",
    "        )\n",
    "    \n",
    "fig.update_layout(title='<b></b>',xaxis_title='', yaxis_title='')\n",
    "fig.show() "
   ]
  },
  {
   "cell_type": "markdown",
   "metadata": {},
   "source": [
    "# Temperature moyenne par an à Rennes"
   ]
  },
  {
   "cell_type": "code",
   "execution_count": 17,
   "metadata": {},
   "outputs": [
    {
     "data": {
      "text/html": "<div>\n<style scoped>\n    .dataframe tbody tr th:only-of-type {\n        vertical-align: middle;\n    }\n\n    .dataframe tbody tr th {\n        vertical-align: top;\n    }\n\n    .dataframe thead th {\n        text-align: right;\n    }\n</style>\n<table border=\"1\" class=\"dataframe\">\n  <thead>\n    <tr style=\"text-align: right;\">\n      <th></th>\n      <th>dt</th>\n      <th>AverageTemperature</th>\n      <th>AverageTemperatureUncertainty</th>\n      <th>City</th>\n      <th>Country</th>\n      <th>Latitude</th>\n      <th>Longitude</th>\n    </tr>\n  </thead>\n  <tbody>\n    <tr>\n      <th>0</th>\n      <td>1743-11-01</td>\n      <td>6.068</td>\n      <td>1.737</td>\n      <td>Århus</td>\n      <td>Denmark</td>\n      <td>57.05N</td>\n      <td>10.33E</td>\n    </tr>\n    <tr>\n      <th>1</th>\n      <td>1743-12-01</td>\n      <td>NaN</td>\n      <td>NaN</td>\n      <td>Århus</td>\n      <td>Denmark</td>\n      <td>57.05N</td>\n      <td>10.33E</td>\n    </tr>\n    <tr>\n      <th>2</th>\n      <td>1744-01-01</td>\n      <td>NaN</td>\n      <td>NaN</td>\n      <td>Århus</td>\n      <td>Denmark</td>\n      <td>57.05N</td>\n      <td>10.33E</td>\n    </tr>\n    <tr>\n      <th>3</th>\n      <td>1744-02-01</td>\n      <td>NaN</td>\n      <td>NaN</td>\n      <td>Århus</td>\n      <td>Denmark</td>\n      <td>57.05N</td>\n      <td>10.33E</td>\n    </tr>\n    <tr>\n      <th>4</th>\n      <td>1744-03-01</td>\n      <td>NaN</td>\n      <td>NaN</td>\n      <td>Århus</td>\n      <td>Denmark</td>\n      <td>57.05N</td>\n      <td>10.33E</td>\n    </tr>\n  </tbody>\n</table>\n</div>",
      "text/plain": "           dt  AverageTemperature  AverageTemperatureUncertainty   City  \\\n0  1743-11-01               6.068                          1.737  Århus   \n1  1743-12-01                 NaN                            NaN  Århus   \n2  1744-01-01                 NaN                            NaN  Århus   \n3  1744-02-01                 NaN                            NaN  Århus   \n4  1744-03-01                 NaN                            NaN  Århus   \n\n   Country Latitude Longitude  \n0  Denmark   57.05N    10.33E  \n1  Denmark   57.05N    10.33E  \n2  Denmark   57.05N    10.33E  \n3  Denmark   57.05N    10.33E  \n4  Denmark   57.05N    10.33E  "
     },
     "execution_count": 17,
     "metadata": {},
     "output_type": "execute_result"
    }
   ],
   "source": [
    "temperatureByCity.head()"
   ]
  },
  {
   "cell_type": "code",
   "execution_count": 18,
   "metadata": {},
   "outputs": [],
   "source": [
    "temperatureRennes = temperatureByCity.query(\"City=='Rennes'\")\n",
    "temperatureRennes['year'] = [val[0:4] for val in temperatureRennes['dt']]\n",
    "temperatureRennes = temperatureRennes.groupby('year').mean().reset_index()"
   ]
  },
  {
   "cell_type": "code",
   "execution_count": 19,
   "metadata": {},
   "outputs": [
    {
     "data": {
      "application/vnd.plotly.v1+json": {
       "config": {
        "plotlyServerURL": "https://plot.ly"
       },
       "data": [
        {
         "hoverlabel": {
          "namelength": 0
         },
         "hovertemplate": "year=%{x}<br>AverageTemperature=%{y}",
         "legendgroup": "",
         "marker": {
          "color": "#636efa",
          "symbol": "circle"
         },
         "mode": "markers",
         "name": "",
         "showlegend": false,
         "type": "scatter",
         "x": [
          "1744",
          "1750",
          "1751",
          "1753",
          "1754",
          "1755",
          "1756",
          "1757",
          "1758",
          "1759",
          "1760",
          "1761",
          "1762",
          "1763",
          "1764",
          "1765",
          "1766",
          "1767",
          "1768",
          "1769",
          "1770",
          "1771",
          "1772",
          "1773",
          "1774",
          "1775",
          "1776",
          "1777",
          "1778",
          "1779",
          "1780",
          "1781",
          "1782",
          "1783",
          "1784",
          "1785",
          "1786",
          "1787",
          "1788",
          "1789",
          "1790",
          "1791",
          "1792",
          "1793",
          "1794",
          "1795",
          "1796",
          "1797",
          "1798",
          "1799",
          "1800",
          "1801",
          "1802",
          "1803",
          "1804",
          "1805",
          "1806",
          "1807",
          "1808",
          "1809",
          "1810",
          "1811",
          "1812",
          "1813",
          "1814",
          "1815",
          "1816",
          "1817",
          "1818",
          "1819",
          "1820",
          "1821",
          "1822",
          "1823",
          "1824",
          "1825",
          "1826",
          "1827",
          "1828",
          "1829",
          "1830",
          "1831",
          "1832",
          "1833",
          "1834",
          "1835",
          "1836",
          "1837",
          "1838",
          "1839",
          "1840",
          "1841",
          "1842",
          "1843",
          "1844",
          "1845",
          "1846",
          "1847",
          "1848",
          "1849",
          "1850",
          "1851",
          "1852",
          "1853",
          "1854",
          "1855",
          "1856",
          "1857",
          "1858",
          "1859",
          "1860",
          "1861",
          "1862",
          "1863",
          "1864",
          "1865",
          "1866",
          "1867",
          "1868",
          "1869",
          "1870",
          "1871",
          "1872",
          "1873",
          "1874",
          "1875",
          "1876",
          "1877",
          "1878",
          "1879",
          "1880",
          "1881",
          "1882",
          "1883",
          "1884",
          "1885",
          "1886",
          "1887",
          "1888",
          "1889",
          "1890",
          "1891",
          "1892",
          "1893",
          "1894",
          "1895",
          "1896",
          "1897",
          "1898",
          "1899",
          "1900",
          "1901",
          "1902",
          "1903",
          "1904",
          "1905",
          "1906",
          "1907",
          "1908",
          "1909",
          "1910",
          "1911",
          "1912",
          "1913",
          "1914",
          "1915",
          "1916",
          "1917",
          "1918",
          "1919",
          "1920",
          "1921",
          "1922",
          "1923",
          "1924",
          "1925",
          "1926",
          "1927",
          "1928",
          "1929",
          "1930",
          "1931",
          "1932",
          "1933",
          "1934",
          "1935",
          "1936",
          "1937",
          "1938",
          "1939",
          "1940",
          "1941",
          "1942",
          "1943",
          "1944",
          "1945",
          "1946",
          "1947",
          "1948",
          "1949",
          "1950",
          "1951",
          "1952",
          "1953",
          "1954",
          "1955",
          "1956",
          "1957",
          "1958",
          "1959",
          "1960",
          "1961",
          "1962",
          "1963",
          "1964",
          "1965",
          "1966",
          "1967",
          "1968",
          "1969",
          "1970",
          "1971",
          "1972",
          "1973",
          "1974",
          "1975",
          "1976",
          "1977",
          "1978",
          "1979",
          "1980",
          "1981",
          "1982",
          "1983",
          "1984",
          "1985",
          "1986",
          "1987",
          "1988",
          "1989",
          "1991",
          "1992",
          "1993",
          "1994",
          "1995",
          "1996",
          "1997",
          "1998",
          "1999",
          "2000",
          "2001",
          "2002",
          "2004",
          "2005",
          "2006",
          "2007",
          "2008",
          "2009",
          "2010",
          "2012",
          "2013"
         ],
         "xaxis": "x",
         "y": [
          12.254,
          11.916181818181819,
          12.042875,
          11.2465,
          11.09966666666667,
          10.773249999999999,
          11.091083333333332,
          10.926,
          10.307333333333334,
          11.382333333333337,
          11.110583333333336,
          11.346916666666665,
          10.989333333333333,
          10.645499999999998,
          11.099083333333333,
          11.016499999999999,
          10.889083333333332,
          11.010083333333332,
          10.869333333333332,
          10.938833333333333,
          10.794583333333334,
          11.031333333333334,
          11.773416666666664,
          10.960583333333332,
          11.241999999999999,
          11.68608333333333,
          11.135916666666668,
          11.06391666666667,
          11.554333333333332,
          11.995666666666667,
          11.669166666666667,
          12.080333333333334,
          10.376166666666666,
          11.619666666666667,
          10.516666666666667,
          10.532583333333333,
          10.702166666666665,
          11.33925,
          11.500750000000002,
          10.641833333333333,
          11.46525,
          11.447249999999997,
          11.425000000000002,
          11.458083333333333,
          11.705,
          11.223916666666668,
          11.111916666666668,
          11.155666666666667,
          11.356333333333332,
          10.14775,
          11.433749999999998,
          11.489833333333335,
          11.455083333333333,
          11.049583333333333,
          11.59425,
          10.411083333333332,
          11.807083333333333,
          10.917583333333335,
          10.32,
          10.615083333333335,
          10.587333333333333,
          11.523083333333334,
          10.217833333333333,
          10.575000000000001,
          9.969000000000001,
          10.781833333333333,
          9.749749999999997,
          10.883666666666668,
          11.572916666666666,
          11.252416666666669,
          10.569666666666667,
          11.53325,
          12.049833333333334,
          10.77775,
          11.287166666666666,
          11.615666666666668,
          11.379083333333334,
          11.036833333333334,
          11.837666666666665,
          9.9095,
          10.676666666666668,
          11.534833333333333,
          10.967166666666666,
          11.084249999999997,
          12.227333333333332,
          11.010666666666665,
          10.9555,
          10.732083333333334,
          10.433750000000002,
          10.915750000000001,
          10.541833333333335,
          10.861166666666668,
          10.875833333333333,
          11.156,
          10.784416666666665,
          10.469833333333334,
          12.011249999999999,
          10.98925,
          11.070083333333331,
          11.223,
          10.846916666666667,
          10.696333333333333,
          11.812666666666667,
          10.200750000000001,
          11.128833333333334,
          10.0305,
          11.311000000000002,
          11.716416666666667,
          11.093833333333334,
          11.87266666666667,
          10.188833333333333,
          11.216333333333333,
          11.39583333333333,
          11.424500000000002,
          10.745166666666664,
          11.530666666666663,
          11.608583333333334,
          11.075083333333334,
          11.985583333333333,
          11.301166666666667,
          10.865499999999997,
          10.559583333333332,
          11.47991666666667,
          10.953833333333334,
          11.210166666666666,
          11.099416666666665,
          11.387250000000002,
          11.318916666666667,
          10.888166666666669,
          9.637416666666667,
          11.192833333333333,
          10.873083333333335,
          10.959583333333333,
          10.6825,
          11.279083333333334,
          10.528416666666667,
          10.8555,
          9.980166666666667,
          10.043583333333332,
          10.31975,
          10.319916666666666,
          10.390916666666667,
          10.723,
          11.683083333333334,
          10.951083333333335,
          10.906666666666666,
          10.61625,
          11.425249999999998,
          11.53625,
          11.838916666666664,
          11.485999999999999,
          10.718000000000002,
          10.750083333333334,
          11.062916666666666,
          11.271916666666668,
          10.856499999999999,
          11.3055,
          10.974000000000002,
          11.040416666666667,
          10.532000000000002,
          11.015500000000001,
          11.756583333333332,
          11.073666666666668,
          11.523750000000001,
          11.295416666666668,
          10.983583333333334,
          11.063083333333331,
          10.287583333333334,
          11.256916666666664,
          10.635083333333334,
          11.505416666666667,
          12.166916666666665,
          10.824583333333331,
          11.264083333333334,
          11.117666666666667,
          10.811416666666666,
          11.608833333333335,
          11.117750000000001,
          11.769499999999999,
          11.139833333333334,
          11.576166666666666,
          10.924416666666668,
          11.10425,
          11.276083333333334,
          11.563333333333333,
          11.215416666666668,
          11.30925,
          11.742999999999997,
          11.488583333333333,
          11.214916666666667,
          10.939166666666667,
          10.584583333333335,
          10.909083333333333,
          12.106500000000002,
          11.3605,
          11.879666666666665,
          11.075000000000001,
          12.135750000000002,
          11.875416666666668,
          12.413083333333331,
          11.576749999999999,
          11.274083333333332,
          11.394583333333332,
          11.470583333333332,
          11.079666666666668,
          11.584833333333334,
          10.406666666666668,
          11.604666666666667,
          11.3525,
          12.371499999999997,
          11.587416666666668,
          12.139416666666664,
          10.64525,
          10.108083333333331,
          11.170916666666665,
          10.847666666666667,
          11.759083333333335,
          11.378749999999998,
          11.260833333333336,
          11.450333333333333,
          11.372583333333337,
          11.329166666666666,
          10.897583333333335,
          11.238083333333336,
          11.493083333333333,
          11.474916666666665,
          11.94491666666667,
          11.378166666666667,
          11.140250000000002,
          11.075750000000001,
          10.869333333333332,
          11.61425,
          12.284999999999998,
          11.917000000000002,
          11.644416666666665,
          10.900500000000001,
          10.895750000000001,
          11.004666666666667,
          12.014416666666667,
          12.625666666666666,
          11.38125,
          11.834166666666668,
          11.45375,
          12.699083333333334,
          12.582666666666666,
          11.381666666666666,
          12.586416666666667,
          12.042749999999998,
          12.689166666666667,
          12.375750000000002,
          12.127416666666667,
          12.514583333333334,
          12.133333333333331,
          12.288166666666667,
          12.578750000000001,
          12.355083333333335,
          11.921416666666671,
          12.16625,
          11.289833333333334,
          11.985999999999999,
          11.978
         ],
         "yaxis": "y"
        }
       ],
       "layout": {
        "legend": {
         "tracegroupgap": 0
        },
        "margin": {
         "t": 60
        },
        "template": {
         "data": {
          "bar": [
           {
            "error_x": {
             "color": "#2a3f5f"
            },
            "error_y": {
             "color": "#2a3f5f"
            },
            "marker": {
             "line": {
              "color": "#E5ECF6",
              "width": 0.5
             }
            },
            "type": "bar"
           }
          ],
          "barpolar": [
           {
            "marker": {
             "line": {
              "color": "#E5ECF6",
              "width": 0.5
             }
            },
            "type": "barpolar"
           }
          ],
          "carpet": [
           {
            "aaxis": {
             "endlinecolor": "#2a3f5f",
             "gridcolor": "white",
             "linecolor": "white",
             "minorgridcolor": "white",
             "startlinecolor": "#2a3f5f"
            },
            "baxis": {
             "endlinecolor": "#2a3f5f",
             "gridcolor": "white",
             "linecolor": "white",
             "minorgridcolor": "white",
             "startlinecolor": "#2a3f5f"
            },
            "type": "carpet"
           }
          ],
          "choropleth": [
           {
            "colorbar": {
             "outlinewidth": 0,
             "ticks": ""
            },
            "type": "choropleth"
           }
          ],
          "contour": [
           {
            "colorbar": {
             "outlinewidth": 0,
             "ticks": ""
            },
            "colorscale": [
             [
              0,
              "#0d0887"
             ],
             [
              0.1111111111111111,
              "#46039f"
             ],
             [
              0.2222222222222222,
              "#7201a8"
             ],
             [
              0.3333333333333333,
              "#9c179e"
             ],
             [
              0.4444444444444444,
              "#bd3786"
             ],
             [
              0.5555555555555556,
              "#d8576b"
             ],
             [
              0.6666666666666666,
              "#ed7953"
             ],
             [
              0.7777777777777778,
              "#fb9f3a"
             ],
             [
              0.8888888888888888,
              "#fdca26"
             ],
             [
              1,
              "#f0f921"
             ]
            ],
            "type": "contour"
           }
          ],
          "contourcarpet": [
           {
            "colorbar": {
             "outlinewidth": 0,
             "ticks": ""
            },
            "type": "contourcarpet"
           }
          ],
          "heatmap": [
           {
            "colorbar": {
             "outlinewidth": 0,
             "ticks": ""
            },
            "colorscale": [
             [
              0,
              "#0d0887"
             ],
             [
              0.1111111111111111,
              "#46039f"
             ],
             [
              0.2222222222222222,
              "#7201a8"
             ],
             [
              0.3333333333333333,
              "#9c179e"
             ],
             [
              0.4444444444444444,
              "#bd3786"
             ],
             [
              0.5555555555555556,
              "#d8576b"
             ],
             [
              0.6666666666666666,
              "#ed7953"
             ],
             [
              0.7777777777777778,
              "#fb9f3a"
             ],
             [
              0.8888888888888888,
              "#fdca26"
             ],
             [
              1,
              "#f0f921"
             ]
            ],
            "type": "heatmap"
           }
          ],
          "heatmapgl": [
           {
            "colorbar": {
             "outlinewidth": 0,
             "ticks": ""
            },
            "colorscale": [
             [
              0,
              "#0d0887"
             ],
             [
              0.1111111111111111,
              "#46039f"
             ],
             [
              0.2222222222222222,
              "#7201a8"
             ],
             [
              0.3333333333333333,
              "#9c179e"
             ],
             [
              0.4444444444444444,
              "#bd3786"
             ],
             [
              0.5555555555555556,
              "#d8576b"
             ],
             [
              0.6666666666666666,
              "#ed7953"
             ],
             [
              0.7777777777777778,
              "#fb9f3a"
             ],
             [
              0.8888888888888888,
              "#fdca26"
             ],
             [
              1,
              "#f0f921"
             ]
            ],
            "type": "heatmapgl"
           }
          ],
          "histogram": [
           {
            "marker": {
             "colorbar": {
              "outlinewidth": 0,
              "ticks": ""
             }
            },
            "type": "histogram"
           }
          ],
          "histogram2d": [
           {
            "colorbar": {
             "outlinewidth": 0,
             "ticks": ""
            },
            "colorscale": [
             [
              0,
              "#0d0887"
             ],
             [
              0.1111111111111111,
              "#46039f"
             ],
             [
              0.2222222222222222,
              "#7201a8"
             ],
             [
              0.3333333333333333,
              "#9c179e"
             ],
             [
              0.4444444444444444,
              "#bd3786"
             ],
             [
              0.5555555555555556,
              "#d8576b"
             ],
             [
              0.6666666666666666,
              "#ed7953"
             ],
             [
              0.7777777777777778,
              "#fb9f3a"
             ],
             [
              0.8888888888888888,
              "#fdca26"
             ],
             [
              1,
              "#f0f921"
             ]
            ],
            "type": "histogram2d"
           }
          ],
          "histogram2dcontour": [
           {
            "colorbar": {
             "outlinewidth": 0,
             "ticks": ""
            },
            "colorscale": [
             [
              0,
              "#0d0887"
             ],
             [
              0.1111111111111111,
              "#46039f"
             ],
             [
              0.2222222222222222,
              "#7201a8"
             ],
             [
              0.3333333333333333,
              "#9c179e"
             ],
             [
              0.4444444444444444,
              "#bd3786"
             ],
             [
              0.5555555555555556,
              "#d8576b"
             ],
             [
              0.6666666666666666,
              "#ed7953"
             ],
             [
              0.7777777777777778,
              "#fb9f3a"
             ],
             [
              0.8888888888888888,
              "#fdca26"
             ],
             [
              1,
              "#f0f921"
             ]
            ],
            "type": "histogram2dcontour"
           }
          ],
          "mesh3d": [
           {
            "colorbar": {
             "outlinewidth": 0,
             "ticks": ""
            },
            "type": "mesh3d"
           }
          ],
          "parcoords": [
           {
            "line": {
             "colorbar": {
              "outlinewidth": 0,
              "ticks": ""
             }
            },
            "type": "parcoords"
           }
          ],
          "pie": [
           {
            "automargin": true,
            "type": "pie"
           }
          ],
          "scatter": [
           {
            "marker": {
             "colorbar": {
              "outlinewidth": 0,
              "ticks": ""
             }
            },
            "type": "scatter"
           }
          ],
          "scatter3d": [
           {
            "line": {
             "colorbar": {
              "outlinewidth": 0,
              "ticks": ""
             }
            },
            "marker": {
             "colorbar": {
              "outlinewidth": 0,
              "ticks": ""
             }
            },
            "type": "scatter3d"
           }
          ],
          "scattercarpet": [
           {
            "marker": {
             "colorbar": {
              "outlinewidth": 0,
              "ticks": ""
             }
            },
            "type": "scattercarpet"
           }
          ],
          "scattergeo": [
           {
            "marker": {
             "colorbar": {
              "outlinewidth": 0,
              "ticks": ""
             }
            },
            "type": "scattergeo"
           }
          ],
          "scattergl": [
           {
            "marker": {
             "colorbar": {
              "outlinewidth": 0,
              "ticks": ""
             }
            },
            "type": "scattergl"
           }
          ],
          "scattermapbox": [
           {
            "marker": {
             "colorbar": {
              "outlinewidth": 0,
              "ticks": ""
             }
            },
            "type": "scattermapbox"
           }
          ],
          "scatterpolar": [
           {
            "marker": {
             "colorbar": {
              "outlinewidth": 0,
              "ticks": ""
             }
            },
            "type": "scatterpolar"
           }
          ],
          "scatterpolargl": [
           {
            "marker": {
             "colorbar": {
              "outlinewidth": 0,
              "ticks": ""
             }
            },
            "type": "scatterpolargl"
           }
          ],
          "scatterternary": [
           {
            "marker": {
             "colorbar": {
              "outlinewidth": 0,
              "ticks": ""
             }
            },
            "type": "scatterternary"
           }
          ],
          "surface": [
           {
            "colorbar": {
             "outlinewidth": 0,
             "ticks": ""
            },
            "colorscale": [
             [
              0,
              "#0d0887"
             ],
             [
              0.1111111111111111,
              "#46039f"
             ],
             [
              0.2222222222222222,
              "#7201a8"
             ],
             [
              0.3333333333333333,
              "#9c179e"
             ],
             [
              0.4444444444444444,
              "#bd3786"
             ],
             [
              0.5555555555555556,
              "#d8576b"
             ],
             [
              0.6666666666666666,
              "#ed7953"
             ],
             [
              0.7777777777777778,
              "#fb9f3a"
             ],
             [
              0.8888888888888888,
              "#fdca26"
             ],
             [
              1,
              "#f0f921"
             ]
            ],
            "type": "surface"
           }
          ],
          "table": [
           {
            "cells": {
             "fill": {
              "color": "#EBF0F8"
             },
             "line": {
              "color": "white"
             }
            },
            "header": {
             "fill": {
              "color": "#C8D4E3"
             },
             "line": {
              "color": "white"
             }
            },
            "type": "table"
           }
          ]
         },
         "layout": {
          "annotationdefaults": {
           "arrowcolor": "#2a3f5f",
           "arrowhead": 0,
           "arrowwidth": 1
          },
          "coloraxis": {
           "colorbar": {
            "outlinewidth": 0,
            "ticks": ""
           }
          },
          "colorscale": {
           "diverging": [
            [
             0,
             "#8e0152"
            ],
            [
             0.1,
             "#c51b7d"
            ],
            [
             0.2,
             "#de77ae"
            ],
            [
             0.3,
             "#f1b6da"
            ],
            [
             0.4,
             "#fde0ef"
            ],
            [
             0.5,
             "#f7f7f7"
            ],
            [
             0.6,
             "#e6f5d0"
            ],
            [
             0.7,
             "#b8e186"
            ],
            [
             0.8,
             "#7fbc41"
            ],
            [
             0.9,
             "#4d9221"
            ],
            [
             1,
             "#276419"
            ]
           ],
           "sequential": [
            [
             0,
             "#0d0887"
            ],
            [
             0.1111111111111111,
             "#46039f"
            ],
            [
             0.2222222222222222,
             "#7201a8"
            ],
            [
             0.3333333333333333,
             "#9c179e"
            ],
            [
             0.4444444444444444,
             "#bd3786"
            ],
            [
             0.5555555555555556,
             "#d8576b"
            ],
            [
             0.6666666666666666,
             "#ed7953"
            ],
            [
             0.7777777777777778,
             "#fb9f3a"
            ],
            [
             0.8888888888888888,
             "#fdca26"
            ],
            [
             1,
             "#f0f921"
            ]
           ],
           "sequentialminus": [
            [
             0,
             "#0d0887"
            ],
            [
             0.1111111111111111,
             "#46039f"
            ],
            [
             0.2222222222222222,
             "#7201a8"
            ],
            [
             0.3333333333333333,
             "#9c179e"
            ],
            [
             0.4444444444444444,
             "#bd3786"
            ],
            [
             0.5555555555555556,
             "#d8576b"
            ],
            [
             0.6666666666666666,
             "#ed7953"
            ],
            [
             0.7777777777777778,
             "#fb9f3a"
            ],
            [
             0.8888888888888888,
             "#fdca26"
            ],
            [
             1,
             "#f0f921"
            ]
           ]
          },
          "colorway": [
           "#636efa",
           "#EF553B",
           "#00cc96",
           "#ab63fa",
           "#FFA15A",
           "#19d3f3",
           "#FF6692",
           "#B6E880",
           "#FF97FF",
           "#FECB52"
          ],
          "font": {
           "color": "#2a3f5f"
          },
          "geo": {
           "bgcolor": "white",
           "lakecolor": "white",
           "landcolor": "#E5ECF6",
           "showlakes": true,
           "showland": true,
           "subunitcolor": "white"
          },
          "hoverlabel": {
           "align": "left"
          },
          "hovermode": "closest",
          "mapbox": {
           "style": "light"
          },
          "paper_bgcolor": "white",
          "plot_bgcolor": "#E5ECF6",
          "polar": {
           "angularaxis": {
            "gridcolor": "white",
            "linecolor": "white",
            "ticks": ""
           },
           "bgcolor": "#E5ECF6",
           "radialaxis": {
            "gridcolor": "white",
            "linecolor": "white",
            "ticks": ""
           }
          },
          "scene": {
           "xaxis": {
            "backgroundcolor": "#E5ECF6",
            "gridcolor": "white",
            "gridwidth": 2,
            "linecolor": "white",
            "showbackground": true,
            "ticks": "",
            "zerolinecolor": "white"
           },
           "yaxis": {
            "backgroundcolor": "#E5ECF6",
            "gridcolor": "white",
            "gridwidth": 2,
            "linecolor": "white",
            "showbackground": true,
            "ticks": "",
            "zerolinecolor": "white"
           },
           "zaxis": {
            "backgroundcolor": "#E5ECF6",
            "gridcolor": "white",
            "gridwidth": 2,
            "linecolor": "white",
            "showbackground": true,
            "ticks": "",
            "zerolinecolor": "white"
           }
          },
          "shapedefaults": {
           "line": {
            "color": "#2a3f5f"
           }
          },
          "ternary": {
           "aaxis": {
            "gridcolor": "white",
            "linecolor": "white",
            "ticks": ""
           },
           "baxis": {
            "gridcolor": "white",
            "linecolor": "white",
            "ticks": ""
           },
           "bgcolor": "#E5ECF6",
           "caxis": {
            "gridcolor": "white",
            "linecolor": "white",
            "ticks": ""
           }
          },
          "title": {
           "x": 0.05
          },
          "xaxis": {
           "automargin": true,
           "gridcolor": "white",
           "linecolor": "white",
           "ticks": "",
           "title": {
            "standoff": 15
           },
           "zerolinecolor": "white",
           "zerolinewidth": 2
          },
          "yaxis": {
           "automargin": true,
           "gridcolor": "white",
           "linecolor": "white",
           "ticks": "",
           "title": {
            "standoff": 15
           },
           "zerolinecolor": "white",
           "zerolinewidth": 2
          }
         }
        },
        "title": {
         "text": "<b>Evolution de la température moyenne par an à Rennes</b>"
        },
        "xaxis": {
         "anchor": "y",
         "domain": [
          0,
          1
         ],
         "title": {
          "text": ""
         }
        },
        "yaxis": {
         "anchor": "x",
         "domain": [
          0,
          1
         ],
         "title": {
          "text": ""
         }
        }
       }
      }
     },
     "metadata": {},
     "output_type": "display_data"
    }
   ],
   "source": [
    "temperatureRennes = remove_outliers(temperatureRennes,\"AverageTemperature\")\n",
    "temperatureRennes.to_csv('output_data/temperatureRennes.csv')\n",
    "fig = px.scatter(temperatureRennes,x='year', y='AverageTemperature')\n",
    "fig.update_layout(title='<b>Evolution de la température moyenne par an à Rennes</b>',xaxis_title='', yaxis_title='')\n",
    "fig.show()"
   ]
  },
  {
   "cell_type": "markdown",
   "metadata": {},
   "source": [
    "# Temperature moyenne par pays"
   ]
  },
  {
   "cell_type": "code",
   "execution_count": 20,
   "metadata": {},
   "outputs": [
    {
     "data": {
      "text/html": "<div>\n<style scoped>\n    .dataframe tbody tr th:only-of-type {\n        vertical-align: middle;\n    }\n\n    .dataframe tbody tr th {\n        vertical-align: top;\n    }\n\n    .dataframe thead th {\n        text-align: right;\n    }\n</style>\n<table border=\"1\" class=\"dataframe\">\n  <thead>\n    <tr style=\"text-align: right;\">\n      <th></th>\n      <th>Country</th>\n      <th>AverageTemperature</th>\n      <th>AverageTemperatureUncertainty</th>\n    </tr>\n  </thead>\n  <tbody>\n    <tr>\n      <th>0</th>\n      <td>Afghanistan</td>\n      <td>14.045007</td>\n      <td>0.930162</td>\n    </tr>\n    <tr>\n      <th>1</th>\n      <td>Africa</td>\n      <td>24.074203</td>\n      <td>0.395564</td>\n    </tr>\n    <tr>\n      <th>2</th>\n      <td>Albania</td>\n      <td>12.610646</td>\n      <td>1.524574</td>\n    </tr>\n    <tr>\n      <th>3</th>\n      <td>Algeria</td>\n      <td>22.985112</td>\n      <td>1.176241</td>\n    </tr>\n    <tr>\n      <th>4</th>\n      <td>American Samoa</td>\n      <td>26.611965</td>\n      <td>0.541258</td>\n    </tr>\n  </tbody>\n</table>\n</div>",
      "text/plain": "          Country  AverageTemperature  AverageTemperatureUncertainty\n0     Afghanistan           14.045007                       0.930162\n1          Africa           24.074203                       0.395564\n2         Albania           12.610646                       1.524574\n3         Algeria           22.985112                       1.176241\n4  American Samoa           26.611965                       0.541258"
     },
     "execution_count": 20,
     "metadata": {},
     "output_type": "execute_result"
    }
   ],
   "source": [
    "with open('countries.geojson', 'r') as outfile:\n",
    "    boundaries_courties = json.load(outfile)\n",
    "\n",
    "avgTemperatureCountry = temperatureByCountry.groupby('Country').mean().reset_index()\n",
    "avgTemperatureCountry.head()"
   ]
  },
  {
   "cell_type": "code",
   "execution_count": 21,
   "metadata": {},
   "outputs": [],
   "source": [
    "size_json = len(boundaries_courties[\"features\"])\n",
    "for i in range(0,size_json):\n",
    "    boundaries_courties[\"features\"][i]['id']=boundaries_courties[\"features\"][i]['properties']['ADMIN']\n"
   ]
  },
  {
   "cell_type": "code",
   "execution_count": 22,
   "metadata": {},
   "outputs": [
    {
     "data": {
      "text/plain": "'fig = px.choropleth_mapbox(avgTemperatureCountry, geojson=boundaries_courties, \\n                           locations=\\'Country\\',\\n                           color=\\'AverageTemperature\\',\\n                           color_continuous_scale=\"balance\",\\n                           range_color=(avgTemperatureCountry[\\'AverageTemperature\\'].min(), avgTemperatureCountry[\\'AverageTemperature\\'].max()),\\n                           mapbox_style=\"carto-positron\",\\n                           zoom=3, center = {\"lat\": 37.0902, \"lon\": -95.7129},\\n                           opacity=0.5,\\n                           labels={\\'AverageTemperature\\':\\'Temp moyenne\\'}\\n                          )\\nfig.update_layout(margin={\"r\":0,\"t\":0,\"l\":0,\"b\":0})\\nfig.show()'"
     },
     "execution_count": 22,
     "metadata": {},
     "output_type": "execute_result"
    }
   ],
   "source": [
    "'''fig = px.choropleth_mapbox(avgTemperatureCountry, geojson=boundaries_courties, \n",
    "                           locations='Country',\n",
    "                           color='AverageTemperature',\n",
    "                           color_continuous_scale=\"balance\",\n",
    "                           range_color=(avgTemperatureCountry['AverageTemperature'].min(), avgTemperatureCountry['AverageTemperature'].max()),\n",
    "                           mapbox_style=\"carto-positron\",\n",
    "                           zoom=3, center = {\"lat\": 37.0902, \"lon\": -95.7129},\n",
    "                           opacity=0.5,\n",
    "                           labels={'AverageTemperature':'Temp moyenne'}\n",
    "                          )\n",
    "fig.update_layout(margin={\"r\":0,\"t\":0,\"l\":0,\"b\":0})\n",
    "fig.show()'''\n"
   ]
  },
  {
   "cell_type": "markdown",
   "metadata": {
    "collapsed": false
   },
   "source": [
    "# Changement de température par pays"
   ]
  },
  {
   "cell_type": "code",
   "execution_count": 23,
   "metadata": {},
   "outputs": [
    {
     "data": {
      "text/html": "<div>\n<style scoped>\n    .dataframe tbody tr th:only-of-type {\n        vertical-align: middle;\n    }\n\n    .dataframe tbody tr th {\n        vertical-align: top;\n    }\n\n    .dataframe thead th {\n        text-align: right;\n    }\n</style>\n<table border=\"1\" class=\"dataframe\">\n  <thead>\n    <tr style=\"text-align: right;\">\n      <th></th>\n      <th>Country</th>\n      <th>year</th>\n      <th>AverageTemperature</th>\n      <th>AverageTemperatureUncertainty</th>\n    </tr>\n  </thead>\n  <tbody>\n    <tr>\n      <th>12</th>\n      <td>Afghanistan</td>\n      <td>1850</td>\n      <td>13.326083</td>\n      <td>1.961917</td>\n    </tr>\n    <tr>\n      <th>13</th>\n      <td>Afghanistan</td>\n      <td>1851</td>\n      <td>13.605667</td>\n      <td>2.048500</td>\n    </tr>\n    <tr>\n      <th>14</th>\n      <td>Afghanistan</td>\n      <td>1852</td>\n      <td>13.541167</td>\n      <td>2.253833</td>\n    </tr>\n    <tr>\n      <th>15</th>\n      <td>Afghanistan</td>\n      <td>1853</td>\n      <td>13.455833</td>\n      <td>2.112833</td>\n    </tr>\n    <tr>\n      <th>16</th>\n      <td>Afghanistan</td>\n      <td>1854</td>\n      <td>13.605750</td>\n      <td>2.213333</td>\n    </tr>\n  </tbody>\n</table>\n</div>",
      "text/plain": "        Country  year  AverageTemperature  AverageTemperatureUncertainty\n12  Afghanistan  1850           13.326083                       1.961917\n13  Afghanistan  1851           13.605667                       2.048500\n14  Afghanistan  1852           13.541167                       2.253833\n15  Afghanistan  1853           13.455833                       2.112833\n16  Afghanistan  1854           13.605750                       2.213333"
     },
     "execution_count": 23,
     "metadata": {},
     "output_type": "execute_result"
    }
   ],
   "source": [
    "temperatureByCountry['year'] = [val[0:4] for val in temperatureByCountry['dt']]\n",
    "temperatureByCountry = temperatureByCountry.astype({'year': 'int32'})\n",
    "avgYearCountry = temperatureByCountry.groupby(['Country','year']).mean().reset_index()\n",
    "avgYearCountry = avgYearCountry.query(\"year >= 1850\")\n",
    "avgYearCountry.head()"
   ]
  },
  {
   "cell_type": "code",
   "execution_count": 24,
   "metadata": {},
   "outputs": [],
   "source": [
    "countries = avgYearCountry.Country.unique()\n",
    "df_changement_temp = pd.DataFrame(columns=['Country', 'diff'])\n",
    "i=0\n",
    "\n",
    "for country in countries: \n",
    "    dfByCountry = avgYearCountry.query(\"Country==\\\"\"+country+\"\\\"\")\n",
    "    try:\n",
    "        mean_val_1850_1900 = dfByCountry.query(\"year >= 1850 and year <= 1900\")[\"AverageTemperature\"].mean()\n",
    "        mean_val_1990_2013 = dfByCountry.query(\"year >= 1990 and year <= 2013\")[\"AverageTemperature\"].mean()\n",
    "        diff = mean_val_1990_2013-mean_val_1850_1900\n",
    "\n",
    "    except :\n",
    "        diff = 0\n",
    "        \n",
    "    df_changement_temp.loc[i] = [country,diff]\n",
    "    \n",
    "    i+=1\n",
    "\n"
   ]
  },
  {
   "cell_type": "code",
   "execution_count": 26,
   "metadata": {},
   "outputs": [
    {
     "data": {
      "text/plain": "'fig = px.choropleth_mapbox(df_changement_temp, geojson=boundaries_courties, \\n                           locations=\\'Country\\',\\n                           color=\\'diff\\',\\n                           color_continuous_scale=\"balance\",\\n                           range_color=(df_changement_temp[\\'diff\\'].min(), df_changement_temp[\\'diff\\'].max()),\\n                           mapbox_style=\"carto-positron\",\\n                           zoom=3, center = {\"lat\": 37.0902, \"lon\": -95.7129},\\n                           opacity=0.5,\\n                           labels={\\'diff\\':\\'Difference de temp.\\'}\\n                          )\\nfig.update_layout(margin={\"r\":0,\"t\":0,\"l\":0,\"b\":0})\\nfig.show()'"
     },
     "execution_count": 26,
     "metadata": {},
     "output_type": "execute_result"
    }
   ],
   "source": [
    "'''fig = px.choropleth_mapbox(df_changement_temp, geojson=boundaries_courties, \n",
    "                           locations='Country',\n",
    "                           color='diff',\n",
    "                           color_continuous_scale=\"balance\",\n",
    "                           range_color=(df_changement_temp['diff'].min(), df_changement_temp['diff'].max()),\n",
    "                           mapbox_style=\"carto-positron\",\n",
    "                           zoom=3, center = {\"lat\": 37.0902, \"lon\": -95.7129},\n",
    "                           opacity=0.5,\n",
    "                           labels={'diff':'Difference de temp.'}\n",
    "                          )\n",
    "fig.update_layout(margin={\"r\":0,\"t\":0,\"l\":0,\"b\":0})\n",
    "fig.show()'''\n"
   ]
  },
  {
   "cell_type": "code",
   "execution_count": null,
   "metadata": {
    "collapsed": true
   },
   "outputs": [],
   "source": []
  },
  {
   "cell_type": "code",
   "execution_count": null,
   "metadata": {
    "collapsed": true
   },
   "outputs": [],
   "source": []
  }
 ],
 "metadata": {
  "kernelspec": {
   "display_name": "Python 3",
   "language": "python",
   "name": "python3"
  },
  "language_info": {
   "codemirror_mode": {
    "name": "ipython",
    "version": 3
   },
   "file_extension": ".py",
   "mimetype": "text/x-python",
   "name": "python",
   "nbconvert_exporter": "python",
   "pygments_lexer": "ipython3",
   "version": "3.6.4-final"
  }
 },
 "nbformat": 4,
 "nbformat_minor": 2
}